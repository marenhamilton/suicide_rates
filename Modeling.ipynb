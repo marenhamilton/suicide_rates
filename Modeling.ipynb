{
 "cells": [
  {
   "cell_type": "markdown",
   "metadata": {},
   "source": [
    "# Project 2 part 3\n",
    "Running a bunch of models on different datasets"
   ]
  },
  {
   "cell_type": "code",
   "execution_count": 74,
   "metadata": {},
   "outputs": [],
   "source": [
    "from sklearn.model_selection import train_test_split\n",
    "from sklearn.linear_model import LinearRegression, Lasso, LassoCV, Ridge, RidgeCV\n",
    "from sklearn.metrics import r2_score\n",
    "from sklearn.model_selection import cross_val_score,cross_val_predict\n",
    "from sklearn.preprocessing import StandardScaler, PolynomialFeatures\n",
    "from sklearn.model_selection import KFold\n",
    "\n",
    "from copy import deepcopy\n",
    "\n",
    "import statistics\n",
    "import numpy as np\n",
    "import pandas as pd"
   ]
  },
  {
   "cell_type": "code",
   "execution_count": 75,
   "metadata": {},
   "outputs": [],
   "source": [
    "kf = KFold(10,shuffle=True,random_state=8)"
   ]
  },
  {
   "cell_type": "code",
   "execution_count": 76,
   "metadata": {},
   "outputs": [],
   "source": [
    "engineered = pd.read_pickle('engineerd.pkl')\n",
    "basic = pd.read_pickle('eng_no_com.pkl')\n",
    "test = pd.read_pickle('whole_test.pkl')"
   ]
  },
  {
   "cell_type": "code",
   "execution_count": 4,
   "metadata": {},
   "outputs": [],
   "source": [
    "#get features\n",
    "X_eng = engineered.iloc[:,1:]\n",
    "X_base = basic.iloc[:,1:]\n",
    "X_test = test.iloc[:,1:]\n",
    "#get dependent variable\n",
    "y_test = test.iloc[:,0]\n",
    "y = engineered.iloc[:,0]"
   ]
  },
  {
   "cell_type": "code",
   "execution_count": null,
   "metadata": {},
   "outputs": [],
   "source": []
  },
  {
   "cell_type": "code",
   "execution_count": null,
   "metadata": {},
   "outputs": [],
   "source": [
    "#getting alphas to run models"
   ]
  },
  {
   "cell_type": "code",
   "execution_count": 5,
   "metadata": {},
   "outputs": [],
   "source": [
    "scaler = StandardScaler()\n",
    "X_scaled = scaler.fit_transform(X_eng)"
   ]
  },
  {
   "cell_type": "code",
   "execution_count": 6,
   "metadata": {},
   "outputs": [],
   "source": [
    "#determine best alpha for lasso on X_eng data\n",
    "eng_Lasso = LassoCV(alphas = 10**np.linspace(-10,10,1001),cv = kf)\n",
    "lass_results = eng_Lasso.fit(X_scaled,y)\n",
    "best_alpha_l_eng = lass_results.alpha_"
   ]
  },
  {
   "cell_type": "code",
   "execution_count": 9,
   "metadata": {},
   "outputs": [
    {
     "name": "stderr",
     "output_type": "stream",
     "text": [
      "/anaconda3/lib/python3.7/site-packages/sklearn/model_selection/_search.py:841: DeprecationWarning: The default of the `iid` parameter will change from True to False in version 0.22 and will be removed in 0.24. This will change numeric results when test-set sizes are unequal.\n",
      "  DeprecationWarning)\n"
     ]
    }
   ],
   "source": [
    "#determine best alpha for ridge on X_eng data\n",
    "eng_Ridge = RidgeCV(alphas = 10**np.linspace(-10,10,1001),cv = kf)\n",
    "rid_results = eng_Ridge.fit(X_scaled,y)\n",
    "best_alpha_r_eng = rid_results.alpha_"
   ]
  },
  {
   "cell_type": "code",
   "execution_count": 10,
   "metadata": {},
   "outputs": [],
   "source": []
  },
  {
   "cell_type": "code",
   "execution_count": 12,
   "metadata": {},
   "outputs": [],
   "source": [
    "def model_competition(feature_matrix,target_series,l_alpha,r_alpha):\n",
    "    ols = LinearRegression()\n",
    "    lasso = Lasso(alpha = l_alpha)\n",
    "    ridge = Ridge(alpha = r_alpha)\n",
    "    models = {ols:'OLS',lasso:'lasso',ridge:'ridge'}\n",
    "    for model in models.keys() :\n",
    "        if model == ols :\n",
    "            r2 = cross_val_score(model, feature_matrix, target_series,cv=kf, scoring='r2')\n",
    "            print(f'The mean r2 for {models[model]} is {np.mean(r2)} +- {np.std(r2)}.')\n",
    "        else :\n",
    "            scaler = StandardScaler()\n",
    "            X_scaled = scaler.fit_transform(feature_matrix)\n",
    "            r2 = cross_val_score(model, X_scaled, target_series,cv=kf, scoring='r2')\n",
    "            print(f'The mean r2 for {models[model]} is {np.mean(r2)} +- {np.std(r2)}.')"
   ]
  },
  {
   "cell_type": "code",
   "execution_count": 13,
   "metadata": {},
   "outputs": [
    {
     "name": "stdout",
     "output_type": "stream",
     "text": [
      "The mean r2 for OLS is 0.25519105341418247 +- 0.22419681464963265.\n",
      "The mean r2 for lasso is 0.25824503276186145 +- 0.21949260330742001.\n",
      "The mean r2 for ridge is 0.2965115396569085 +- 0.1652828930854732.\n"
     ]
    }
   ],
   "source": [
    "#baseline R2\n",
    "model_competition(feature_matrix=X_eng,\n",
    "                  target_series=y,\n",
    "                  l_alpha=best_alpha_l_eng,\n",
    "                  r_alpha=best_alpha_r_eng)"
   ]
  },
  {
   "cell_type": "code",
   "execution_count": 14,
   "metadata": {},
   "outputs": [
    {
     "name": "stdout",
     "output_type": "stream",
     "text": [
      "0.003981071705534978 \n",
      "\n"
     ]
    },
    {
     "data": {
      "text/plain": [
       "[('happy', 0.282346437148442),\n",
       " ('pop_dens', -0.2538802332383614),\n",
       " ('avg_temp', -0.5804893016921688),\n",
       " ('int_users', -0.34008183515384716),\n",
       " ('ling_div', -0.21199742589191864),\n",
       " ('alc_cons', 0.5797467592131855),\n",
       " ('total_bmi', -0.3523179462728643),\n",
       " ('elevation', -0.2465428011120438),\n",
       " ('depression', -0.26307899987082184),\n",
       " ('t_doc_lit_gdppp', -0.38025183790923917),\n",
       " ('t_eth_relig', 0.27853841036694044),\n",
       " ('t_imm_urb_d_guns', 0.17032004534424441)]"
      ]
     },
     "execution_count": 14,
     "metadata": {},
     "output_type": "execute_result"
    }
   ],
   "source": [
    "#what does lasso want us to ditch? Nothing\n",
    "eng_Lasso = LassoCV(alphas = 10**np.linspace(-10,10,1001),cv = kf)\n",
    "scaler = StandardScaler()\n",
    "X_scaled = scaler.fit_transform(X_eng)\n",
    "\n",
    "results = eng_Lasso.fit(X_scaled,y)\n",
    "print(results.alpha_,'\\n')\n",
    "list(zip(X_eng.columns,results.coef_))"
   ]
  },
  {
   "cell_type": "code",
   "execution_count": 15,
   "metadata": {},
   "outputs": [
    {
     "data": {
      "text/plain": [
       "[('happy', 0.036086141723106493),\n",
       " ('pop_dens', -0.22116610354350869),\n",
       " ('avg_temp', -0.3213097117590453),\n",
       " ('int_users', -0.2342775058827606),\n",
       " ('ling_div', -0.0),\n",
       " ('alc_cons', 0.5669723282643184),\n",
       " ('total_bmi', -0.28347033983844416),\n",
       " ('elevation', -0.13474378697751016),\n",
       " ('depression', -0.20737844079282594),\n",
       " ('t_doc_lit_gdppp', -0.08482146063774283),\n",
       " ('t_eth_relig', 0.1362524513352522),\n",
       " ('t_imm_urb_d_guns', 0.060054311468175456)]"
      ]
     },
     "execution_count": 15,
     "metadata": {},
     "output_type": "execute_result"
    }
   ],
   "source": [
    "#but if it had to tell us to ditch something...\n",
    "eng_Lasso = Lasso(alpha=.06)\n",
    "scaler = StandardScaler()\n",
    "X_scaled = scaler.fit_transform(X_eng)\n",
    "\n",
    "results = eng_Lasso.fit(X_scaled,y)\n",
    "list(zip(X_eng.columns,results.coef_))"
   ]
  },
  {
   "cell_type": "markdown",
   "metadata": {},
   "source": [
    "# Oops!\n",
    "I was an idiot in the next few cells and copy-pasted an alpha - I know this is not best practice, because the best alpha might change based on what I've dropped! I also might have wanted to look at the score for things beyond just lasso - hindsight, eh? For integrity reasons though, I'll leave this as is."
   ]
  },
  {
   "cell_type": "code",
   "execution_count": 17,
   "metadata": {},
   "outputs": [
    {
     "data": {
      "text/plain": [
       "0.2557095732945962"
      ]
     },
     "execution_count": 17,
     "metadata": {},
     "output_type": "execute_result"
    }
   ],
   "source": [
    "lasso = Lasso(alpha = 0.0006074174456657797)\n",
    "r2 = cross_val_score(lasso, X_scaled, y,cv=kf, scoring='r2')\n",
    "np.mean(r2)"
   ]
  },
  {
   "cell_type": "code",
   "execution_count": 18,
   "metadata": {},
   "outputs": [
    {
     "data": {
      "text/plain": [
       "0.2753899446324918"
      ]
     },
     "execution_count": 18,
     "metadata": {},
     "output_type": "execute_result"
    }
   ],
   "source": [
    "eng_drop = X_eng.drop(['ling_div'],axis=1)\n",
    "X_scaled_d = scaler.fit_transform(X_eng.drop(['ling_div'],axis=1))\n",
    "\n",
    "lasso = Lasso(alpha = 0.0006074174456657797)\n",
    "r2 = cross_val_score(lasso, X_scaled_d, y,cv=kf, scoring='r2')\n",
    "np.mean(r2)\n",
    "# dropping ling_div increases the r^2"
   ]
  },
  {
   "cell_type": "markdown",
   "metadata": {},
   "source": [
    "Try dropping the next least important"
   ]
  },
  {
   "cell_type": "code",
   "execution_count": 19,
   "metadata": {},
   "outputs": [
    {
     "data": {
      "text/plain": [
       "[('happy', 0.0),\n",
       " ('pop_dens', -0.21107740909479386),\n",
       " ('avg_temp', -0.24891571625820966),\n",
       " ('int_users', -0.198950547203549),\n",
       " ('alc_cons', 0.5478068659894972),\n",
       " ('total_bmi', -0.28293287665723926),\n",
       " ('elevation', -0.0948290430203321),\n",
       " ('depression', -0.195127013096021),\n",
       " ('t_doc_lit_gdppp', -0.0174850644158335),\n",
       " ('t_eth_relig', 0.13010467647044327),\n",
       " ('t_imm_urb_d_guns', 0.032257375666422776)]"
      ]
     },
     "execution_count": 19,
     "metadata": {},
     "output_type": "execute_result"
    }
   ],
   "source": [
    "X_eng = X_eng.drop(['ling_div'],axis=1)\n",
    "eng_Lasso = Lasso(alpha=.08)\n",
    "scaler = StandardScaler()\n",
    "X_scaled = scaler.fit_transform(X_eng)\n",
    "\n",
    "results = eng_Lasso.fit(X_scaled,y)\n",
    "list(zip(X_eng.columns,results.coef_))"
   ]
  },
  {
   "cell_type": "code",
   "execution_count": 20,
   "metadata": {},
   "outputs": [
    {
     "data": {
      "text/plain": [
       "0.2488799032577135"
      ]
     },
     "execution_count": 20,
     "metadata": {},
     "output_type": "execute_result"
    }
   ],
   "source": [
    "eng_drop = X_eng.drop(['happy'],axis=1)\n",
    "X_scaled_d = scaler.fit_transform(X_eng.drop(['happy'],axis=1))\n",
    "\n",
    "lasso = Lasso(alpha = 0.0006074174456657797)\n",
    "r2 = cross_val_score(lasso, X_scaled_d, y,cv=kf, scoring='r2')\n",
    "np.mean(r2)"
   ]
  },
  {
   "cell_type": "code",
   "execution_count": 21,
   "metadata": {},
   "outputs": [],
   "source": [
    "#based on this we should ONLY get rid of ling_div"
   ]
  },
  {
   "cell_type": "code",
   "execution_count": 22,
   "metadata": {},
   "outputs": [
    {
     "data": {
      "text/plain": [
       "Index(['happy', 'pop_dens', 'avg_temp', 'int_users', 'alc_cons', 'total_bmi',\n",
       "       'elevation', 'depression', 't_doc_lit_gdppp', 't_eth_relig',\n",
       "       't_imm_urb_d_guns'],\n",
       "      dtype='object')"
      ]
     },
     "execution_count": 22,
     "metadata": {},
     "output_type": "execute_result"
    }
   ],
   "source": [
    "X_eng.columns"
   ]
  },
  {
   "cell_type": "code",
   "execution_count": 23,
   "metadata": {},
   "outputs": [
    {
     "name": "stdout",
     "output_type": "stream",
     "text": [
      "The mean r2 for OLS is 0.2751671024768134 +- 0.2403214553824235.\n",
      "The mean r2 for lasso is 0.2764059232808285 +- 0.23691214036446231.\n",
      "The mean r2 for ridge is 0.30140452777395665 +- 0.17677850034655115.\n"
     ]
    }
   ],
   "source": [
    "model_competition(feature_matrix=X_eng,\n",
    "                  target_series=y,\n",
    "                  l_alpha=best_alpha_l_eng,\n",
    "                  r_alpha=best_alpha_r_eng)\n",
    "#Now the best is ridge!"
   ]
  },
  {
   "cell_type": "markdown",
   "metadata": {},
   "source": [
    "# Okay! \n",
    "So our best model on our engineered data is ridge, with an $R^2$ of .30; let's see how the base data compares."
   ]
  },
  {
   "cell_type": "code",
   "execution_count": 24,
   "metadata": {},
   "outputs": [],
   "source": [
    "scaler = StandardScaler()\n",
    "X_scaled = scaler.fit_transform(X_base)"
   ]
  },
  {
   "cell_type": "code",
   "execution_count": 25,
   "metadata": {},
   "outputs": [],
   "source": [
    "base_Lasso = LassoCV(alphas = 10**np.linspace(-10,10,1001),cv = kf)\n",
    "lass_results = base_Lasso.fit(X_scaled,y)"
   ]
  },
  {
   "cell_type": "code",
   "execution_count": 26,
   "metadata": {},
   "outputs": [],
   "source": [
    "best_alpha_l_base = lass_results.alpha_"
   ]
  },
  {
   "cell_type": "code",
   "execution_count": 27,
   "metadata": {},
   "outputs": [
    {
     "name": "stderr",
     "output_type": "stream",
     "text": [
      "/anaconda3/lib/python3.7/site-packages/sklearn/model_selection/_search.py:841: DeprecationWarning: The default of the `iid` parameter will change from True to False in version 0.22 and will be removed in 0.24. This will change numeric results when test-set sizes are unequal.\n",
      "  DeprecationWarning)\n"
     ]
    }
   ],
   "source": [
    "base_Ridge = RidgeCV(alphas = 10**np.linspace(-10,10,1001),cv = kf)\n",
    "rid_results = base_Ridge.fit(X_scaled,y)"
   ]
  },
  {
   "cell_type": "code",
   "execution_count": 28,
   "metadata": {},
   "outputs": [],
   "source": [
    "best_alpha_r_base = rid_results.alpha_"
   ]
  },
  {
   "cell_type": "code",
   "execution_count": 29,
   "metadata": {},
   "outputs": [
    {
     "name": "stdout",
     "output_type": "stream",
     "text": [
      "The mean r2 for OLS is 0.06247150739912292 +- 0.306955533530708.\n",
      "The mean r2 for lasso is 0.25814124315861886 +- 0.1885207730664019.\n",
      "The mean r2 for ridge is 0.25940152390347154 +- 0.12482155754575412.\n"
     ]
    }
   ],
   "source": [
    "model_competition(X_base,y,best_alpha_l_base,best_alpha_r_base)"
   ]
  },
  {
   "cell_type": "markdown",
   "metadata": {},
   "source": [
    "# Hmmm...\n",
    "Those are not great. Let's check out the lasso, see if we should remove anything (spoliers : yeah)."
   ]
  },
  {
   "cell_type": "code",
   "execution_count": 30,
   "metadata": {},
   "outputs": [
    {
     "data": {
      "text/plain": [
       "[('happy', 0.0),\n",
       " ('doc_ratio', -0.16731806376620642),\n",
       " ('below_pov_line', 0.0),\n",
       " ('gdp', 0.0),\n",
       " ('unemp', -0.0018901273183582388),\n",
       " ('med_age', 0.0),\n",
       " ('homeless_dummy', 0.0),\n",
       " ('total_sex_ratio', 0.1270870934988941),\n",
       " ('hum_freedom', 0.012052198728099445),\n",
       " ('econ_freedom', 0.0),\n",
       " ('gen_inequality', 0.0),\n",
       " ('sunny_hours', -0.2099570022796794),\n",
       " ('pop_dens', -0.2405089445896324),\n",
       " ('avg_temp', -0.2589096192294321),\n",
       " ('eth_div', 0.08798260855819676),\n",
       " ('int_users', -0.19472286411830464),\n",
       " ('ling_div', 0.0),\n",
       " ('relig_div', 0.0),\n",
       " ('alc_cons', 0.49111904728491246),\n",
       " ('total_bmi', -0.18458862479710153),\n",
       " ('r_home_war', -0.07379165659032588),\n",
       " ('elevation', -0.11980703685046928),\n",
       " ('depression', -0.22715103721349272),\n",
       " ('children', 0.0),\n",
       " ('marr_div_dummy', 0.0),\n",
       " ('urbanization', 0.009379332047049042),\n",
       " ('immigrants', -0.0),\n",
       " ('malnutrition_dummy', 0.0),\n",
       " ('pov_ind_dummy', -0.0),\n",
       " ('guns', -0.0030518915240961577),\n",
       " ('gdppp', -0.0),\n",
       " ('literacy', -0.09599347425354215),\n",
       " ('population', 0.030210164138017852)]"
      ]
     },
     "execution_count": 30,
     "metadata": {},
     "output_type": "execute_result"
    }
   ],
   "source": [
    "base_Lasso = LassoCV(alphas = 10**np.linspace(-10,10,1001),cv = kf)\n",
    "scaler = StandardScaler()\n",
    "X_scaled = scaler.fit_transform(X_base)\n",
    "\n",
    "results = base_Lasso.fit(X_scaled,y)\n",
    "results.alpha_\n",
    "list(zip(X_base.columns,results.coef_))"
   ]
  },
  {
   "cell_type": "code",
   "execution_count": 31,
   "metadata": {},
   "outputs": [],
   "source": [
    "base_dropping = X_base.drop(['happy','below_pov_line','gdp','unemp','med_age','homeless_dummy','hum_freedom',\n",
    "                             'econ_freedom','gen_inequality','ling_div','relig_div','children','marr_div_dummy',\n",
    "                            'urbanization','immigrants','malnutrition_dummy','pov_ind_dummy','guns','gdppp'],axis=1)"
   ]
  },
  {
   "cell_type": "code",
   "execution_count": 32,
   "metadata": {},
   "outputs": [],
   "source": [
    "scaler = StandardScaler()\n",
    "X_scaled = scaler.fit_transform(base_dropping)"
   ]
  },
  {
   "cell_type": "code",
   "execution_count": 33,
   "metadata": {},
   "outputs": [],
   "source": [
    "base_d_Lasso = LassoCV(alphas = 10**np.linspace(-10,10,1001),cv = kf)\n",
    "lass_results = base_d_Lasso.fit(X_scaled,y)"
   ]
  },
  {
   "cell_type": "code",
   "execution_count": 34,
   "metadata": {},
   "outputs": [],
   "source": [
    "best_alpha_l_base_d = lass_results.alpha_"
   ]
  },
  {
   "cell_type": "code",
   "execution_count": 35,
   "metadata": {},
   "outputs": [
    {
     "name": "stderr",
     "output_type": "stream",
     "text": [
      "/anaconda3/lib/python3.7/site-packages/sklearn/model_selection/_search.py:841: DeprecationWarning: The default of the `iid` parameter will change from True to False in version 0.22 and will be removed in 0.24. This will change numeric results when test-set sizes are unequal.\n",
      "  DeprecationWarning)\n"
     ]
    }
   ],
   "source": [
    "base_d_Ridge = RidgeCV(alphas = 10**np.linspace(-10,10,1001),cv = kf)\n",
    "rid_results = base_d_Ridge.fit(X_scaled,y)"
   ]
  },
  {
   "cell_type": "code",
   "execution_count": 36,
   "metadata": {},
   "outputs": [],
   "source": [
    "best_alpha_r_base_d = rid_results.alpha_"
   ]
  },
  {
   "cell_type": "code",
   "execution_count": 37,
   "metadata": {},
   "outputs": [
    {
     "name": "stdout",
     "output_type": "stream",
     "text": [
      "The mean r2 for OLS is 0.2545426327528808 +- 0.24444615954360793.\n",
      "The mean r2 for lasso is 0.2735783981987078 +- 0.21363229451441287.\n",
      "The mean r2 for ridge is 0.3209667624224735 +- 0.1426613279268113.\n"
     ]
    }
   ],
   "source": [
    "model_competition(base_dropping,y,best_alpha_l_base_d,best_alpha_r_base_d)"
   ]
  },
  {
   "cell_type": "markdown",
   "metadata": {},
   "source": [
    "# Much better\n",
    "Ridge is still our best model it seems. Let's see what the first thing lasso wants us to get rid of is."
   ]
  },
  {
   "cell_type": "code",
   "execution_count": 38,
   "metadata": {},
   "outputs": [
    {
     "data": {
      "text/plain": [
       "[('doc_ratio', -0.1400852025306447),\n",
       " ('total_sex_ratio', 0.12185906181293972),\n",
       " ('sunny_hours', -0.1913112044882556),\n",
       " ('pop_dens', -0.2316632115722695),\n",
       " ('avg_temp', -0.21463235753821872),\n",
       " ('eth_div', 0.07476090924569674),\n",
       " ('int_users', -0.1452453359715917),\n",
       " ('alc_cons', 0.4830221876071897),\n",
       " ('total_bmi', -0.21041924835827427),\n",
       " ('r_home_war', -0.04264031988608),\n",
       " ('elevation', -0.08418091520490535),\n",
       " ('depression', -0.21599579816874992),\n",
       " ('literacy', -0.07918138880738314),\n",
       " ('population', 0.0)]"
      ]
     },
     "execution_count": 38,
     "metadata": {},
     "output_type": "execute_result"
    }
   ],
   "source": [
    "base_Lasso = Lasso(alpha = .07)\n",
    "scaler = StandardScaler()\n",
    "X_scaled = scaler.fit_transform(base_dropping)\n",
    "\n",
    "results = base_Lasso.fit(X_scaled,y)\n",
    "list(zip(base_dropping.columns,results.coef_))"
   ]
  },
  {
   "cell_type": "code",
   "execution_count": 39,
   "metadata": {},
   "outputs": [],
   "source": [
    "X_base_dropping_2 = X_base.drop(['population'],axis=1)"
   ]
  },
  {
   "cell_type": "code",
   "execution_count": 40,
   "metadata": {},
   "outputs": [],
   "source": [
    "base_d_Lasso = LassoCV(alphas = 10**np.linspace(-10,10,1001),cv = kf)\n",
    "lass_results = base_d_Lasso.fit(X_scaled,y)\n",
    "best_alpha_l_base_d_2 = lass_results.alpha_"
   ]
  },
  {
   "cell_type": "code",
   "execution_count": 41,
   "metadata": {},
   "outputs": [
    {
     "name": "stderr",
     "output_type": "stream",
     "text": [
      "/anaconda3/lib/python3.7/site-packages/sklearn/model_selection/_search.py:841: DeprecationWarning: The default of the `iid` parameter will change from True to False in version 0.22 and will be removed in 0.24. This will change numeric results when test-set sizes are unequal.\n",
      "  DeprecationWarning)\n"
     ]
    }
   ],
   "source": [
    "base_d_Ridge = RidgeCV(alphas = 10**np.linspace(-10,10,1001),cv = kf)\n",
    "ridge_results = base_d_Ridge.fit(X_scaled,y)\n",
    "best_alpha_r_base_d_2 = ridge_results.alpha_"
   ]
  },
  {
   "cell_type": "code",
   "execution_count": 42,
   "metadata": {},
   "outputs": [
    {
     "name": "stdout",
     "output_type": "stream",
     "text": [
      "The mean r2 for OLS is 0.08900102027380362 +- 0.2999126888183398.\n",
      "The mean r2 for lasso is 0.2620450110383634 +- 0.19282391817830027.\n",
      "The mean r2 for ridge is 0.26361915506930933 +- 0.12541454961687704.\n"
     ]
    }
   ],
   "source": [
    "model_competition(X_base_dropping_2,y,best_alpha_l_base,best_alpha_r_base)"
   ]
  },
  {
   "cell_type": "markdown",
   "metadata": {},
   "source": [
    "# Nope!\n",
    "Extra dropping hurts us. So our best model is ridge, whether we use the base data or the engineered, though our base is slightly better. So we will continue working with these two.\n",
    "\n",
    "<br />\n",
    "But first! Let's look at the importance of our base variables (for fun).\n"
   ]
  },
  {
   "cell_type": "code",
   "execution_count": 43,
   "metadata": {},
   "outputs": [
    {
     "data": {
      "text/plain": [
       "[('doc_ratio', -0.2037431909733826),\n",
       " ('total_sex_ratio', 0.13719666317006035),\n",
       " ('sunny_hours', -0.24184994481218813),\n",
       " ('pop_dens', -0.25394115310775955),\n",
       " ('avg_temp', -0.31929136413453624),\n",
       " ('eth_div', 0.10544301551813894),\n",
       " ('int_users', -0.240584975850209),\n",
       " ('alc_cons', 0.5008340113258628),\n",
       " ('total_bmi', -0.14787969874066478),\n",
       " ('r_home_war', -0.13168609481391766),\n",
       " ('elevation', -0.1716840369603773),\n",
       " ('depression', -0.2452060401111569),\n",
       " ('literacy', -0.12030039518887438),\n",
       " ('population', 0.08077898031390905)]"
      ]
     },
     "execution_count": 43,
     "metadata": {},
     "output_type": "execute_result"
    }
   ],
   "source": [
    "base_Lasso_imp = Lasso(alpha=best_alpha_l_base_d)\n",
    "scaler = StandardScaler()\n",
    "X_scaled = scaler.fit_transform(base_dropping)\n",
    "\n",
    "results = base_Lasso_imp.fit(X_scaled,y)\n",
    "list(zip(base_dropping.columns,results.coef_))"
   ]
  },
  {
   "cell_type": "code",
   "execution_count": 44,
   "metadata": {},
   "outputs": [
    {
     "data": {
      "text/plain": [
       "[('doc_ratio', 0.07024610971133921),\n",
       " ('total_sex_ratio', 0.04730235060632174),\n",
       " ('sunny_hours', 0.08338446882957565),\n",
       " ('pop_dens', 0.08755324787154288),\n",
       " ('avg_temp', 0.11008454362437052),\n",
       " ('eth_div', 0.036354400856268565),\n",
       " ('int_users', 0.08294833573447637),\n",
       " ('alc_cons', 0.17267640080969804),\n",
       " ('total_bmi', 0.0509856230884969),\n",
       " ('r_home_war', 0.04540242949745875),\n",
       " ('elevation', 0.05919282817937135),\n",
       " ('depression', 0.0845415756631673),\n",
       " ('literacy', 0.041476894115490416),\n",
       " ('population', 0.027850791412422127)]"
      ]
     },
     "execution_count": 44,
     "metadata": {},
     "output_type": "execute_result"
    }
   ],
   "source": [
    "list(zip(base_dropping.columns,(abs(results.coef_)/np.sum(abs(results.coef_)))))"
   ]
  },
  {
   "cell_type": "markdown",
   "metadata": {},
   "source": [
    "### Cool.\n",
    "Now onto more stuff."
   ]
  },
  {
   "cell_type": "code",
   "execution_count": 45,
   "metadata": {},
   "outputs": [
    {
     "name": "stderr",
     "output_type": "stream",
     "text": [
      "/anaconda3/lib/python3.7/site-packages/sklearn/model_selection/_search.py:841: DeprecationWarning: The default of the `iid` parameter will change from True to False in version 0.22 and will be removed in 0.24. This will change numeric results when test-set sizes are unequal.\n",
      "  DeprecationWarning)\n",
      "/anaconda3/lib/python3.7/site-packages/sklearn/model_selection/_search.py:841: DeprecationWarning: The default of the `iid` parameter will change from True to False in version 0.22 and will be removed in 0.24. This will change numeric results when test-set sizes are unequal.\n",
      "  DeprecationWarning)\n",
      "/anaconda3/lib/python3.7/site-packages/sklearn/model_selection/_search.py:841: DeprecationWarning: The default of the `iid` parameter will change from True to False in version 0.22 and will be removed in 0.24. This will change numeric results when test-set sizes are unequal.\n",
      "  DeprecationWarning)\n",
      "/anaconda3/lib/python3.7/site-packages/sklearn/model_selection/_search.py:841: DeprecationWarning: The default of the `iid` parameter will change from True to False in version 0.22 and will be removed in 0.24. This will change numeric results when test-set sizes are unequal.\n",
      "  DeprecationWarning)\n",
      "/anaconda3/lib/python3.7/site-packages/sklearn/model_selection/_search.py:841: DeprecationWarning: The default of the `iid` parameter will change from True to False in version 0.22 and will be removed in 0.24. This will change numeric results when test-set sizes are unequal.\n",
      "  DeprecationWarning)\n",
      "/anaconda3/lib/python3.7/site-packages/sklearn/model_selection/_search.py:841: DeprecationWarning: The default of the `iid` parameter will change from True to False in version 0.22 and will be removed in 0.24. This will change numeric results when test-set sizes are unequal.\n",
      "  DeprecationWarning)\n",
      "/anaconda3/lib/python3.7/site-packages/sklearn/model_selection/_search.py:841: DeprecationWarning: The default of the `iid` parameter will change from True to False in version 0.22 and will be removed in 0.24. This will change numeric results when test-set sizes are unequal.\n",
      "  DeprecationWarning)\n",
      "/anaconda3/lib/python3.7/site-packages/sklearn/model_selection/_search.py:841: DeprecationWarning: The default of the `iid` parameter will change from True to False in version 0.22 and will be removed in 0.24. This will change numeric results when test-set sizes are unequal.\n",
      "  DeprecationWarning)\n",
      "/anaconda3/lib/python3.7/site-packages/sklearn/model_selection/_search.py:841: DeprecationWarning: The default of the `iid` parameter will change from True to False in version 0.22 and will be removed in 0.24. This will change numeric results when test-set sizes are unequal.\n",
      "  DeprecationWarning)\n",
      "/anaconda3/lib/python3.7/site-packages/sklearn/model_selection/_search.py:841: DeprecationWarning: The default of the `iid` parameter will change from True to False in version 0.22 and will be removed in 0.24. This will change numeric results when test-set sizes are unequal.\n",
      "  DeprecationWarning)\n"
     ]
    },
    {
     "name": "stdout",
     "output_type": "stream",
     "text": [
      "0.31401392350164653\n"
     ]
    },
    {
     "name": "stderr",
     "output_type": "stream",
     "text": [
      "/anaconda3/lib/python3.7/site-packages/sklearn/model_selection/_search.py:841: DeprecationWarning: The default of the `iid` parameter will change from True to False in version 0.22 and will be removed in 0.24. This will change numeric results when test-set sizes are unequal.\n",
      "  DeprecationWarning)\n"
     ]
    },
    {
     "data": {
      "text/plain": [
       "[('doc_ratio', -0.15682887403575574),\n",
       " ('total_sex_ratio', 0.16649388819623429),\n",
       " ('sunny_hours', -0.21621189365477939),\n",
       " ('pop_dens', -0.23148536636658898),\n",
       " ('avg_temp', -0.23966532112495176),\n",
       " ('eth_div', 0.1101323471201384),\n",
       " ('int_users', -0.1434023156226654),\n",
       " ('alc_cons', 0.37879598666846376),\n",
       " ('total_bmi', -0.1536175514772113),\n",
       " ('r_home_war', -0.13167665292694813),\n",
       " ('elevation', -0.12753408058379728),\n",
       " ('depression', -0.21608034491173672),\n",
       " ('literacy', -0.11105529495095204),\n",
       " ('population', 0.0857001114462591)]"
      ]
     },
     "execution_count": 45,
     "metadata": {},
     "output_type": "execute_result"
    }
   ],
   "source": [
    "base_Ridge = RidgeCV(alphas = 10**np.linspace(-10,10,1001),cv = kf)\n",
    "scaler = StandardScaler()\n",
    "X_scaled = scaler.fit_transform(base_dropping)\n",
    "\n",
    "results = base_Ridge.fit(X_scaled,y)\n",
    "results.alpha_\n",
    "\n",
    "print(\n",
    "    np.mean(\n",
    "        cross_val_score(\n",
    "            base_Ridge,base_dropping,y,cv=kf)\n",
    "    ))\n",
    "\n",
    "list(zip(base_dropping.columns,results.coef_))"
   ]
  },
  {
   "cell_type": "code",
   "execution_count": 46,
   "metadata": {},
   "outputs": [
    {
     "name": "stderr",
     "output_type": "stream",
     "text": [
      "/anaconda3/lib/python3.7/site-packages/sklearn/model_selection/_search.py:841: DeprecationWarning: The default of the `iid` parameter will change from True to False in version 0.22 and will be removed in 0.24. This will change numeric results when test-set sizes are unequal.\n",
      "  DeprecationWarning)\n",
      "/anaconda3/lib/python3.7/site-packages/sklearn/model_selection/_search.py:841: DeprecationWarning: The default of the `iid` parameter will change from True to False in version 0.22 and will be removed in 0.24. This will change numeric results when test-set sizes are unequal.\n",
      "  DeprecationWarning)\n",
      "/anaconda3/lib/python3.7/site-packages/sklearn/model_selection/_search.py:841: DeprecationWarning: The default of the `iid` parameter will change from True to False in version 0.22 and will be removed in 0.24. This will change numeric results when test-set sizes are unequal.\n",
      "  DeprecationWarning)\n",
      "/anaconda3/lib/python3.7/site-packages/sklearn/model_selection/_search.py:841: DeprecationWarning: The default of the `iid` parameter will change from True to False in version 0.22 and will be removed in 0.24. This will change numeric results when test-set sizes are unequal.\n",
      "  DeprecationWarning)\n",
      "/anaconda3/lib/python3.7/site-packages/sklearn/model_selection/_search.py:841: DeprecationWarning: The default of the `iid` parameter will change from True to False in version 0.22 and will be removed in 0.24. This will change numeric results when test-set sizes are unequal.\n",
      "  DeprecationWarning)\n",
      "/anaconda3/lib/python3.7/site-packages/sklearn/model_selection/_search.py:841: DeprecationWarning: The default of the `iid` parameter will change from True to False in version 0.22 and will be removed in 0.24. This will change numeric results when test-set sizes are unequal.\n",
      "  DeprecationWarning)\n",
      "/anaconda3/lib/python3.7/site-packages/sklearn/model_selection/_search.py:841: DeprecationWarning: The default of the `iid` parameter will change from True to False in version 0.22 and will be removed in 0.24. This will change numeric results when test-set sizes are unequal.\n",
      "  DeprecationWarning)\n",
      "/anaconda3/lib/python3.7/site-packages/sklearn/model_selection/_search.py:841: DeprecationWarning: The default of the `iid` parameter will change from True to False in version 0.22 and will be removed in 0.24. This will change numeric results when test-set sizes are unequal.\n",
      "  DeprecationWarning)\n",
      "/anaconda3/lib/python3.7/site-packages/sklearn/model_selection/_search.py:841: DeprecationWarning: The default of the `iid` parameter will change from True to False in version 0.22 and will be removed in 0.24. This will change numeric results when test-set sizes are unequal.\n",
      "  DeprecationWarning)\n",
      "/anaconda3/lib/python3.7/site-packages/sklearn/model_selection/_search.py:841: DeprecationWarning: The default of the `iid` parameter will change from True to False in version 0.22 and will be removed in 0.24. This will change numeric results when test-set sizes are unequal.\n",
      "  DeprecationWarning)\n"
     ]
    },
    {
     "name": "stdout",
     "output_type": "stream",
     "text": [
      "0.31961484313194743\n"
     ]
    },
    {
     "name": "stderr",
     "output_type": "stream",
     "text": [
      "/anaconda3/lib/python3.7/site-packages/sklearn/model_selection/_search.py:841: DeprecationWarning: The default of the `iid` parameter will change from True to False in version 0.22 and will be removed in 0.24. This will change numeric results when test-set sizes are unequal.\n",
      "  DeprecationWarning)\n"
     ]
    },
    {
     "data": {
      "text/plain": [
       "[('happy', 0.1497597731823567),\n",
       " ('pop_dens', -0.24074361062573188),\n",
       " ('avg_temp', -0.39913177448837844),\n",
       " ('int_users', -0.2455565188146855),\n",
       " ('alc_cons', 0.5157961953303313),\n",
       " ('total_bmi', -0.29094950011185466),\n",
       " ('elevation', -0.17732004888539232),\n",
       " ('depression', -0.2362876138198426),\n",
       " ('t_doc_lit_gdppp', -0.18216647132022573),\n",
       " ('t_eth_relig', 0.1663823728641938),\n",
       " ('t_imm_urb_d_guns', 0.10451726500223654)]"
      ]
     },
     "execution_count": 46,
     "metadata": {},
     "output_type": "execute_result"
    }
   ],
   "source": [
    "eng_Ridge = RidgeCV(alphas = 10**np.linspace(-10,10,1001),cv = kf)\n",
    "scaler = StandardScaler()\n",
    "X_scaled = scaler.fit_transform(X_eng)\n",
    "\n",
    "results = eng_Ridge.fit(X_scaled,y)\n",
    "results.alpha_\n",
    "\n",
    "print(np.mean(cross_val_score(eng_Ridge,X_eng,y,cv=kf)))\n",
    "\n",
    "\n",
    "list(zip(X_eng.columns,results.coef_))"
   ]
  },
  {
   "cell_type": "markdown",
   "metadata": {},
   "source": [
    "# Well\n",
    "Honestly, at some point you have to just test the model. We can't drop anything else, and my best shot at engineering is already there. Let's make sure these models work-ish (spoiler alert...).\n",
    "<br />\n",
    "\n",
    "But first, we need to transform our test data as well!"
   ]
  },
  {
   "cell_type": "code",
   "execution_count": 47,
   "metadata": {},
   "outputs": [],
   "source": [
    "X_test['gdp'] = np.log(X_test.gdp)\n",
    "X_test['total_sex_ratio'] = 1/(X_test.total_sex_ratio)\n",
    "X_test['guns'] = np.log(X_test.guns+1)\n",
    "X_test['doc_ratio'] = np.log(X_test.doc_ratio)\n",
    "X_test['pop_dens'] = np.log(X_test.pop_dens)\n",
    "X_test['elevation'] = np.log(X_test.elevation)\n",
    "X_test['immigrants'] = np.log(X_test.immigrants)\n",
    "X_test['literacy'] = (X_test.literacy)**1/2\n",
    "X_test['gdppp'] = np.log(X_test.gdppp)\n",
    "X_test['population'] = np.log(X_test.population)\n",
    "X_test['children'] = X_test.children**2"
   ]
  },
  {
   "cell_type": "code",
   "execution_count": 48,
   "metadata": {},
   "outputs": [],
   "source": [
    "X_test_drop = X_test.drop(['happy','below_pov_line','gdp','unemp','med_age','homeless_dummy','hum_freedom',\n",
    "                             'econ_freedom','gen_inequality','ling_div','relig_div','children','marr_div_dummy',\n",
    "                            'urbanization','immigrants','malnutrition_dummy','pov_ind_dummy','guns','gdppp'],axis=1)"
   ]
  },
  {
   "cell_type": "code",
   "execution_count": 49,
   "metadata": {},
   "outputs": [],
   "source": [
    "X_test_eng = deepcopy(X_test)\n",
    "\n",
    "X_test_eng['t_doc_lit_gdppp'] = X_test_eng.doc_ratio * X_test_eng.literacy * X_test_eng.gdppp\n",
    "X_test_eng = X_test_eng.drop(['doc_ratio','literacy','gdppp'],axis=1)\n",
    "\n",
    "X_test_eng['t_eth_relig'] = X_test_eng.eth_div * X_test_eng.relig_div\n",
    "X_test_eng = X_test_eng.drop(['eth_div','relig_div'],axis=1)\n",
    "\n",
    "X_test_eng['t_imm_urb_d_guns'] = X_test_eng.immigrants * X_test_eng.urbanization / X_test_eng.guns\n",
    "X_test_eng = X_test_eng.drop(['immigrants','urbanization','guns'],axis=1)\n",
    "\n",
    "X_test_eng = X_test_eng.drop(['below_pov_line','gdp','unemp','med_age','homeless_dummy','total_sex_ratio','hum_freedom',\n",
    "                             'econ_freedom','gen_inequality','sunny_hours','ling_div','r_home_war','children',\n",
    "                              'marr_div_dummy','malnutrition_dummy','pov_ind_dummy','population'],axis = 1)"
   ]
  },
  {
   "cell_type": "markdown",
   "metadata": {},
   "source": [
    "# Now let's compare!"
   ]
  },
  {
   "cell_type": "code",
   "execution_count": 50,
   "metadata": {},
   "outputs": [
    {
     "name": "stdout",
     "output_type": "stream",
     "text": [
      "Ridge Regression test R^2: -19.960857614823624\n"
     ]
    }
   ],
   "source": [
    "scaler = StandardScaler()\n",
    "X_scaled = scaler.fit_transform(base_dropping)\n",
    "X_test_scaled = scaler.transform(X_test_drop)\n",
    "\n",
    "lm_reg = Ridge()\n",
    "results = lm_reg.fit(base_dropping,y)\n",
    "print(f'Ridge Regression test R^2: {lm_reg.score(X_test_scaled,y_test)}')"
   ]
  },
  {
   "cell_type": "code",
   "execution_count": 51,
   "metadata": {},
   "outputs": [
    {
     "name": "stdout",
     "output_type": "stream",
     "text": [
      "Ridge Regression test R^2: -29.8546086024878\n"
     ]
    }
   ],
   "source": [
    "scaler = StandardScaler()\n",
    "X_scaled = scaler.fit_transform(X_eng)\n",
    "X_test_scaled = scaler.transform(X_test_eng)\n",
    "\n",
    "lm_reg = Ridge()\n",
    "results = lm_reg.fit(X_eng,y)\n",
    "print(f'Ridge Regression test R^2: {lm_reg.score(X_test_scaled,y_test)}')"
   ]
  },
  {
   "cell_type": "markdown",
   "metadata": {},
   "source": [
    "# Oof\n",
    "Lara was't kidding when she said that ridge and lasso had some issues with small amounts of data. Let's try our best OLS, which was on our engineered data."
   ]
  },
  {
   "cell_type": "code",
   "execution_count": 52,
   "metadata": {},
   "outputs": [
    {
     "name": "stdout",
     "output_type": "stream",
     "text": [
      "OLS test R^2: 0.2527086546444801\n"
     ]
    }
   ],
   "source": [
    "lm_ols = LinearRegression()\n",
    "results = lm_ols.fit(X_eng,y)\n",
    "print(f'OLS test R^2: {lm_ols.score(X_test_eng,y_test)}')"
   ]
  },
  {
   "cell_type": "markdown",
   "metadata": {},
   "source": [
    "# Whew\n",
    "It is indeed the case that Ridge does not work well on small data sets I guess; so we will have to go for naïve OLS"
   ]
  },
  {
   "cell_type": "code",
   "execution_count": 53,
   "metadata": {},
   "outputs": [],
   "source": [
    "lm_ols = LinearRegression()\n",
    "results = lm_ols.fit(X_eng,y)\n",
    "\n",
    "predict = lm_ols.predict(X_test_eng)"
   ]
  },
  {
   "cell_type": "code",
   "execution_count": 54,
   "metadata": {},
   "outputs": [
    {
     "data": {
      "text/plain": [
       "[(0.24222774295707017, 'happy'),\n",
       " (-0.17864822298363942, 'pop_dens'),\n",
       " (-0.06409267574018249, 'avg_temp'),\n",
       " (-0.0136435400718852, 'int_users'),\n",
       " (0.14814503842142418, 'alc_cons'),\n",
       " (-0.14553730316598146, 'total_bmi'),\n",
       " (-0.23974734869723272, 'elevation'),\n",
       " (-0.0014140238550069335, 'depression'),\n",
       " (-0.00044929403478437057, 't_doc_lit_gdppp'),\n",
       " (0.8855180216740928, 't_eth_relig'),\n",
       " (0.00019376658034216622, 't_imm_urb_d_guns')]"
      ]
     },
     "execution_count": 54,
     "metadata": {},
     "output_type": "execute_result"
    }
   ],
   "source": [
    "list(zip(lm_ols.coef_,X_test_eng.columns))"
   ]
  },
  {
   "cell_type": "code",
   "execution_count": 55,
   "metadata": {},
   "outputs": [
    {
     "data": {
      "text/plain": [
       "0.9714996586827394"
      ]
     },
     "execution_count": 55,
     "metadata": {},
     "output_type": "execute_result"
    }
   ],
   "source": [
    "np.mean(abs(y_test-predict))"
   ]
  },
  {
   "cell_type": "code",
   "execution_count": 56,
   "metadata": {},
   "outputs": [
    {
     "data": {
      "text/plain": [
       "2.965292496171334"
      ]
     },
     "execution_count": 56,
     "metadata": {},
     "output_type": "execute_result"
    }
   ],
   "source": [
    "np.max(abs(y_test-predict))"
   ]
  },
  {
   "cell_type": "code",
   "execution_count": 57,
   "metadata": {},
   "outputs": [
    {
     "data": {
      "text/plain": [
       "0.11218844602733746"
      ]
     },
     "execution_count": 57,
     "metadata": {},
     "output_type": "execute_result"
    }
   ],
   "source": [
    "np.min(abs(y_test-predict))"
   ]
  },
  {
   "cell_type": "markdown",
   "metadata": {},
   "source": [
    "# But that's predicting our boxcox transformed data!\n",
    "Let's undo that, so we can better understand what that means.\n",
    "\n",
    "<br />\n",
    "From our data scraping notebook : boxcox lambda ≈ 0.41719220590443856"
   ]
  },
  {
   "cell_type": "code",
   "execution_count": 58,
   "metadata": {},
   "outputs": [],
   "source": [
    "from scipy.special import inv_boxcox"
   ]
  },
  {
   "cell_type": "code",
   "execution_count": 59,
   "metadata": {},
   "outputs": [],
   "source": [
    "inv_bc_pred = inv_boxcox(predict,[.41719220590443856])"
   ]
  },
  {
   "cell_type": "code",
   "execution_count": 60,
   "metadata": {},
   "outputs": [],
   "source": [
    "inv_bc_y_test = inv_boxcox(y_test,[.41719220590443856])"
   ]
  },
  {
   "cell_type": "code",
   "execution_count": 61,
   "metadata": {},
   "outputs": [
    {
     "data": {
      "text/plain": [
       "array([ 7.07744439, 11.62096505, 14.42355371,  3.06223026, 14.01290912,\n",
       "       14.07331956, 11.1018197 , 10.17335189,  9.78729161,  9.59725403,\n",
       "        9.88564968, 14.3472517 , 16.3471387 ,  5.84110463, 10.16058584,\n",
       "        7.53811674, 10.62709033,  8.12041643, 16.57488566,  4.25630135,\n",
       "       12.41586239, 14.21221013,  6.97644886, 14.3729292 ,  3.00266905,\n",
       "        2.51849795,  3.11863454,  5.23993311,  5.79983348, 10.78785686,\n",
       "       11.5995968 ,  7.40111513,  5.730678  ,  5.16289239, 11.02794931,\n",
       "       11.07676869,  8.53334449])"
      ]
     },
     "execution_count": 61,
     "metadata": {},
     "output_type": "execute_result"
    }
   ],
   "source": [
    "inv_bc_pred"
   ]
  },
  {
   "cell_type": "code",
   "execution_count": 62,
   "metadata": {},
   "outputs": [
    {
     "data": {
      "text/plain": [
       "3.635518736228865"
      ]
     },
     "execution_count": 62,
     "metadata": {},
     "output_type": "execute_result"
    }
   ],
   "source": [
    "np.mean(abs((inv_bc_pred-inv_bc_y_test)))"
   ]
  },
  {
   "cell_type": "code",
   "execution_count": 63,
   "metadata": {},
   "outputs": [
    {
     "data": {
      "text/plain": [
       "-0.15929997921059755"
      ]
     },
     "execution_count": 63,
     "metadata": {},
     "output_type": "execute_result"
    }
   ],
   "source": [
    "np.mean((inv_bc_pred-inv_bc_y_test))"
   ]
  },
  {
   "cell_type": "code",
   "execution_count": 64,
   "metadata": {},
   "outputs": [
    {
     "data": {
      "text/plain": [
       "12.212708385637223"
      ]
     },
     "execution_count": 64,
     "metadata": {},
     "output_type": "execute_result"
    }
   ],
   "source": [
    "np.max(abs(inv_bc_y_test-inv_bc_pred))"
   ]
  },
  {
   "cell_type": "code",
   "execution_count": 65,
   "metadata": {},
   "outputs": [
    {
     "data": {
      "text/plain": [
       "0.25630134857294085"
      ]
     },
     "execution_count": 65,
     "metadata": {},
     "output_type": "execute_result"
    }
   ],
   "source": [
    "np.min(abs(inv_bc_y_test-inv_bc_pred))"
   ]
  },
  {
   "cell_type": "code",
   "execution_count": 66,
   "metadata": {},
   "outputs": [
    {
     "data": {
      "text/plain": [
       "2.9762999664611316"
      ]
     },
     "execution_count": 66,
     "metadata": {},
     "output_type": "execute_result"
    }
   ],
   "source": [
    "np.std(abs(inv_bc_y_test-inv_bc_pred))"
   ]
  },
  {
   "cell_type": "code",
   "execution_count": 67,
   "metadata": {},
   "outputs": [
    {
     "data": {
      "text/plain": [
       "2.7377697405637877"
      ]
     },
     "execution_count": 67,
     "metadata": {},
     "output_type": "execute_result"
    }
   ],
   "source": [
    "np.median(abs(inv_bc_y_test-inv_bc_pred))"
   ]
  },
  {
   "cell_type": "code",
   "execution_count": 68,
   "metadata": {},
   "outputs": [
    {
     "data": {
      "text/plain": [
       "[('happy', 0.253730358097335),\n",
       " ('pop_dens', -0.24593040381382586),\n",
       " ('avg_temp', -0.5348957981063442),\n",
       " ('int_users', -0.3609558297149362),\n",
       " ('alc_cons', 0.61224827780143),\n",
       " ('total_bmi', -0.30946562046403253),\n",
       " ('elevation', -0.23311909920348692),\n",
       " ('depression', -0.26512751832909215),\n",
       " ('t_doc_lit_gdppp', -0.3023016839215555),\n",
       " ('t_eth_relig', 0.15758527132781203),\n",
       " ('t_imm_urb_d_guns', 0.14053937956703513)]"
      ]
     },
     "execution_count": 68,
     "metadata": {},
     "output_type": "execute_result"
    }
   ],
   "source": [
    "base_Lasso_imp = Lasso(alpha=best_alpha_l_eng)\n",
    "scaler = StandardScaler()\n",
    "X_scaled = scaler.fit_transform(X_eng)\n",
    "\n",
    "results = base_Lasso_imp.fit(X_scaled,y)\n",
    "list(zip(X_eng.columns,results.coef_))"
   ]
  },
  {
   "cell_type": "code",
   "execution_count": 69,
   "metadata": {},
   "outputs": [],
   "source": [
    "#% contribution of each variable\n",
    "importances = list(zip(X_eng.columns,(abs(results.coef_)/np.sum(abs(results.coef_)))))"
   ]
  },
  {
   "cell_type": "code",
   "execution_count": 70,
   "metadata": {},
   "outputs": [
    {
     "data": {
      "text/html": [
       "<div>\n",
       "<style scoped>\n",
       "    .dataframe tbody tr th:only-of-type {\n",
       "        vertical-align: middle;\n",
       "    }\n",
       "\n",
       "    .dataframe tbody tr th {\n",
       "        vertical-align: top;\n",
       "    }\n",
       "\n",
       "    .dataframe thead th {\n",
       "        text-align: right;\n",
       "    }\n",
       "</style>\n",
       "<table border=\"1\" class=\"dataframe\">\n",
       "  <thead>\n",
       "    <tr style=\"text-align: right;\">\n",
       "      <th></th>\n",
       "      <th>0</th>\n",
       "      <th>1</th>\n",
       "    </tr>\n",
       "  </thead>\n",
       "  <tbody>\n",
       "    <tr>\n",
       "      <th>4</th>\n",
       "      <td>alc_cons</td>\n",
       "      <td>0.179235</td>\n",
       "    </tr>\n",
       "    <tr>\n",
       "      <th>2</th>\n",
       "      <td>avg_temp</td>\n",
       "      <td>0.156590</td>\n",
       "    </tr>\n",
       "    <tr>\n",
       "      <th>3</th>\n",
       "      <td>int_users</td>\n",
       "      <td>0.105669</td>\n",
       "    </tr>\n",
       "    <tr>\n",
       "      <th>5</th>\n",
       "      <td>total_bmi</td>\n",
       "      <td>0.090596</td>\n",
       "    </tr>\n",
       "    <tr>\n",
       "      <th>8</th>\n",
       "      <td>t_doc_lit_gdppp</td>\n",
       "      <td>0.088498</td>\n",
       "    </tr>\n",
       "    <tr>\n",
       "      <th>7</th>\n",
       "      <td>depression</td>\n",
       "      <td>0.077616</td>\n",
       "    </tr>\n",
       "    <tr>\n",
       "      <th>0</th>\n",
       "      <td>happy</td>\n",
       "      <td>0.074279</td>\n",
       "    </tr>\n",
       "    <tr>\n",
       "      <th>1</th>\n",
       "      <td>pop_dens</td>\n",
       "      <td>0.071996</td>\n",
       "    </tr>\n",
       "    <tr>\n",
       "      <th>6</th>\n",
       "      <td>elevation</td>\n",
       "      <td>0.068245</td>\n",
       "    </tr>\n",
       "    <tr>\n",
       "      <th>9</th>\n",
       "      <td>t_eth_relig</td>\n",
       "      <td>0.046133</td>\n",
       "    </tr>\n",
       "    <tr>\n",
       "      <th>10</th>\n",
       "      <td>t_imm_urb_d_guns</td>\n",
       "      <td>0.041143</td>\n",
       "    </tr>\n",
       "  </tbody>\n",
       "</table>\n",
       "</div>"
      ],
      "text/plain": [
       "                   0         1\n",
       "4           alc_cons  0.179235\n",
       "2           avg_temp  0.156590\n",
       "3          int_users  0.105669\n",
       "5          total_bmi  0.090596\n",
       "8    t_doc_lit_gdppp  0.088498\n",
       "7         depression  0.077616\n",
       "0              happy  0.074279\n",
       "1           pop_dens  0.071996\n",
       "6          elevation  0.068245\n",
       "9        t_eth_relig  0.046133\n",
       "10  t_imm_urb_d_guns  0.041143"
      ]
     },
     "execution_count": 70,
     "metadata": {},
     "output_type": "execute_result"
    }
   ],
   "source": [
    "#to df\n",
    "pd.DataFrame(importances).sort_values(by=1,ascending=False)"
   ]
  },
  {
   "cell_type": "code",
   "execution_count": 77,
   "metadata": {},
   "outputs": [],
   "source": [
    "#plot residuals! bad news\n",
    "import seaborn as sns\n",
    "import matplotlib.pyplot as plt"
   ]
  },
  {
   "cell_type": "code",
   "execution_count": 72,
   "metadata": {},
   "outputs": [
    {
     "data": {
      "image/png": "[encoded data removed]",
      "text/plain": [
       "<Figure size 432x288 with 1 Axes>"
      ]
     },
     "metadata": {
      "needs_background": "light"
     },
     "output_type": "display_data"
    }
   ],
   "source": [
    "sns.scatterplot(inv_bc_y_test,inv_bc_pred)\n",
    "plt.xlabel('Actual')\n",
    "plt.ylabel('Predicted')\n",
    "plt.title('Actual v Predicted Suicide Rates',fontdict = {'size':15})\n",
    "plt.xlim(2,30)\n",
    "plt.ylim(2,30)\n",
    "plt.plot([2,30],[2,30],color='k');"
   ]
  },
  {
   "cell_type": "code",
   "execution_count": 73,
   "metadata": {},
   "outputs": [
    {
     "data": {
      "text/plain": [
       "(array([4., 6., 7., 9., 1., 3., 2., 3., 0., 2.]),\n",
       " array([-6.81221013, -4.90971828, -3.00722642, -1.10473457,  0.79775728,\n",
       "         2.70024913,  4.60274098,  6.50523283,  8.40772468, 10.31021653,\n",
       "        12.21270839]),\n",
       " <a list of 10 Patch objects>)"
      ]
     },
     "execution_count": 73,
     "metadata": {},
     "output_type": "execute_result"
    },
    {
     "data": {
      "image/png": "[encoded data removed]",
      "text/plain": [
       "<Figure size 432x288 with 1 Axes>"
      ]
     },
     "metadata": {
      "needs_background": "light"
     },
     "output_type": "display_data"
    }
   ],
   "source": [
    "# look at distribution of errors.. not good\n",
    "plt.hist(inv_bc_y_test-inv_bc_pred)"
   ]
  }
 ],
 "metadata": {
  "kernelspec": {
   "display_name": "Python 3",
   "language": "python",
   "name": "python3"
  },
  "language_info": {
   "codemirror_mode": {
    "name": "ipython",
    "version": 3
   },
   "file_extension": ".py",
   "mimetype": "text/x-python",
   "name": "python",
   "nbconvert_exporter": "python",
   "pygments_lexer": "ipython3",
   "version": "3.7.1"
  }
 },
 "nbformat": 4,
 "nbformat_minor": 2
}
