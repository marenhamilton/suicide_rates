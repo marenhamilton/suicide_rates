{
 "cells": [
  {
   "cell_type": "markdown",
   "metadata": {},
   "source": [
    "# This notebook is dedicated to the same as ANTM\n",
    "But it works only with all of the features and also runs an OLS model (only OLS because I know lasso and ridge won't work)"
   ]
  },
  {
   "cell_type": "code",
   "execution_count": 29,
   "metadata": {},
   "outputs": [],
   "source": [
    "import pandas as pd\n",
    "import numpy as np\n",
    "import seaborn as sns\n",
    "import matplotlib.pyplot as plt\n",
    "\n",
    "from copy import deepcopy\n",
    "import statsmodels.formula.api as smf\n",
    "from sklearn.model_selection import train_test_split\n",
    "from sklearn.linear_model import LinearRegression\n",
    "from sklearn.model_selection import cross_val_score,cross_val_predict"
   ]
  },
  {
   "cell_type": "code",
   "execution_count": 2,
   "metadata": {},
   "outputs": [],
   "source": [
    "country_data = pd.read_pickle('full_country_data.pkl')\n",
    "\n",
    "\n",
    "country_data['r_home_war'] = country_data['r_home_war'].astype(float)\n",
    "#drop data deficit\n",
    "country_data = country_data.drop(['malnutrition','pov_ind','divorce','homeless','Continent','BothSexes','MalesNumber',\n",
    "                                 'FemalesNumber','marriage','marr_div_ratio'],axis=1)\n",
    "\n",
    "X,y = country_data.drop('bc_BothSexes',axis=1), country_data['bc_BothSexes']\n",
    "X_train, X_test, y_train, y_test = train_test_split(X, y, test_size=.2, random_state=13,shuffle=True)"
   ]
  },
  {
   "cell_type": "code",
   "execution_count": 3,
   "metadata": {},
   "outputs": [
    {
     "name": "stderr",
     "output_type": "stream",
     "text": [
      "/anaconda3/lib/python3.7/site-packages/ipykernel_launcher.py:1: SettingWithCopyWarning: \n",
      "A value is trying to be set on a copy of a slice from a DataFrame.\n",
      "Try using .loc[row_indexer,col_indexer] = value instead\n",
      "\n",
      "See the caveats in the documentation: http://pandas.pydata.org/pandas-docs/stable/indexing.html#indexing-view-versus-copy\n",
      "  \"\"\"Entry point for launching an IPython kernel.\n",
      "/anaconda3/lib/python3.7/site-packages/ipykernel_launcher.py:2: SettingWithCopyWarning: \n",
      "A value is trying to be set on a copy of a slice from a DataFrame.\n",
      "Try using .loc[row_indexer,col_indexer] = value instead\n",
      "\n",
      "See the caveats in the documentation: http://pandas.pydata.org/pandas-docs/stable/indexing.html#indexing-view-versus-copy\n",
      "  \n",
      "/anaconda3/lib/python3.7/site-packages/ipykernel_launcher.py:3: SettingWithCopyWarning: \n",
      "A value is trying to be set on a copy of a slice from a DataFrame.\n",
      "Try using .loc[row_indexer,col_indexer] = value instead\n",
      "\n",
      "See the caveats in the documentation: http://pandas.pydata.org/pandas-docs/stable/indexing.html#indexing-view-versus-copy\n",
      "  This is separate from the ipykernel package so we can avoid doing imports until\n",
      "/anaconda3/lib/python3.7/site-packages/ipykernel_launcher.py:4: SettingWithCopyWarning: \n",
      "A value is trying to be set on a copy of a slice from a DataFrame.\n",
      "Try using .loc[row_indexer,col_indexer] = value instead\n",
      "\n",
      "See the caveats in the documentation: http://pandas.pydata.org/pandas-docs/stable/indexing.html#indexing-view-versus-copy\n",
      "  after removing the cwd from sys.path.\n",
      "/anaconda3/lib/python3.7/site-packages/ipykernel_launcher.py:5: SettingWithCopyWarning: \n",
      "A value is trying to be set on a copy of a slice from a DataFrame.\n",
      "Try using .loc[row_indexer,col_indexer] = value instead\n",
      "\n",
      "See the caveats in the documentation: http://pandas.pydata.org/pandas-docs/stable/indexing.html#indexing-view-versus-copy\n",
      "  \"\"\"\n",
      "/anaconda3/lib/python3.7/site-packages/ipykernel_launcher.py:6: SettingWithCopyWarning: \n",
      "A value is trying to be set on a copy of a slice from a DataFrame.\n",
      "Try using .loc[row_indexer,col_indexer] = value instead\n",
      "\n",
      "See the caveats in the documentation: http://pandas.pydata.org/pandas-docs/stable/indexing.html#indexing-view-versus-copy\n",
      "  \n",
      "/anaconda3/lib/python3.7/site-packages/ipykernel_launcher.py:7: SettingWithCopyWarning: \n",
      "A value is trying to be set on a copy of a slice from a DataFrame.\n",
      "Try using .loc[row_indexer,col_indexer] = value instead\n",
      "\n",
      "See the caveats in the documentation: http://pandas.pydata.org/pandas-docs/stable/indexing.html#indexing-view-versus-copy\n",
      "  import sys\n",
      "/anaconda3/lib/python3.7/site-packages/ipykernel_launcher.py:8: SettingWithCopyWarning: \n",
      "A value is trying to be set on a copy of a slice from a DataFrame.\n",
      "Try using .loc[row_indexer,col_indexer] = value instead\n",
      "\n",
      "See the caveats in the documentation: http://pandas.pydata.org/pandas-docs/stable/indexing.html#indexing-view-versus-copy\n",
      "  \n",
      "/anaconda3/lib/python3.7/site-packages/ipykernel_launcher.py:9: SettingWithCopyWarning: \n",
      "A value is trying to be set on a copy of a slice from a DataFrame.\n",
      "Try using .loc[row_indexer,col_indexer] = value instead\n",
      "\n",
      "See the caveats in the documentation: http://pandas.pydata.org/pandas-docs/stable/indexing.html#indexing-view-versus-copy\n",
      "  if __name__ == '__main__':\n",
      "/anaconda3/lib/python3.7/site-packages/ipykernel_launcher.py:10: SettingWithCopyWarning: \n",
      "A value is trying to be set on a copy of a slice from a DataFrame.\n",
      "Try using .loc[row_indexer,col_indexer] = value instead\n",
      "\n",
      "See the caveats in the documentation: http://pandas.pydata.org/pandas-docs/stable/indexing.html#indexing-view-versus-copy\n",
      "  # Remove the CWD from sys.path while we load stuff.\n",
      "/anaconda3/lib/python3.7/site-packages/ipykernel_launcher.py:11: SettingWithCopyWarning: \n",
      "A value is trying to be set on a copy of a slice from a DataFrame.\n",
      "Try using .loc[row_indexer,col_indexer] = value instead\n",
      "\n",
      "See the caveats in the documentation: http://pandas.pydata.org/pandas-docs/stable/indexing.html#indexing-view-versus-copy\n",
      "  # This is added back by InteractiveShellApp.init_path()\n",
      "/anaconda3/lib/python3.7/site-packages/ipykernel_launcher.py:12: SettingWithCopyWarning: \n",
      "A value is trying to be set on a copy of a slice from a DataFrame.\n",
      "Try using .loc[row_indexer,col_indexer] = value instead\n",
      "\n",
      "See the caveats in the documentation: http://pandas.pydata.org/pandas-docs/stable/indexing.html#indexing-view-versus-copy\n",
      "  if sys.path[0] == '':\n",
      "/anaconda3/lib/python3.7/site-packages/ipykernel_launcher.py:13: SettingWithCopyWarning: \n",
      "A value is trying to be set on a copy of a slice from a DataFrame.\n",
      "Try using .loc[row_indexer,col_indexer] = value instead\n",
      "\n",
      "See the caveats in the documentation: http://pandas.pydata.org/pandas-docs/stable/indexing.html#indexing-view-versus-copy\n",
      "  del sys.path[0]\n",
      "/anaconda3/lib/python3.7/site-packages/ipykernel_launcher.py:14: SettingWithCopyWarning: \n",
      "A value is trying to be set on a copy of a slice from a DataFrame.\n",
      "Try using .loc[row_indexer,col_indexer] = value instead\n",
      "\n",
      "See the caveats in the documentation: http://pandas.pydata.org/pandas-docs/stable/indexing.html#indexing-view-versus-copy\n",
      "  \n"
     ]
    }
   ],
   "source": [
    "X_train['gdp'] = np.log(X_train.gdp)\n",
    "X_train['total_sex_ratio'] = 1/(X_train.total_sex_ratio)\n",
    "X_train['guns'] = np.log(X_train.guns+1)\n",
    "X_train['doc_ratio'] = np.log(X_train.doc_ratio)\n",
    "X_train['pop_dens'] = np.log(X_train.pop_dens)\n",
    "X_train['elevation'] = np.log(X_train.elevation)\n",
    "X_train['immigrants'] = np.log(X_train.immigrants)\n",
    "X_train['literacy'] = (X_train.literacy)**1/2\n",
    "X_train['gdppp'] = np.log(X_train.gdppp)\n",
    "X_train['population'] = np.log(X_train.population)\n",
    "X_train['children'] = X_train.children**2\n",
    "X_train['below_pov_line'] = np.log(X_train.below_pov_line)\n",
    "X_train['wine'] = np.log(X_train.wine+1)\n",
    "X_train['oth_alc'] = np.log(X_train.oth_alc+1)"
   ]
  },
  {
   "cell_type": "code",
   "execution_count": 4,
   "metadata": {},
   "outputs": [],
   "source": [
    "def validate_OLS(feature_matrix,target_series) :\n",
    "    \"\"\"\n",
    "    does a k_fold validation on a potential model to determine the average adj_r2 of each validation\n",
    "    \n",
    "    args:\n",
    "        target_series = series of dependent variable\n",
    "        feature_matrix = pd.DataFrame of predictors\n",
    "    returns :\n",
    "        mean adjusted r2 (maybe with list of features, undecided) for that model; float\n",
    "        \n",
    "    IMPORTANT NOTE : with smaller data sets, you will get weird results (aka negative adj_R2); the value\n",
    "    does still increase as the model improves though, so it should not be a problem long term.\n",
    "    \"\"\"\n",
    "    kf = KFold(n_splits=5, shuffle=True, random_state = 8)\n",
    "    r2s = cross_val_score(LinearRegression(), feature_matrix, target_series, cv=kf, scoring='r2')\n",
    "    return np.mean(r2s)"
   ]
  },
  {
   "cell_type": "code",
   "execution_count": 5,
   "metadata": {},
   "outputs": [],
   "source": [
    "def high_corr_check(feature_matrix,target_series,max_corr) :\n",
    "        \"\"\"\n",
    "    looks for any remaining high correlations and so that they can be looked at logically \n",
    "    \n",
    "    args:\n",
    "        target_series = np.series of dependent variable\n",
    "        feature_matrix = pd.DataFrame of predictors\n",
    "        max_corr = maximum correlation allowed between any two features (float; 0<max_corr<1)\n",
    "    returns :\n",
    "        list of highly (maybe with list of features, undecided) for that model\n",
    "        \n",
    "    \"\"\"\n",
    "        start_adj_r2 = validate_OLS(feature_matrix,target_series)\n",
    "        high_corrs = []\n",
    "        for col1 in feature_matrix.columns :\n",
    "            for col2 in feature_matrix.columns :\n",
    "                if col1 != col2 :\n",
    "                    corr = np.corrcoef(feature_matrix[col1],feature_matrix[col2])[0][1]\n",
    "                    if (abs(corr) >= max_corr and (col2, col1, corr) not in high_corrs): #not in is not working\n",
    "                        high_corrs.append((col1,col2,corr))\n",
    "        return list(set(high_corrs))"
   ]
  },
  {
   "cell_type": "code",
   "execution_count": 6,
   "metadata": {},
   "outputs": [],
   "source": [
    "whole_train = pd.concat([y_train,X_train],axis=1)"
   ]
  },
  {
   "cell_type": "code",
   "execution_count": 7,
   "metadata": {},
   "outputs": [
    {
     "data": {
      "text/plain": [
       "'bc_BothSexes+happy+doc_ratio+below_pov_line+gdp+gdppp+unemp+med_age+med_age_male+med_age_female+birth_sex_ratio+total_sex_ratio+literacy+hum_freedom+econ_freedom+gen_inequality+sunny_hours+rainfall+pop_dens+avg_temp+int_users+eth_div+ling_div+relig_div+wto+alc_cons+beer+wine+spirits+oth_alc+total_bmi+fem_bmi+male_bmi+r_home_war+elevation+guns+farmers+depression+children+urbanization+immigrants+population+homeless_dummy+marr_div_dummy+malnutrition_dummy+pov_ind_dummy'"
      ]
     },
     "execution_count": 7,
     "metadata": {},
     "output_type": "execute_result"
    }
   ],
   "source": [
    "'+'.join(list(whole_train.columns))"
   ]
  },
  {
   "cell_type": "code",
   "execution_count": 8,
   "metadata": {},
   "outputs": [],
   "source": [
    "whole_train=whole_train.drop(['gen_inequality','children','gdppp','med_age','med_age_male','male_bmi',\n",
    "                             'birth_sex_ratio','hum_freedom','econ_freedom','rainfall','fem_bmi','homeless_dummy',\n",
    "                             'marr_div_dummy','malnutrition_dummy','pov_ind_dummy','population','wto'],axis=1,\n",
    "                             errors='ignore')"
   ]
  },
  {
   "cell_type": "code",
   "execution_count": 9,
   "metadata": {},
   "outputs": [
    {
     "data": {
      "text/html": [
       "<table class=\"simpletable\">\n",
       "<caption>OLS Regression Results</caption>\n",
       "<tr>\n",
       "  <th>Dep. Variable:</th>      <td>bc_BothSexes</td>   <th>  R-squared:         </th> <td>   0.552</td>\n",
       "</tr>\n",
       "<tr>\n",
       "  <th>Model:</th>                   <td>OLS</td>       <th>  Adj. R-squared:    </th> <td>   0.445</td>\n",
       "</tr>\n",
       "<tr>\n",
       "  <th>Method:</th>             <td>Least Squares</td>  <th>  F-statistic:       </th> <td>   5.150</td>\n",
       "</tr>\n",
       "<tr>\n",
       "  <th>Date:</th>             <td>Wed, 17 Apr 2019</td> <th>  Prob (F-statistic):</th> <td>1.36e-10</td>\n",
       "</tr>\n",
       "<tr>\n",
       "  <th>Time:</th>                 <td>16:14:17</td>     <th>  Log-Likelihood:    </th> <td> -207.76</td>\n",
       "</tr>\n",
       "<tr>\n",
       "  <th>No. Observations:</th>      <td>   146</td>      <th>  AIC:               </th> <td>   473.5</td>\n",
       "</tr>\n",
       "<tr>\n",
       "  <th>Df Residuals:</th>          <td>   117</td>      <th>  BIC:               </th> <td>   560.0</td>\n",
       "</tr>\n",
       "<tr>\n",
       "  <th>Df Model:</th>              <td>    28</td>      <th>                     </th>     <td> </td>   \n",
       "</tr>\n",
       "<tr>\n",
       "  <th>Covariance Type:</th>      <td>nonrobust</td>    <th>                     </th>     <td> </td>   \n",
       "</tr>\n",
       "</table>\n",
       "<table class=\"simpletable\">\n",
       "<tr>\n",
       "         <td></td>            <th>coef</th>     <th>std err</th>      <th>t</th>      <th>P>|t|</th>  <th>[0.025</th>    <th>0.975]</th>  \n",
       "</tr>\n",
       "<tr>\n",
       "  <th>Intercept</th>       <td>    9.1320</td> <td>    3.443</td> <td>    2.653</td> <td> 0.009</td> <td>    2.314</td> <td>   15.950</td>\n",
       "</tr>\n",
       "<tr>\n",
       "  <th>happy</th>           <td>    0.1213</td> <td>    0.145</td> <td>    0.836</td> <td> 0.405</td> <td>   -0.166</td> <td>    0.408</td>\n",
       "</tr>\n",
       "<tr>\n",
       "  <th>doc_ratio</th>       <td>   -0.2806</td> <td>    0.178</td> <td>   -1.580</td> <td> 0.117</td> <td>   -0.632</td> <td>    0.071</td>\n",
       "</tr>\n",
       "<tr>\n",
       "  <th>below_pov_line</th>  <td>   -0.1374</td> <td>    0.166</td> <td>   -0.830</td> <td> 0.408</td> <td>   -0.465</td> <td>    0.191</td>\n",
       "</tr>\n",
       "<tr>\n",
       "  <th>gdp</th>             <td>    0.0050</td> <td>    0.075</td> <td>    0.066</td> <td> 0.947</td> <td>   -0.143</td> <td>    0.153</td>\n",
       "</tr>\n",
       "<tr>\n",
       "  <th>unemp</th>           <td>   -0.0059</td> <td>    0.019</td> <td>   -0.305</td> <td> 0.761</td> <td>   -0.044</td> <td>    0.032</td>\n",
       "</tr>\n",
       "<tr>\n",
       "  <th>med_age_female</th>  <td>    0.0252</td> <td>    0.029</td> <td>    0.868</td> <td> 0.387</td> <td>   -0.032</td> <td>    0.083</td>\n",
       "</tr>\n",
       "<tr>\n",
       "  <th>total_sex_ratio</th> <td>    1.4682</td> <td>    1.740</td> <td>    0.844</td> <td> 0.401</td> <td>   -1.979</td> <td>    4.915</td>\n",
       "</tr>\n",
       "<tr>\n",
       "  <th>literacy</th>        <td>   -0.0256</td> <td>    0.021</td> <td>   -1.220</td> <td> 0.225</td> <td>   -0.067</td> <td>    0.016</td>\n",
       "</tr>\n",
       "<tr>\n",
       "  <th>sunny_hours</th>     <td>   -0.0005</td> <td>    0.000</td> <td>   -1.702</td> <td> 0.091</td> <td>   -0.001</td> <td> 8.19e-05</td>\n",
       "</tr>\n",
       "<tr>\n",
       "  <th>pop_dens</th>        <td>   -0.1219</td> <td>    0.091</td> <td>   -1.346</td> <td> 0.181</td> <td>   -0.301</td> <td>    0.057</td>\n",
       "</tr>\n",
       "<tr>\n",
       "  <th>avg_temp</th>        <td>   -0.0601</td> <td>    0.020</td> <td>   -2.966</td> <td> 0.004</td> <td>   -0.100</td> <td>   -0.020</td>\n",
       "</tr>\n",
       "<tr>\n",
       "  <th>int_users</th>       <td>   -0.0281</td> <td>    0.010</td> <td>   -2.927</td> <td> 0.004</td> <td>   -0.047</td> <td>   -0.009</td>\n",
       "</tr>\n",
       "<tr>\n",
       "  <th>eth_div</th>         <td>    0.5394</td> <td>    0.585</td> <td>    0.922</td> <td> 0.358</td> <td>   -0.619</td> <td>    1.698</td>\n",
       "</tr>\n",
       "<tr>\n",
       "  <th>ling_div</th>        <td>   -0.3300</td> <td>    0.550</td> <td>   -0.600</td> <td> 0.550</td> <td>   -1.420</td> <td>    0.760</td>\n",
       "</tr>\n",
       "<tr>\n",
       "  <th>relig_div</th>       <td>   -0.1054</td> <td>    0.508</td> <td>   -0.207</td> <td> 0.836</td> <td>   -1.112</td> <td>    0.902</td>\n",
       "</tr>\n",
       "<tr>\n",
       "  <th>alc_cons</th>        <td>    0.0959</td> <td>    0.036</td> <td>    2.665</td> <td> 0.009</td> <td>    0.025</td> <td>    0.167</td>\n",
       "</tr>\n",
       "<tr>\n",
       "  <th>beer</th>            <td>    0.0096</td> <td>    0.007</td> <td>    1.470</td> <td> 0.144</td> <td>   -0.003</td> <td>    0.023</td>\n",
       "</tr>\n",
       "<tr>\n",
       "  <th>wine</th>            <td>   -0.1559</td> <td>    0.120</td> <td>   -1.296</td> <td> 0.198</td> <td>   -0.394</td> <td>    0.082</td>\n",
       "</tr>\n",
       "<tr>\n",
       "  <th>spirits</th>         <td>    0.0065</td> <td>    0.007</td> <td>    0.909</td> <td> 0.365</td> <td>   -0.008</td> <td>    0.021</td>\n",
       "</tr>\n",
       "<tr>\n",
       "  <th>oth_alc</th>         <td>    0.2774</td> <td>    0.127</td> <td>    2.180</td> <td> 0.031</td> <td>    0.025</td> <td>    0.529</td>\n",
       "</tr>\n",
       "<tr>\n",
       "  <th>total_bmi</th>       <td>   -0.0701</td> <td>    0.078</td> <td>   -0.897</td> <td> 0.372</td> <td>   -0.225</td> <td>    0.085</td>\n",
       "</tr>\n",
       "<tr>\n",
       "  <th>r_home_war</th>      <td>   -0.3293</td> <td>    0.298</td> <td>   -1.103</td> <td> 0.272</td> <td>   -0.920</td> <td>    0.262</td>\n",
       "</tr>\n",
       "<tr>\n",
       "  <th>elevation</th>       <td>   -0.1726</td> <td>    0.117</td> <td>   -1.471</td> <td> 0.144</td> <td>   -0.405</td> <td>    0.060</td>\n",
       "</tr>\n",
       "<tr>\n",
       "  <th>guns</th>            <td>    0.0379</td> <td>    0.139</td> <td>    0.273</td> <td> 0.785</td> <td>   -0.237</td> <td>    0.313</td>\n",
       "</tr>\n",
       "<tr>\n",
       "  <th>farmers</th>         <td>   -0.0103</td> <td>    0.008</td> <td>   -1.244</td> <td> 0.216</td> <td>   -0.027</td> <td>    0.006</td>\n",
       "</tr>\n",
       "<tr>\n",
       "  <th>depression</th>      <td>   -0.0008</td> <td>    0.001</td> <td>   -1.205</td> <td> 0.231</td> <td>   -0.002</td> <td>    0.001</td>\n",
       "</tr>\n",
       "<tr>\n",
       "  <th>urbanization</th>    <td>    0.0124</td> <td>    0.008</td> <td>    1.605</td> <td> 0.111</td> <td>   -0.003</td> <td>    0.028</td>\n",
       "</tr>\n",
       "<tr>\n",
       "  <th>immigrants</th>      <td>    0.0346</td> <td>    0.096</td> <td>    0.361</td> <td> 0.719</td> <td>   -0.155</td> <td>    0.224</td>\n",
       "</tr>\n",
       "</table>\n",
       "<table class=\"simpletable\">\n",
       "<tr>\n",
       "  <th>Omnibus:</th>       <td> 3.005</td> <th>  Durbin-Watson:     </th> <td>   1.848</td>\n",
       "</tr>\n",
       "<tr>\n",
       "  <th>Prob(Omnibus):</th> <td> 0.223</td> <th>  Jarque-Bera (JB):  </th> <td>   2.494</td>\n",
       "</tr>\n",
       "<tr>\n",
       "  <th>Skew:</th>          <td> 0.271</td> <th>  Prob(JB):          </th> <td>   0.287</td>\n",
       "</tr>\n",
       "<tr>\n",
       "  <th>Kurtosis:</th>      <td> 3.342</td> <th>  Cond. No.          </th> <td>1.04e+05</td>\n",
       "</tr>\n",
       "</table><br/><br/>Warnings:<br/>[1] Standard Errors assume that the covariance matrix of the errors is correctly specified.<br/>[2] The condition number is large, 1.04e+05. This might indicate that there are<br/>strong multicollinearity or other numerical problems."
      ],
      "text/plain": [
       "<class 'statsmodels.iolib.summary.Summary'>\n",
       "\"\"\"\n",
       "                            OLS Regression Results                            \n",
       "==============================================================================\n",
       "Dep. Variable:           bc_BothSexes   R-squared:                       0.552\n",
       "Model:                            OLS   Adj. R-squared:                  0.445\n",
       "Method:                 Least Squares   F-statistic:                     5.150\n",
       "Date:                Wed, 17 Apr 2019   Prob (F-statistic):           1.36e-10\n",
       "Time:                        16:14:17   Log-Likelihood:                -207.76\n",
       "No. Observations:                 146   AIC:                             473.5\n",
       "Df Residuals:                     117   BIC:                             560.0\n",
       "Df Model:                          28                                         \n",
       "Covariance Type:            nonrobust                                         \n",
       "===================================================================================\n",
       "                      coef    std err          t      P>|t|      [0.025      0.975]\n",
       "-----------------------------------------------------------------------------------\n",
       "Intercept           9.1320      3.443      2.653      0.009       2.314      15.950\n",
       "happy               0.1213      0.145      0.836      0.405      -0.166       0.408\n",
       "doc_ratio          -0.2806      0.178     -1.580      0.117      -0.632       0.071\n",
       "below_pov_line     -0.1374      0.166     -0.830      0.408      -0.465       0.191\n",
       "gdp                 0.0050      0.075      0.066      0.947      -0.143       0.153\n",
       "unemp              -0.0059      0.019     -0.305      0.761      -0.044       0.032\n",
       "med_age_female      0.0252      0.029      0.868      0.387      -0.032       0.083\n",
       "total_sex_ratio     1.4682      1.740      0.844      0.401      -1.979       4.915\n",
       "literacy           -0.0256      0.021     -1.220      0.225      -0.067       0.016\n",
       "sunny_hours        -0.0005      0.000     -1.702      0.091      -0.001    8.19e-05\n",
       "pop_dens           -0.1219      0.091     -1.346      0.181      -0.301       0.057\n",
       "avg_temp           -0.0601      0.020     -2.966      0.004      -0.100      -0.020\n",
       "int_users          -0.0281      0.010     -2.927      0.004      -0.047      -0.009\n",
       "eth_div             0.5394      0.585      0.922      0.358      -0.619       1.698\n",
       "ling_div           -0.3300      0.550     -0.600      0.550      -1.420       0.760\n",
       "relig_div          -0.1054      0.508     -0.207      0.836      -1.112       0.902\n",
       "alc_cons            0.0959      0.036      2.665      0.009       0.025       0.167\n",
       "beer                0.0096      0.007      1.470      0.144      -0.003       0.023\n",
       "wine               -0.1559      0.120     -1.296      0.198      -0.394       0.082\n",
       "spirits             0.0065      0.007      0.909      0.365      -0.008       0.021\n",
       "oth_alc             0.2774      0.127      2.180      0.031       0.025       0.529\n",
       "total_bmi          -0.0701      0.078     -0.897      0.372      -0.225       0.085\n",
       "r_home_war         -0.3293      0.298     -1.103      0.272      -0.920       0.262\n",
       "elevation          -0.1726      0.117     -1.471      0.144      -0.405       0.060\n",
       "guns                0.0379      0.139      0.273      0.785      -0.237       0.313\n",
       "farmers            -0.0103      0.008     -1.244      0.216      -0.027       0.006\n",
       "depression         -0.0008      0.001     -1.205      0.231      -0.002       0.001\n",
       "urbanization        0.0124      0.008      1.605      0.111      -0.003       0.028\n",
       "immigrants          0.0346      0.096      0.361      0.719      -0.155       0.224\n",
       "==============================================================================\n",
       "Omnibus:                        3.005   Durbin-Watson:                   1.848\n",
       "Prob(Omnibus):                  0.223   Jarque-Bera (JB):                2.494\n",
       "Skew:                           0.271   Prob(JB):                        0.287\n",
       "Kurtosis:                       3.342   Cond. No.                     1.04e+05\n",
       "==============================================================================\n",
       "\n",
       "Warnings:\n",
       "[1] Standard Errors assume that the covariance matrix of the errors is correctly specified.\n",
       "[2] The condition number is large, 1.04e+05. This might indicate that there are\n",
       "strong multicollinearity or other numerical problems.\n",
       "\"\"\""
      ]
     },
     "execution_count": 9,
     "metadata": {},
     "output_type": "execute_result"
    }
   ],
   "source": [
    "lregmodel = smf.ols(\"\"\"bc_BothSexes ~ happy+doc_ratio+below_pov_line+gdp+unemp+med_age_female+total_sex_ratio+literacy+sunny_hours+pop_dens+avg_temp+int_users+eth_div+ling_div+relig_div+alc_cons+beer+wine+spirits+oth_alc+total_bmi+r_home_war+elevation+guns+farmers+depression+urbanization+immigrants\"\"\"\n",
    "                     ,data=whole_train)\n",
    "results = lregmodel.fit()\n",
    "results.summary()"
   ]
  },
  {
   "cell_type": "markdown",
   "metadata": {},
   "source": [
    "# Now to start feature combining"
   ]
  },
  {
   "cell_type": "code",
   "execution_count": 10,
   "metadata": {},
   "outputs": [],
   "source": [
    "X_train = X_train.drop(['gen_inequality','children','gdppp','med_age','med_age_male','male_bmi',\n",
    "                        'birth_sex_ratio','hum_freedom','econ_freedom','rainfall','fem_bmi','homeless_dummy',\n",
    "                        'marr_div_dummy','malnutrition_dummy','pov_ind_dummy','population','wto'],axis=1,errors='ignore')"
   ]
  },
  {
   "cell_type": "code",
   "execution_count": 11,
   "metadata": {},
   "outputs": [],
   "source": [
    "whole_train_t=deepcopy(whole_train)"
   ]
  },
  {
   "cell_type": "code",
   "execution_count": 12,
   "metadata": {},
   "outputs": [],
   "source": [
    "whole_train_t['t_doc_lit'] = whole_train_t.doc_ratio * whole_train_t.literacy\n",
    "whole_train_t = whole_train_t.drop(['doc_ratio','literacy'],axis=1)"
   ]
  },
  {
   "cell_type": "code",
   "execution_count": 13,
   "metadata": {},
   "outputs": [],
   "source": [
    "whole_train_t['t_temp_sunny'] = whole_train_t.avg_temp * whole_train_t.sunny_hours\n",
    "whole_train_t = whole_train_t.drop(['avg_temp','sunny_hours'],axis=1)"
   ]
  },
  {
   "cell_type": "code",
   "execution_count": 14,
   "metadata": {},
   "outputs": [],
   "source": [
    "whole_train_t = whole_train_t.drop(['beer','wine','spirits','oth_alc','ling_div','med_age_female','r_home_war',\n",
    "                                    'unemp','below_pov_line','gdp','eth_div','relig_div','immigrants','urbanization',\n",
    "                                    'guns','happy','total_sex_ratio'],axis=1)"
   ]
  },
  {
   "cell_type": "code",
   "execution_count": 15,
   "metadata": {},
   "outputs": [
    {
     "data": {
      "text/plain": [
       "'bc_BothSexes+pop_dens+int_users+alc_cons+total_bmi+elevation+farmers+depression+t_doc_lit+t_temp_sunny'"
      ]
     },
     "execution_count": 15,
     "metadata": {},
     "output_type": "execute_result"
    }
   ],
   "source": [
    "'+'.join(list(whole_train_t.columns))"
   ]
  },
  {
   "cell_type": "code",
   "execution_count": 16,
   "metadata": {},
   "outputs": [
    {
     "data": {
      "text/html": [
       "<table class=\"simpletable\">\n",
       "<caption>OLS Regression Results</caption>\n",
       "<tr>\n",
       "  <th>Dep. Variable:</th>      <td>bc_BothSexes</td>   <th>  R-squared:         </th> <td>   0.464</td>\n",
       "</tr>\n",
       "<tr>\n",
       "  <th>Model:</th>                   <td>OLS</td>       <th>  Adj. R-squared:    </th> <td>   0.429</td>\n",
       "</tr>\n",
       "<tr>\n",
       "  <th>Method:</th>             <td>Least Squares</td>  <th>  F-statistic:       </th> <td>   13.09</td>\n",
       "</tr>\n",
       "<tr>\n",
       "  <th>Date:</th>             <td>Wed, 17 Apr 2019</td> <th>  Prob (F-statistic):</th> <td>6.83e-15</td>\n",
       "</tr>\n",
       "<tr>\n",
       "  <th>Time:</th>                 <td>16:14:19</td>     <th>  Log-Likelihood:    </th> <td> -220.85</td>\n",
       "</tr>\n",
       "<tr>\n",
       "  <th>No. Observations:</th>      <td>   146</td>      <th>  AIC:               </th> <td>   461.7</td>\n",
       "</tr>\n",
       "<tr>\n",
       "  <th>Df Residuals:</th>          <td>   136</td>      <th>  BIC:               </th> <td>   491.5</td>\n",
       "</tr>\n",
       "<tr>\n",
       "  <th>Df Model:</th>              <td>     9</td>      <th>                     </th>     <td> </td>   \n",
       "</tr>\n",
       "<tr>\n",
       "  <th>Covariance Type:</th>      <td>nonrobust</td>    <th>                     </th>     <td> </td>   \n",
       "</tr>\n",
       "</table>\n",
       "<table class=\"simpletable\">\n",
       "<tr>\n",
       "        <td></td>          <th>coef</th>     <th>std err</th>      <th>t</th>      <th>P>|t|</th>  <th>[0.025</th>    <th>0.975]</th>  \n",
       "</tr>\n",
       "<tr>\n",
       "  <th>Intercept</th>    <td>   13.2308</td> <td>    1.855</td> <td>    7.132</td> <td> 0.000</td> <td>    9.562</td> <td>   16.899</td>\n",
       "</tr>\n",
       "<tr>\n",
       "  <th>pop_dens</th>     <td>   -0.2204</td> <td>    0.074</td> <td>   -2.979</td> <td> 0.003</td> <td>   -0.367</td> <td>   -0.074</td>\n",
       "</tr>\n",
       "<tr>\n",
       "  <th>int_users</th>    <td>   -0.0131</td> <td>    0.007</td> <td>   -1.905</td> <td> 0.059</td> <td>   -0.027</td> <td>    0.000</td>\n",
       "</tr>\n",
       "<tr>\n",
       "  <th>alc_cons</th>     <td>    0.1372</td> <td>    0.031</td> <td>    4.470</td> <td> 0.000</td> <td>    0.077</td> <td>    0.198</td>\n",
       "</tr>\n",
       "<tr>\n",
       "  <th>total_bmi</th>    <td>   -0.1331</td> <td>    0.060</td> <td>   -2.228</td> <td> 0.028</td> <td>   -0.251</td> <td>   -0.015</td>\n",
       "</tr>\n",
       "<tr>\n",
       "  <th>elevation</th>    <td>   -0.2443</td> <td>    0.106</td> <td>   -2.296</td> <td> 0.023</td> <td>   -0.455</td> <td>   -0.034</td>\n",
       "</tr>\n",
       "<tr>\n",
       "  <th>farmers</th>      <td>   -0.0130</td> <td>    0.008</td> <td>   -1.712</td> <td> 0.089</td> <td>   -0.028</td> <td>    0.002</td>\n",
       "</tr>\n",
       "<tr>\n",
       "  <th>depression</th>   <td>   -0.0016</td> <td>    0.001</td> <td>   -2.705</td> <td> 0.008</td> <td>   -0.003</td> <td>   -0.000</td>\n",
       "</tr>\n",
       "<tr>\n",
       "  <th>t_doc_lit</th>    <td>   -0.0076</td> <td>    0.003</td> <td>   -2.393</td> <td> 0.018</td> <td>   -0.014</td> <td>   -0.001</td>\n",
       "</tr>\n",
       "<tr>\n",
       "  <th>t_temp_sunny</th> <td> -2.57e-05</td> <td> 6.25e-06</td> <td>   -4.110</td> <td> 0.000</td> <td>-3.81e-05</td> <td>-1.33e-05</td>\n",
       "</tr>\n",
       "</table>\n",
       "<table class=\"simpletable\">\n",
       "<tr>\n",
       "  <th>Omnibus:</th>       <td> 1.142</td> <th>  Durbin-Watson:     </th> <td>   1.829</td>\n",
       "</tr>\n",
       "<tr>\n",
       "  <th>Prob(Omnibus):</th> <td> 0.565</td> <th>  Jarque-Bera (JB):  </th> <td>   0.935</td>\n",
       "</tr>\n",
       "<tr>\n",
       "  <th>Skew:</th>          <td> 0.195</td> <th>  Prob(JB):          </th> <td>   0.627</td>\n",
       "</tr>\n",
       "<tr>\n",
       "  <th>Kurtosis:</th>      <td> 3.043</td> <th>  Cond. No.          </th> <td>1.06e+06</td>\n",
       "</tr>\n",
       "</table><br/><br/>Warnings:<br/>[1] Standard Errors assume that the covariance matrix of the errors is correctly specified.<br/>[2] The condition number is large, 1.06e+06. This might indicate that there are<br/>strong multicollinearity or other numerical problems."
      ],
      "text/plain": [
       "<class 'statsmodels.iolib.summary.Summary'>\n",
       "\"\"\"\n",
       "                            OLS Regression Results                            \n",
       "==============================================================================\n",
       "Dep. Variable:           bc_BothSexes   R-squared:                       0.464\n",
       "Model:                            OLS   Adj. R-squared:                  0.429\n",
       "Method:                 Least Squares   F-statistic:                     13.09\n",
       "Date:                Wed, 17 Apr 2019   Prob (F-statistic):           6.83e-15\n",
       "Time:                        16:14:19   Log-Likelihood:                -220.85\n",
       "No. Observations:                 146   AIC:                             461.7\n",
       "Df Residuals:                     136   BIC:                             491.5\n",
       "Df Model:                           9                                         \n",
       "Covariance Type:            nonrobust                                         \n",
       "================================================================================\n",
       "                   coef    std err          t      P>|t|      [0.025      0.975]\n",
       "--------------------------------------------------------------------------------\n",
       "Intercept       13.2308      1.855      7.132      0.000       9.562      16.899\n",
       "pop_dens        -0.2204      0.074     -2.979      0.003      -0.367      -0.074\n",
       "int_users       -0.0131      0.007     -1.905      0.059      -0.027       0.000\n",
       "alc_cons         0.1372      0.031      4.470      0.000       0.077       0.198\n",
       "total_bmi       -0.1331      0.060     -2.228      0.028      -0.251      -0.015\n",
       "elevation       -0.2443      0.106     -2.296      0.023      -0.455      -0.034\n",
       "farmers         -0.0130      0.008     -1.712      0.089      -0.028       0.002\n",
       "depression      -0.0016      0.001     -2.705      0.008      -0.003      -0.000\n",
       "t_doc_lit       -0.0076      0.003     -2.393      0.018      -0.014      -0.001\n",
       "t_temp_sunny  -2.57e-05   6.25e-06     -4.110      0.000   -3.81e-05   -1.33e-05\n",
       "==============================================================================\n",
       "Omnibus:                        1.142   Durbin-Watson:                   1.829\n",
       "Prob(Omnibus):                  0.565   Jarque-Bera (JB):                0.935\n",
       "Skew:                           0.195   Prob(JB):                        0.627\n",
       "Kurtosis:                       3.043   Cond. No.                     1.06e+06\n",
       "==============================================================================\n",
       "\n",
       "Warnings:\n",
       "[1] Standard Errors assume that the covariance matrix of the errors is correctly specified.\n",
       "[2] The condition number is large, 1.06e+06. This might indicate that there are\n",
       "strong multicollinearity or other numerical problems.\n",
       "\"\"\""
      ]
     },
     "execution_count": 16,
     "metadata": {},
     "output_type": "execute_result"
    }
   ],
   "source": [
    "lregmodel = smf.ols(\"\"\"bc_BothSexes ~ pop_dens+int_users+alc_cons+total_bmi+elevation+farmers+depression+t_doc_lit+t_temp_sunny\"\"\"\n",
    "                     ,data=whole_train_t)\n",
    "results = lregmodel.fit()\n",
    "results.summary()"
   ]
  },
  {
   "cell_type": "code",
   "execution_count": 17,
   "metadata": {},
   "outputs": [
    {
     "name": "stderr",
     "output_type": "stream",
     "text": [
      "/anaconda3/lib/python3.7/site-packages/sklearn/model_selection/_split.py:2053: FutureWarning: You should specify a value for 'cv' instead of relying on the default value. The default value will change from 3 to 5 in version 0.22.\n",
      "  warnings.warn(CV_WARNING, FutureWarning)\n"
     ]
    },
    {
     "data": {
      "text/plain": [
       "0.348846019004694"
      ]
     },
     "execution_count": 17,
     "metadata": {},
     "output_type": "execute_result"
    }
   ],
   "source": [
    "lr = LinearRegression()\n",
    "np.mean(cross_val_score(lr,whole_train_t.iloc[:,1:],whole_train_t.iloc[:,0],scoring='r2'))"
   ]
  },
  {
   "cell_type": "markdown",
   "metadata": {},
   "source": [
    "# Having gotten the best possible result through many iterations\n",
    "Time to try it on the test!"
   ]
  },
  {
   "cell_type": "code",
   "execution_count": 18,
   "metadata": {},
   "outputs": [],
   "source": [
    "X_test_eng_t = deepcopy(X_test)\n",
    "\n",
    "X_test_eng_t['gdp'] = np.log(X_test_eng_t.gdp)\n",
    "X_test_eng_t['total_sex_ratio'] = 1/(X_test_eng_t.total_sex_ratio)\n",
    "X_test_eng_t['guns'] = np.log(X_test_eng_t.guns+1)\n",
    "X_test_eng_t['doc_ratio'] = np.log(X_test_eng_t.doc_ratio)\n",
    "X_test_eng_t['pop_dens'] = np.log(X_test_eng_t.pop_dens)\n",
    "X_test_eng_t['elevation'] = np.log(X_test_eng_t.elevation)\n",
    "X_test_eng_t['immigrants'] = np.log(X_test_eng_t.immigrants)\n",
    "X_test_eng_t['literacy'] = (X_test_eng_t.literacy)**1/2\n",
    "X_test_eng_t['gdppp'] = np.log(X_test_eng_t.gdppp)\n",
    "X_test_eng_t['population'] = np.log(X_test_eng_t.population)\n",
    "X_test_eng_t['children'] = X_test_eng_t.children**2\n",
    "X_test_eng_t['below_pov_line'] = np.log(X_test_eng_t.below_pov_line)\n",
    "X_test_eng_t['wine'] = np.log(X_test_eng_t.wine+1)\n",
    "X_test_eng_t['oth_alc'] = np.log(X_test_eng_t.oth_alc+1)\n",
    "\n",
    "X_test_eng_t['t_doc_lit'] = X_test_eng_t.doc_ratio * X_test_eng_t.literacy\n",
    "X_test_eng_t = X_test_eng_t.drop(['doc_ratio','literacy'],axis=1)\n",
    "X_test_eng_t['t_temp_sunny'] = X_test_eng_t.avg_temp * X_test_eng_t.sunny_hours\n",
    "X_test_eng_t = X_test_eng_t.drop(['avg_temp','sunny_hours'],axis=1)\n",
    "\n",
    "X_test_eng_t = X_test_eng_t.loc[:,['pop_dens','int_users','alc_cons','total_bmi','elevation','farmers','depression',\n",
    "                                  't_doc_lit','t_temp_sunny']]"
   ]
  },
  {
   "cell_type": "code",
   "execution_count": 20,
   "metadata": {},
   "outputs": [],
   "source": [
    "final_X_train = whole_train_t.iloc[:,1:]\n",
    "final_y_train = whole_train_t.iloc[:,0]"
   ]
  },
  {
   "cell_type": "code",
   "execution_count": 21,
   "metadata": {},
   "outputs": [],
   "source": [
    "lm_ols = LinearRegression()\n",
    "results = lm_ols.fit(final_X_train,final_y_train)\n",
    "\n",
    "predict = lm_ols.predict(X_test_eng_t)"
   ]
  },
  {
   "cell_type": "code",
   "execution_count": 25,
   "metadata": {},
   "outputs": [],
   "source": [
    "from scipy.special import inv_boxcox\n",
    "\n",
    "y_test = inv_boxcox(y_test,[.41719220590443856])\n",
    "predict = inv_boxcox(predict,[.41719220590443856])"
   ]
  },
  {
   "cell_type": "code",
   "execution_count": 30,
   "metadata": {},
   "outputs": [
    {
     "data": {
      "text/plain": [
       "[<matplotlib.lines.Line2D at 0x1a26dd6940>]"
      ]
     },
     "execution_count": 30,
     "metadata": {},
     "output_type": "execute_result"
    },
    {
     "data": {
      "image/png": "[encoded data removed]",
      "text/plain": [
       "<Figure size 432x288 with 1 Axes>"
      ]
     },
     "metadata": {
      "needs_background": "light"
     },
     "output_type": "display_data"
    }
   ],
   "source": [
    "sns.scatterplot(y_test,predict)\n",
    "plt.plot([0,18],[0,18])"
   ]
  },
  {
   "cell_type": "markdown",
   "metadata": {},
   "source": [
    "# Ça ç'est pas amélioré. Dommage."
   ]
  },
  {
   "cell_type": "code",
   "execution_count": null,
   "metadata": {},
   "outputs": [],
   "source": []
  }
 ],
 "metadata": {
  "kernelspec": {
   "display_name": "Python 3",
   "language": "python",
   "name": "python3"
  },
  "language_info": {
   "codemirror_mode": {
    "name": "ipython",
    "version": 3
   },
   "file_extension": ".py",
   "mimetype": "text/x-python",
   "name": "python",
   "nbconvert_exporter": "python",
   "pygments_lexer": "ipython3",
   "version": "3.7.1"
  }
 },
 "nbformat": 4,
 "nbformat_minor": 2
}
