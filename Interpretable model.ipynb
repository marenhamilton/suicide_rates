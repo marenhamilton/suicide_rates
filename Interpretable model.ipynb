{
 "cells": [
  {
   "cell_type": "markdown",
   "metadata": {},
   "source": [
    "# This was my first attempt at an intuitive model before I realised I could do some feature engineering even in an intuitive model\n",
    "Kept in for reference!"
   ]
  },
  {
   "cell_type": "code",
   "execution_count": 1,
   "metadata": {},
   "outputs": [],
   "source": [
    "import pandas as pd\n",
    "import numpy as np\n",
    "\n",
    "from sklearn.model_selection import train_test_split, KFold\n",
    "from sklearn.preprocessing import StandardScaler, PolynomialFeatures\n",
    "from sklearn.linear_model import LinearRegression, Lasso, LassoCV, Ridge, RidgeCV\n",
    "from sklearn.model_selection import cross_val_score,cross_val_predict\n",
    "\n",
    "import statsmodels.formula.api as smf"
   ]
  },
  {
   "cell_type": "code",
   "execution_count": 2,
   "metadata": {},
   "outputs": [],
   "source": [
    "basic_data = pd.read_pickle('full_country_data.pkl')\n",
    "basic_data = basic_data.drop(['Continent','homeless','marriage','divorce','marr_div_ratio','malnutrition','pov_ind','FemalesNumber','MalesNumber','bc_BothSexes'],axis=1)\n",
    "basic_data = basic_data.astype(float)\n",
    "X,y = basic_data.drop('BothSexes',axis=1), basic_data['BothSexes']"
   ]
  },
  {
   "cell_type": "code",
   "execution_count": 3,
   "metadata": {},
   "outputs": [],
   "source": [
    "X_train,X_test,y_train,y_test = train_test_split(X,y,test_size=.2,random_state=8,shuffle=True)"
   ]
  },
  {
   "cell_type": "code",
   "execution_count": 4,
   "metadata": {},
   "outputs": [],
   "source": [
    "train_whole = pd.concat([y_train,X_train],axis=1)\n",
    "train_whole = train_whole.drop(['hum_freedom','gen_inequality'],axis=1,errors='ignore')"
   ]
  },
  {
   "cell_type": "code",
   "execution_count": 5,
   "metadata": {},
   "outputs": [
    {
     "data": {
      "text/html": [
       "<table class=\"simpletable\">\n",
       "<caption>OLS Regression Results</caption>\n",
       "<tr>\n",
       "  <th>Dep. Variable:</th>        <td>BothSexes</td>    <th>  R-squared:         </th> <td>   0.592</td>\n",
       "</tr>\n",
       "<tr>\n",
       "  <th>Model:</th>                   <td>OLS</td>       <th>  Adj. R-squared:    </th> <td>   0.431</td>\n",
       "</tr>\n",
       "<tr>\n",
       "  <th>Method:</th>             <td>Least Squares</td>  <th>  F-statistic:       </th> <td>   3.678</td>\n",
       "</tr>\n",
       "<tr>\n",
       "  <th>Date:</th>             <td>Fri, 19 Apr 2019</td> <th>  Prob (F-statistic):</th> <td>4.59e-08</td>\n",
       "</tr>\n",
       "<tr>\n",
       "  <th>Time:</th>                 <td>16:03:23</td>     <th>  Log-Likelihood:    </th> <td> -386.59</td>\n",
       "</tr>\n",
       "<tr>\n",
       "  <th>No. Observations:</th>      <td>   146</td>      <th>  AIC:               </th> <td>   857.2</td>\n",
       "</tr>\n",
       "<tr>\n",
       "  <th>Df Residuals:</th>          <td>   104</td>      <th>  BIC:               </th> <td>   982.5</td>\n",
       "</tr>\n",
       "<tr>\n",
       "  <th>Df Model:</th>              <td>    41</td>      <th>                     </th>     <td> </td>   \n",
       "</tr>\n",
       "<tr>\n",
       "  <th>Covariance Type:</th>      <td>nonrobust</td>    <th>                     </th>     <td> </td>   \n",
       "</tr>\n",
       "</table>\n",
       "<table class=\"simpletable\">\n",
       "<tr>\n",
       "           <td></td>             <th>coef</th>     <th>std err</th>      <th>t</th>      <th>P>|t|</th>  <th>[0.025</th>    <th>0.975]</th>  \n",
       "</tr>\n",
       "<tr>\n",
       "  <th>Intercept</th>          <td>   97.0961</td> <td>   31.428</td> <td>    3.089</td> <td> 0.003</td> <td>   34.772</td> <td>  159.420</td>\n",
       "</tr>\n",
       "<tr>\n",
       "  <th>happy</th>              <td>    0.3953</td> <td>    0.639</td> <td>    0.619</td> <td> 0.537</td> <td>   -0.871</td> <td>    1.661</td>\n",
       "</tr>\n",
       "<tr>\n",
       "  <th>doc_ratio</th>          <td>   -0.0308</td> <td>    0.053</td> <td>   -0.584</td> <td> 0.561</td> <td>   -0.135</td> <td>    0.074</td>\n",
       "</tr>\n",
       "<tr>\n",
       "  <th>below_pov_line</th>     <td>   -0.0390</td> <td>    0.035</td> <td>   -1.122</td> <td> 0.265</td> <td>   -0.108</td> <td>    0.030</td>\n",
       "</tr>\n",
       "<tr>\n",
       "  <th>gdp</th>                <td>-6.996e-07</td> <td> 3.21e-07</td> <td>   -2.178</td> <td> 0.032</td> <td>-1.34e-06</td> <td>-6.27e-08</td>\n",
       "</tr>\n",
       "<tr>\n",
       "  <th>gdppp</th>              <td>    0.0001</td> <td>  4.8e-05</td> <td>    2.233</td> <td> 0.028</td> <td>  1.2e-05</td> <td>    0.000</td>\n",
       "</tr>\n",
       "<tr>\n",
       "  <th>unemp</th>              <td>   -0.1260</td> <td>    0.066</td> <td>   -1.913</td> <td> 0.058</td> <td>   -0.257</td> <td>    0.005</td>\n",
       "</tr>\n",
       "<tr>\n",
       "  <th>med_age</th>            <td>    3.0053</td> <td>    4.170</td> <td>    0.721</td> <td> 0.473</td> <td>   -5.264</td> <td>   11.275</td>\n",
       "</tr>\n",
       "<tr>\n",
       "  <th>med_age_male</th>       <td>   -2.3842</td> <td>    2.164</td> <td>   -1.102</td> <td> 0.273</td> <td>   -6.675</td> <td>    1.907</td>\n",
       "</tr>\n",
       "<tr>\n",
       "  <th>med_age_female</th>     <td>   -0.6963</td> <td>    2.052</td> <td>   -0.339</td> <td> 0.735</td> <td>   -4.765</td> <td>    3.372</td>\n",
       "</tr>\n",
       "<tr>\n",
       "  <th>birth_sex_ratio</th>    <td>  -49.2099</td> <td>   22.396</td> <td>   -2.197</td> <td> 0.030</td> <td>  -93.623</td> <td>   -4.797</td>\n",
       "</tr>\n",
       "<tr>\n",
       "  <th>total_sex_ratio</th>    <td>   -3.2484</td> <td>    3.884</td> <td>   -0.836</td> <td> 0.405</td> <td>  -10.951</td> <td>    4.455</td>\n",
       "</tr>\n",
       "<tr>\n",
       "  <th>literacy</th>           <td>   -0.0246</td> <td>    0.036</td> <td>   -0.676</td> <td> 0.500</td> <td>   -0.097</td> <td>    0.048</td>\n",
       "</tr>\n",
       "<tr>\n",
       "  <th>econ_freedom</th>       <td>   -1.1498</td> <td>    0.761</td> <td>   -1.511</td> <td> 0.134</td> <td>   -2.659</td> <td>    0.359</td>\n",
       "</tr>\n",
       "<tr>\n",
       "  <th>sunny_hours</th>        <td>   -0.0019</td> <td>    0.001</td> <td>   -1.498</td> <td> 0.137</td> <td>   -0.004</td> <td>    0.001</td>\n",
       "</tr>\n",
       "<tr>\n",
       "  <th>rainfall</th>           <td>   -0.0002</td> <td>    0.001</td> <td>   -0.280</td> <td> 0.780</td> <td>   -0.002</td> <td>    0.001</td>\n",
       "</tr>\n",
       "<tr>\n",
       "  <th>pop_dens</th>           <td> 9.895e-05</td> <td>    0.000</td> <td>    0.373</td> <td> 0.710</td> <td>   -0.000</td> <td>    0.001</td>\n",
       "</tr>\n",
       "<tr>\n",
       "  <th>avg_temp</th>           <td>   -0.1779</td> <td>    0.099</td> <td>   -1.797</td> <td> 0.075</td> <td>   -0.374</td> <td>    0.018</td>\n",
       "</tr>\n",
       "<tr>\n",
       "  <th>int_users</th>          <td>   -0.1110</td> <td>    0.043</td> <td>   -2.612</td> <td> 0.010</td> <td>   -0.195</td> <td>   -0.027</td>\n",
       "</tr>\n",
       "<tr>\n",
       "  <th>eth_div</th>            <td>    2.0526</td> <td>    2.488</td> <td>    0.825</td> <td> 0.411</td> <td>   -2.882</td> <td>    6.987</td>\n",
       "</tr>\n",
       "<tr>\n",
       "  <th>ling_div</th>           <td>   -1.9340</td> <td>    2.182</td> <td>   -0.886</td> <td> 0.377</td> <td>   -6.261</td> <td>    2.393</td>\n",
       "</tr>\n",
       "<tr>\n",
       "  <th>relig_div</th>          <td>    0.9343</td> <td>    2.124</td> <td>    0.440</td> <td> 0.661</td> <td>   -3.277</td> <td>    5.146</td>\n",
       "</tr>\n",
       "<tr>\n",
       "  <th>wto</th>                <td>   -1.3816</td> <td>    1.786</td> <td>   -0.773</td> <td> 0.441</td> <td>   -4.924</td> <td>    2.161</td>\n",
       "</tr>\n",
       "<tr>\n",
       "  <th>alc_cons</th>           <td>    0.4691</td> <td>    0.142</td> <td>    3.305</td> <td> 0.001</td> <td>    0.188</td> <td>    0.751</td>\n",
       "</tr>\n",
       "<tr>\n",
       "  <th>beer</th>               <td>    0.0400</td> <td>    0.038</td> <td>    1.053</td> <td> 0.295</td> <td>   -0.035</td> <td>    0.115</td>\n",
       "</tr>\n",
       "<tr>\n",
       "  <th>wine</th>               <td>    0.0551</td> <td>    0.046</td> <td>    1.209</td> <td> 0.230</td> <td>   -0.035</td> <td>    0.146</td>\n",
       "</tr>\n",
       "<tr>\n",
       "  <th>spirits</th>            <td>    0.0760</td> <td>    0.037</td> <td>    2.036</td> <td> 0.044</td> <td>    0.002</td> <td>    0.150</td>\n",
       "</tr>\n",
       "<tr>\n",
       "  <th>oth_alc</th>            <td>    0.0885</td> <td>    0.043</td> <td>    2.057</td> <td> 0.042</td> <td>    0.003</td> <td>    0.174</td>\n",
       "</tr>\n",
       "<tr>\n",
       "  <th>total_bmi</th>          <td>   -1.2192</td> <td>    8.739</td> <td>   -0.140</td> <td> 0.889</td> <td>  -18.549</td> <td>   16.110</td>\n",
       "</tr>\n",
       "<tr>\n",
       "  <th>fem_bmi</th>            <td>    1.6314</td> <td>    4.418</td> <td>    0.369</td> <td> 0.713</td> <td>   -7.129</td> <td>   10.392</td>\n",
       "</tr>\n",
       "<tr>\n",
       "  <th>male_bmi</th>           <td>   -1.0292</td> <td>    4.378</td> <td>   -0.235</td> <td> 0.815</td> <td>   -9.712</td> <td>    7.653</td>\n",
       "</tr>\n",
       "<tr>\n",
       "  <th>r_home_war</th>         <td>   -1.1742</td> <td>    1.096</td> <td>   -1.071</td> <td> 0.287</td> <td>   -3.348</td> <td>    1.000</td>\n",
       "</tr>\n",
       "<tr>\n",
       "  <th>elevation</th>          <td>   -0.0016</td> <td>    0.001</td> <td>   -1.602</td> <td> 0.112</td> <td>   -0.004</td> <td>    0.000</td>\n",
       "</tr>\n",
       "<tr>\n",
       "  <th>guns</th>               <td>    0.1203</td> <td>    0.042</td> <td>    2.833</td> <td> 0.006</td> <td>    0.036</td> <td>    0.205</td>\n",
       "</tr>\n",
       "<tr>\n",
       "  <th>farmers</th>            <td>   -0.0377</td> <td>    0.037</td> <td>   -1.024</td> <td> 0.308</td> <td>   -0.111</td> <td>    0.035</td>\n",
       "</tr>\n",
       "<tr>\n",
       "  <th>depression</th>         <td>   -0.0036</td> <td>    0.003</td> <td>   -1.413</td> <td> 0.161</td> <td>   -0.009</td> <td>    0.001</td>\n",
       "</tr>\n",
       "<tr>\n",
       "  <th>children</th>           <td>   -0.0127</td> <td>    0.214</td> <td>   -0.059</td> <td> 0.953</td> <td>   -0.438</td> <td>    0.412</td>\n",
       "</tr>\n",
       "<tr>\n",
       "  <th>urbanization</th>       <td>    0.0435</td> <td>    0.028</td> <td>    1.530</td> <td> 0.129</td> <td>   -0.013</td> <td>    0.100</td>\n",
       "</tr>\n",
       "<tr>\n",
       "  <th>immigrants</th>         <td>   -0.0569</td> <td>    0.060</td> <td>   -0.946</td> <td> 0.347</td> <td>   -0.176</td> <td>    0.062</td>\n",
       "</tr>\n",
       "<tr>\n",
       "  <th>population</th>         <td> 8.669e-09</td> <td>  3.4e-09</td> <td>    2.546</td> <td> 0.012</td> <td> 1.92e-09</td> <td> 1.54e-08</td>\n",
       "</tr>\n",
       "<tr>\n",
       "  <th>homeless_dummy</th>     <td>   -0.0246</td> <td>    0.359</td> <td>   -0.068</td> <td> 0.946</td> <td>   -0.737</td> <td>    0.688</td>\n",
       "</tr>\n",
       "<tr>\n",
       "  <th>marr_div_dummy</th>     <td>   -0.0246</td> <td>    0.359</td> <td>   -0.068</td> <td> 0.946</td> <td>   -0.737</td> <td>    0.688</td>\n",
       "</tr>\n",
       "<tr>\n",
       "  <th>malnutrition_dummy</th> <td>   -0.0246</td> <td>    0.359</td> <td>   -0.068</td> <td> 0.946</td> <td>   -0.737</td> <td>    0.688</td>\n",
       "</tr>\n",
       "<tr>\n",
       "  <th>pov_ind_dummy</th>      <td>    0.1895</td> <td>    1.199</td> <td>    0.158</td> <td> 0.875</td> <td>   -2.187</td> <td>    2.566</td>\n",
       "</tr>\n",
       "</table>\n",
       "<table class=\"simpletable\">\n",
       "<tr>\n",
       "  <th>Omnibus:</th>       <td>27.858</td> <th>  Durbin-Watson:     </th> <td>   1.738</td>\n",
       "</tr>\n",
       "<tr>\n",
       "  <th>Prob(Omnibus):</th> <td> 0.000</td> <th>  Jarque-Bera (JB):  </th> <td>  55.396</td>\n",
       "</tr>\n",
       "<tr>\n",
       "  <th>Skew:</th>          <td> 0.844</td> <th>  Prob(JB):          </th> <td>9.35e-13</td>\n",
       "</tr>\n",
       "<tr>\n",
       "  <th>Kurtosis:</th>      <td> 5.501</td> <th>  Cond. No.          </th> <td>1.04e+16</td>\n",
       "</tr>\n",
       "</table><br/><br/>Warnings:<br/>[1] Standard Errors assume that the covariance matrix of the errors is correctly specified.<br/>[2] The smallest eigenvalue is 3.91e-14. This might indicate that there are<br/>strong multicollinearity problems or that the design matrix is singular."
      ],
      "text/plain": [
       "<class 'statsmodels.iolib.summary.Summary'>\n",
       "\"\"\"\n",
       "                            OLS Regression Results                            \n",
       "==============================================================================\n",
       "Dep. Variable:              BothSexes   R-squared:                       0.592\n",
       "Model:                            OLS   Adj. R-squared:                  0.431\n",
       "Method:                 Least Squares   F-statistic:                     3.678\n",
       "Date:                Fri, 19 Apr 2019   Prob (F-statistic):           4.59e-08\n",
       "Time:                        16:03:23   Log-Likelihood:                -386.59\n",
       "No. Observations:                 146   AIC:                             857.2\n",
       "Df Residuals:                     104   BIC:                             982.5\n",
       "Df Model:                          41                                         \n",
       "Covariance Type:            nonrobust                                         \n",
       "======================================================================================\n",
       "                         coef    std err          t      P>|t|      [0.025      0.975]\n",
       "--------------------------------------------------------------------------------------\n",
       "Intercept             97.0961     31.428      3.089      0.003      34.772     159.420\n",
       "happy                  0.3953      0.639      0.619      0.537      -0.871       1.661\n",
       "doc_ratio             -0.0308      0.053     -0.584      0.561      -0.135       0.074\n",
       "below_pov_line        -0.0390      0.035     -1.122      0.265      -0.108       0.030\n",
       "gdp                -6.996e-07   3.21e-07     -2.178      0.032   -1.34e-06   -6.27e-08\n",
       "gdppp                  0.0001    4.8e-05      2.233      0.028     1.2e-05       0.000\n",
       "unemp                 -0.1260      0.066     -1.913      0.058      -0.257       0.005\n",
       "med_age                3.0053      4.170      0.721      0.473      -5.264      11.275\n",
       "med_age_male          -2.3842      2.164     -1.102      0.273      -6.675       1.907\n",
       "med_age_female        -0.6963      2.052     -0.339      0.735      -4.765       3.372\n",
       "birth_sex_ratio      -49.2099     22.396     -2.197      0.030     -93.623      -4.797\n",
       "total_sex_ratio       -3.2484      3.884     -0.836      0.405     -10.951       4.455\n",
       "literacy              -0.0246      0.036     -0.676      0.500      -0.097       0.048\n",
       "econ_freedom          -1.1498      0.761     -1.511      0.134      -2.659       0.359\n",
       "sunny_hours           -0.0019      0.001     -1.498      0.137      -0.004       0.001\n",
       "rainfall              -0.0002      0.001     -0.280      0.780      -0.002       0.001\n",
       "pop_dens            9.895e-05      0.000      0.373      0.710      -0.000       0.001\n",
       "avg_temp              -0.1779      0.099     -1.797      0.075      -0.374       0.018\n",
       "int_users             -0.1110      0.043     -2.612      0.010      -0.195      -0.027\n",
       "eth_div                2.0526      2.488      0.825      0.411      -2.882       6.987\n",
       "ling_div              -1.9340      2.182     -0.886      0.377      -6.261       2.393\n",
       "relig_div              0.9343      2.124      0.440      0.661      -3.277       5.146\n",
       "wto                   -1.3816      1.786     -0.773      0.441      -4.924       2.161\n",
       "alc_cons               0.4691      0.142      3.305      0.001       0.188       0.751\n",
       "beer                   0.0400      0.038      1.053      0.295      -0.035       0.115\n",
       "wine                   0.0551      0.046      1.209      0.230      -0.035       0.146\n",
       "spirits                0.0760      0.037      2.036      0.044       0.002       0.150\n",
       "oth_alc                0.0885      0.043      2.057      0.042       0.003       0.174\n",
       "total_bmi             -1.2192      8.739     -0.140      0.889     -18.549      16.110\n",
       "fem_bmi                1.6314      4.418      0.369      0.713      -7.129      10.392\n",
       "male_bmi              -1.0292      4.378     -0.235      0.815      -9.712       7.653\n",
       "r_home_war            -1.1742      1.096     -1.071      0.287      -3.348       1.000\n",
       "elevation             -0.0016      0.001     -1.602      0.112      -0.004       0.000\n",
       "guns                   0.1203      0.042      2.833      0.006       0.036       0.205\n",
       "farmers               -0.0377      0.037     -1.024      0.308      -0.111       0.035\n",
       "depression            -0.0036      0.003     -1.413      0.161      -0.009       0.001\n",
       "children              -0.0127      0.214     -0.059      0.953      -0.438       0.412\n",
       "urbanization           0.0435      0.028      1.530      0.129      -0.013       0.100\n",
       "immigrants            -0.0569      0.060     -0.946      0.347      -0.176       0.062\n",
       "population          8.669e-09    3.4e-09      2.546      0.012    1.92e-09    1.54e-08\n",
       "homeless_dummy        -0.0246      0.359     -0.068      0.946      -0.737       0.688\n",
       "marr_div_dummy        -0.0246      0.359     -0.068      0.946      -0.737       0.688\n",
       "malnutrition_dummy    -0.0246      0.359     -0.068      0.946      -0.737       0.688\n",
       "pov_ind_dummy          0.1895      1.199      0.158      0.875      -2.187       2.566\n",
       "==============================================================================\n",
       "Omnibus:                       27.858   Durbin-Watson:                   1.738\n",
       "Prob(Omnibus):                  0.000   Jarque-Bera (JB):               55.396\n",
       "Skew:                           0.844   Prob(JB):                     9.35e-13\n",
       "Kurtosis:                       5.501   Cond. No.                     1.04e+16\n",
       "==============================================================================\n",
       "\n",
       "Warnings:\n",
       "[1] Standard Errors assume that the covariance matrix of the errors is correctly specified.\n",
       "[2] The smallest eigenvalue is 3.91e-14. This might indicate that there are\n",
       "strong multicollinearity problems or that the design matrix is singular.\n",
       "\"\"\""
      ]
     },
     "execution_count": 5,
     "metadata": {},
     "output_type": "execute_result"
    }
   ],
   "source": [
    "model = smf.ols(\"\"\"BothSexes ~ happy+doc_ratio+below_pov_line+gdp+gdppp+unemp+med_age+med_age_male+med_age_female+birth_sex_ratio+total_sex_ratio+literacy+econ_freedom+sunny_hours+rainfall+pop_dens+avg_temp+int_users+eth_div+ling_div+relig_div+wto+alc_cons+beer+wine+spirits+oth_alc+total_bmi+fem_bmi+male_bmi+r_home_war+elevation+guns+farmers+depression+children+urbanization+immigrants+population+homeless_dummy+marr_div_dummy+malnutrition_dummy+pov_ind_dummy\"\"\"\n",
    "                     ,data=train_whole)\n",
    "results = model.fit()\n",
    "results.summary()"
   ]
  },
  {
   "cell_type": "code",
   "execution_count": 6,
   "metadata": {},
   "outputs": [],
   "source": [
    "kf = KFold(10,shuffle=True,random_state=13)"
   ]
  },
  {
   "cell_type": "code",
   "execution_count": 7,
   "metadata": {},
   "outputs": [],
   "source": [
    "scaler = StandardScaler()\n",
    "X_scaled = scaler.fit_transform(X_train)"
   ]
  },
  {
   "cell_type": "code",
   "execution_count": 8,
   "metadata": {},
   "outputs": [
    {
     "name": "stderr",
     "output_type": "stream",
     "text": [
      "/anaconda3/lib/python3.7/site-packages/sklearn/model_selection/_search.py:841: DeprecationWarning: The default of the `iid` parameter will change from True to False in version 0.22 and will be removed in 0.24. This will change numeric results when test-set sizes are unequal.\n",
      "  DeprecationWarning)\n"
     ]
    }
   ],
   "source": [
    "lasso = LassoCV(cv = kf,max_iter=100000)\n",
    "lass_results = lasso.fit(X_scaled,y_train)\n",
    "best_alpha_l = lass_results.alpha_\n",
    "\n",
    "ridge = RidgeCV(cv = kf)\n",
    "ridge_results = ridge.fit(X_scaled,y_train)\n",
    "best_alpha_r = ridge_results.alpha_"
   ]
  },
  {
   "cell_type": "code",
   "execution_count": 9,
   "metadata": {},
   "outputs": [],
   "source": [
    "def model_competition(feature_matrix,target_series,l_alpha,r_alpha):\n",
    "    ols = LinearRegression()\n",
    "    lasso = Lasso(alpha = l_alpha)\n",
    "    ridge = Ridge(alpha = r_alpha)\n",
    "    models = {ols:'OLS',lasso:'lasso',ridge:'ridge'}\n",
    "    for model in models.keys() :\n",
    "        if model == ols :\n",
    "            r2 = cross_val_score(model, feature_matrix, target_series,cv=kf, scoring='r2')\n",
    "            print(f'The mean r2 for {models[model]} is {np.mean(r2)} +- {np.std(r2)}.')\n",
    "        else :\n",
    "            scaler = StandardScaler()\n",
    "            X_scaled = scaler.fit_transform(feature_matrix)\n",
    "            r2 = cross_val_score(model, X_scaled, target_series,cv=kf, scoring='r2')\n",
    "            print(f'The mean r2 for {models[model]} is {np.mean(r2)} +- {np.std(r2)}.')"
   ]
  },
  {
   "cell_type": "code",
   "execution_count": 10,
   "metadata": {},
   "outputs": [
    {
     "name": "stdout",
     "output_type": "stream",
     "text": [
      "The mean r2 for OLS is -0.29496934416429166 +- 0.6716822568781581.\n",
      "The mean r2 for lasso is 0.10276418312389879 +- 0.2926263702841764.\n",
      "The mean r2 for ridge is -0.04628068960102866 +- 0.37669539378290956.\n"
     ]
    }
   ],
   "source": [
    "model_competition(X_train,y_train,best_alpha_l,best_alpha_r)"
   ]
  },
  {
   "cell_type": "markdown",
   "metadata": {},
   "source": [
    "# That's... low\n",
    "Let's see what lasso tells us to cut."
   ]
  },
  {
   "cell_type": "code",
   "execution_count": 11,
   "metadata": {},
   "outputs": [
    {
     "name": "stdout",
     "output_type": "stream",
     "text": [
      "Lasso test R^2: 0.4713674801754536\n"
     ]
    },
    {
     "data": {
      "text/plain": [
       "[('happy', -0.0),\n",
       " ('doc_ratio', -0.0),\n",
       " ('below_pov_line', -0.023697450543618843),\n",
       " ('gdp', -1.3215082738201912e-07),\n",
       " ('gdppp', 3.3303387919846266e-05),\n",
       " ('unemp', -0.05653983817086052),\n",
       " ('med_age', -0.0),\n",
       " ('med_age_male', -0.03446985485726758),\n",
       " ('med_age_female', -0.0),\n",
       " ('birth_sex_ratio', -0.0),\n",
       " ('total_sex_ratio', -0.0),\n",
       " ('literacy', -0.012249561044460778),\n",
       " ('hum_freedom', -0.0),\n",
       " ('econ_freedom', -0.0),\n",
       " ('gen_inequality', 0.0),\n",
       " ('sunny_hours', -0.0019017283653611583),\n",
       " ('rainfall', 4.915037525470209e-05),\n",
       " ('pop_dens', 3.755171238124834e-05),\n",
       " ('avg_temp', -0.12786722675389553),\n",
       " ('int_users', -0.10254536254060401),\n",
       " ('eth_div', 0.0),\n",
       " ('ling_div', 0.0),\n",
       " ('relig_div', 0.0),\n",
       " ('wto', -0.0),\n",
       " ('alc_cons', 0.4648838582641902),\n",
       " ('beer', 0.001992295410762588),\n",
       " ('wine', 0.0),\n",
       " ('spirits', 0.02698842955562818),\n",
       " ('oth_alc', 0.04829386219533034),\n",
       " ('total_bmi', -0.0),\n",
       " ('fem_bmi', -0.0),\n",
       " ('male_bmi', -0.0),\n",
       " ('r_home_war', -0.0),\n",
       " ('elevation', -0.0021704508838274396),\n",
       " ('guns', 0.04549017471736674),\n",
       " ('farmers', 0.006925588755415859),\n",
       " ('depression', -0.0038420955227533955),\n",
       " ('children', 0.0),\n",
       " ('urbanization', 0.037384425368829084),\n",
       " ('immigrants', -0.03956737602663117),\n",
       " ('population', 2.4698270987282527e-09),\n",
       " ('homeless_dummy', -0.0),\n",
       " ('marr_div_dummy', -0.0),\n",
       " ('malnutrition_dummy', -0.0),\n",
       " ('pov_ind_dummy', -0.0)]"
      ]
     },
     "execution_count": 11,
     "metadata": {},
     "output_type": "execute_result"
    }
   ],
   "source": [
    "lasso = Lasso()\n",
    "results = lasso.fit(X_train,y_train)\n",
    "print(f'Lasso test R^2: {lasso.score(X_train,y_train)}')\n",
    "\n",
    "list(zip(X_train.columns,results.coef_))\n"
   ]
  },
  {
   "cell_type": "markdown",
   "metadata": {},
   "source": [
    "Uhhhhh... okay. Let's take that one by one."
   ]
  },
  {
   "cell_type": "code",
   "execution_count": 12,
   "metadata": {},
   "outputs": [],
   "source": [
    "X_train_dropping = X_train.drop([\n",
    "    'happy',\n",
    "    'below_pov_line',\n",
    "    'unemp',\n",
    "    'med_age_male',\n",
    "    'med_age_female',\n",
    "    'med_age',\n",
    "    'birth_sex_ratio',\n",
    "    'total_sex_ratio',\n",
    "    'gen_inequality',\n",
    "    'hum_freedom',\n",
    "    'econ_freedom',\n",
    "    'gen_inequality',\n",
    "    'eth_div',\n",
    "    'ling_div',\n",
    "    'relig_div',\n",
    "    'wto',\n",
    "    'total_bmi',\n",
    "    'fem_bmi',\n",
    "    'male_bmi',\n",
    "    'r_home_war',\n",
    "    'children',\n",
    "    'homeless_dummy',\n",
    "    'marr_div_dummy',\n",
    "    'malnutrition_dummy',\n",
    "    'pov_ind_dummy'],axis=1)"
   ]
  },
  {
   "cell_type": "code",
   "execution_count": 13,
   "metadata": {},
   "outputs": [],
   "source": [
    "scaler = StandardScaler()\n",
    "X_scaled = scaler.fit_transform(X_train_dropping)"
   ]
  },
  {
   "cell_type": "code",
   "execution_count": 14,
   "metadata": {},
   "outputs": [
    {
     "name": "stderr",
     "output_type": "stream",
     "text": [
      "/anaconda3/lib/python3.7/site-packages/sklearn/model_selection/_search.py:841: DeprecationWarning: The default of the `iid` parameter will change from True to False in version 0.22 and will be removed in 0.24. This will change numeric results when test-set sizes are unequal.\n",
      "  DeprecationWarning)\n"
     ]
    }
   ],
   "source": [
    "lasso = LassoCV(cv = kf)\n",
    "lass_results = lasso.fit(X_scaled,y_train)\n",
    "best_alpha_l_d = lass_results.alpha_\n",
    "\n",
    "ridge = RidgeCV(cv = kf)\n",
    "ridge_results = ridge.fit(X_scaled,y_train)\n",
    "best_alpha_r_d = ridge_results.alpha_"
   ]
  },
  {
   "cell_type": "code",
   "execution_count": 15,
   "metadata": {},
   "outputs": [
    {
     "name": "stdout",
     "output_type": "stream",
     "text": [
      "The mean r2 for OLS is -0.16545538939935822 +- 0.7804026732583528.\n",
      "The mean r2 for lasso is 0.06902552619098645 +- 0.33323706949442083.\n",
      "The mean r2 for ridge is -0.008748194319599912 +- 0.4377604502261016.\n"
     ]
    }
   ],
   "source": [
    "model_competition(X_train_dropping,y_train,best_alpha_l_d,best_alpha_r_d)"
   ]
  },
  {
   "cell_type": "markdown",
   "metadata": {},
   "source": [
    "### Cool.\n",
    "The $R^2$ values increased. Let's try dropping a few more things that lasso suggests, just in case - it's the only thing we really can do, given that we are going for interpretability."
   ]
  },
  {
   "cell_type": "code",
   "execution_count": 16,
   "metadata": {},
   "outputs": [],
   "source": [
    "scaler = StandardScaler()\n",
    "X_scaled = scaler.fit_transform(X_train_dropping)"
   ]
  },
  {
   "cell_type": "code",
   "execution_count": 17,
   "metadata": {},
   "outputs": [
    {
     "name": "stdout",
     "output_type": "stream",
     "text": [
      "Lasso test R^2: 0.44683238322039887\n"
     ]
    },
    {
     "data": {
      "text/plain": [
       "[('doc_ratio', -0.0),\n",
       " ('gdp', -3.0191430423962364e-08),\n",
       " ('gdppp', 3.273587856818958e-05),\n",
       " ('literacy', -0.009929728993544296),\n",
       " ('sunny_hours', -0.002070760481001663),\n",
       " ('rainfall', 7.458721458598529e-05),\n",
       " ('pop_dens', 1.535147232822641e-05),\n",
       " ('avg_temp', -0.12317021716805006),\n",
       " ('int_users', -0.0895665632713649),\n",
       " ('alc_cons', 0.3994617936629931),\n",
       " ('beer', 0.0),\n",
       " ('wine', 0.0),\n",
       " ('spirits', 0.025501733869841756),\n",
       " ('oth_alc', 0.046951325824969664),\n",
       " ('elevation', -0.0021695847398012723),\n",
       " ('guns', 0.028639397800589043),\n",
       " ('farmers', 0.00928745764075327),\n",
       " ('depression', -0.0034374949416074697),\n",
       " ('urbanization', 0.029355160928862627),\n",
       " ('immigrants', -0.0365598654555041),\n",
       " ('population', 2.2275010805539255e-09)]"
      ]
     },
     "execution_count": 17,
     "metadata": {},
     "output_type": "execute_result"
    }
   ],
   "source": [
    "lasso = Lasso(alpha=1.5)\n",
    "results = lasso.fit(X_train_dropping,y_train)\n",
    "print(f'Lasso test R^2: {lasso.score(X_train_dropping,y_train)}')\n",
    "\n",
    "list(zip(X_train_dropping.columns,results.coef_))"
   ]
  },
  {
   "cell_type": "code",
   "execution_count": 18,
   "metadata": {},
   "outputs": [],
   "source": [
    "X_train_dropping_2 = X_train_dropping.drop('guns',axis=1)"
   ]
  },
  {
   "cell_type": "code",
   "execution_count": 19,
   "metadata": {},
   "outputs": [
    {
     "name": "stderr",
     "output_type": "stream",
     "text": [
      "/anaconda3/lib/python3.7/site-packages/sklearn/model_selection/_search.py:841: DeprecationWarning: The default of the `iid` parameter will change from True to False in version 0.22 and will be removed in 0.24. This will change numeric results when test-set sizes are unequal.\n",
      "  DeprecationWarning)\n"
     ]
    }
   ],
   "source": [
    "scaler = StandardScaler()\n",
    "X_scaled = scaler.fit_transform(X_train_dropping_2) \n",
    "\n",
    "lasso = LassoCV(cv = kf,max_iter=100000)\n",
    "lass_results = lasso.fit(X_scaled,y_train)\n",
    "best_alpha_l_d2 = lass_results.alpha_\n",
    "\n",
    "ridge = RidgeCV(cv = kf)\n",
    "ridge_results = ridge.fit(X_scaled,y_train)\n",
    "best_alpha_r_d2 = ridge_results.alpha_"
   ]
  },
  {
   "cell_type": "code",
   "execution_count": 20,
   "metadata": {},
   "outputs": [
    {
     "name": "stdout",
     "output_type": "stream",
     "text": [
      "The mean r2 for OLS is -0.16545538939935822 +- 0.7804026732583528.\n",
      "The mean r2 for lasso is 0.06850208214773178 +- 0.33260505610316576.\n",
      "The mean r2 for ridge is -0.008748194319599912 +- 0.4377604502261016.\n"
     ]
    }
   ],
   "source": [
    "model_competition(X_train_dropping,y_train,best_alpha_l_d2,best_alpha_r_d2)"
   ]
  },
  {
   "cell_type": "markdown",
   "metadata": {},
   "source": [
    "### This decreased lasso and didn't affect the other models.\n",
    "So lasso is our best model right now. But if we try it on test..."
   ]
  },
  {
   "cell_type": "code",
   "execution_count": 21,
   "metadata": {},
   "outputs": [],
   "source": [
    "X_test_dropping = X_test.drop(['happy',\n",
    "    'below_pov_line',\n",
    "    'unemp',\n",
    "    'med_age_male',\n",
    "    'med_age_female',\n",
    "    'med_age',\n",
    "    'birth_sex_ratio',\n",
    "    'total_sex_ratio',\n",
    "    'gen_inequality',\n",
    "    'hum_freedom',\n",
    "    'econ_freedom',\n",
    "    'gen_inequality',\n",
    "    'eth_div',\n",
    "    'ling_div',\n",
    "    'relig_div',\n",
    "    'wto',\n",
    "    'total_bmi',\n",
    "    'fem_bmi',\n",
    "    'male_bmi',\n",
    "    'r_home_war',\n",
    "    'children',\n",
    "    'homeless_dummy',\n",
    "    'marr_div_dummy',\n",
    "    'malnutrition_dummy',\n",
    "    'pov_ind_dummy'],axis=1)"
   ]
  },
  {
   "cell_type": "code",
   "execution_count": 22,
   "metadata": {},
   "outputs": [],
   "source": [
    "scaler = StandardScaler()\n",
    "X_scaled = scaler.fit_transform(X_train_dropping)\n",
    "X_test_d_scaled = scaler.transform(X_test_dropping)\n",
    "\n",
    "\n",
    "lasso = LassoCV(cv = kf,max_iter=100000)\n",
    "lass_results = lasso.fit(X_scaled,y_train)\n",
    "best_alpha_l_d = lass_results.alpha_"
   ]
  },
  {
   "cell_type": "code",
   "execution_count": 23,
   "metadata": {},
   "outputs": [
    {
     "name": "stdout",
     "output_type": "stream",
     "text": [
      "Lasso Regression test R^2: -0.8430029599791432\n"
     ]
    }
   ],
   "source": [
    "lasso = Lasso(alpha=best_alpha_l_d)\n",
    "results = lasso.fit(X_train_dropping,y_train)\n",
    "print(f'Lasso Regression test R^2: {lasso.score(X_test_d_scaled,y_test)}')"
   ]
  },
  {
   "cell_type": "markdown",
   "metadata": {},
   "source": [
    "# Big oof.\n",
    "What went wrong? Too few samples! Ridge and lasso don't work well if you have too little data. I guess that means we have to rely on naïve OLS, which was not affected by dropping the last thing. Let's try dropping more, just in case."
   ]
  },
  {
   "cell_type": "code",
   "execution_count": 24,
   "metadata": {},
   "outputs": [
    {
     "name": "stdout",
     "output_type": "stream",
     "text": [
      "Lasso test R^2: 0.43891873914220547\n"
     ]
    },
    {
     "data": {
      "text/plain": [
       "[('doc_ratio', -0.0),\n",
       " ('gdp', 1.0067694212548675e-07),\n",
       " ('gdppp', 3.178096681117872e-05),\n",
       " ('literacy', -0.009526253650934438),\n",
       " ('sunny_hours', -0.0020640506033200376),\n",
       " ('rainfall', 2.0674414888528845e-05),\n",
       " ('pop_dens', -8.477482010407081e-06),\n",
       " ('avg_temp', -0.12715269078284874),\n",
       " ('int_users', -0.08814110584709349),\n",
       " ('alc_cons', 0.38543857984703983),\n",
       " ('beer', -0.0),\n",
       " ('wine', 0.0),\n",
       " ('spirits', 0.021852500740403923),\n",
       " ('oth_alc', 0.045005838499536995),\n",
       " ('elevation', -0.002188243253028916),\n",
       " ('guns', 0.008351335731598594),\n",
       " ('farmers', -0.002942527354208736),\n",
       " ('depression', 0.028849414914768463),\n",
       " ('urbanization', -0.03177692867783328),\n",
       " ('immigrants', 1.4864617020570176e-09)]"
      ]
     },
     "execution_count": 24,
     "metadata": {},
     "output_type": "execute_result"
    }
   ],
   "source": [
    "lasso = Lasso(alpha=1.633)\n",
    "results = lasso.fit(X_train_dropping_2,y_train)\n",
    "print(f'Lasso test R^2: {lasso.score(X_train_dropping_2,y_train)}')\n",
    "\n",
    "list(zip(X_train_dropping.columns,results.coef_))"
   ]
  },
  {
   "cell_type": "code",
   "execution_count": 25,
   "metadata": {},
   "outputs": [],
   "source": [
    "X_train_keep_dropping = X_train_dropping_2.drop(['doc_ratio'],axis=1)"
   ]
  },
  {
   "cell_type": "code",
   "execution_count": 26,
   "metadata": {},
   "outputs": [
    {
     "name": "stderr",
     "output_type": "stream",
     "text": [
      "/anaconda3/lib/python3.7/site-packages/sklearn/model_selection/_search.py:841: DeprecationWarning: The default of the `iid` parameter will change from True to False in version 0.22 and will be removed in 0.24. This will change numeric results when test-set sizes are unequal.\n",
      "  DeprecationWarning)\n"
     ]
    }
   ],
   "source": [
    "scaler = StandardScaler()\n",
    "X_scaled = scaler.fit_transform(X_train_keep_dropping) \n",
    "\n",
    "lasso = LassoCV(cv = kf,max_iter=100000)\n",
    "lass_results = lasso.fit(X_scaled,y_train)\n",
    "best_alpha_l_kd = lass_results.alpha_\n",
    "\n",
    "ridge = RidgeCV(cv = kf)\n",
    "ridge_results = ridge.fit(X_scaled,y_train)\n",
    "best_alpha_r_kd = ridge_results.alpha_"
   ]
  },
  {
   "cell_type": "code",
   "execution_count": 27,
   "metadata": {},
   "outputs": [
    {
     "name": "stdout",
     "output_type": "stream",
     "text": [
      "The mean r2 for OLS is -0.15638606908866298 +- 0.7968171255447922.\n",
      "The mean r2 for lasso is 0.07306694007053102 +- 0.33239168376328815.\n",
      "The mean r2 for ridge is 0.006783466109392644 +- 0.4236766325935556.\n"
     ]
    }
   ],
   "source": [
    "model_competition(X_train_keep_dropping,y_train,best_alpha_l_d2,best_alpha_r_d2)"
   ]
  },
  {
   "cell_type": "markdown",
   "metadata": {},
   "source": [
    "# That didn't work.\n",
    "Let's try dropping at random instead, see if that improves things; there's a lot of colinearity in here."
   ]
  },
  {
   "cell_type": "code",
   "execution_count": 28,
   "metadata": {},
   "outputs": [],
   "source": [
    "X_train_keep_dropping = X_train_dropping_2.drop(['pop_dens','gdp','rainfall',\n",
    "                                                 'farmers','depression','urbanization','immigrants'],axis=1)"
   ]
  },
  {
   "cell_type": "code",
   "execution_count": 29,
   "metadata": {},
   "outputs": [
    {
     "name": "stderr",
     "output_type": "stream",
     "text": [
      "/anaconda3/lib/python3.7/site-packages/sklearn/model_selection/_search.py:841: DeprecationWarning: The default of the `iid` parameter will change from True to False in version 0.22 and will be removed in 0.24. This will change numeric results when test-set sizes are unequal.\n",
      "  DeprecationWarning)\n"
     ]
    }
   ],
   "source": [
    "scaler = StandardScaler()\n",
    "X_scaled = scaler.fit_transform(X_train_keep_dropping) \n",
    "\n",
    "lasso = LassoCV(cv = kf,max_iter=100000)\n",
    "lass_results = lasso.fit(X_scaled,y_train)\n",
    "best_alpha_l_kd = lass_results.alpha_\n",
    "\n",
    "ridge = RidgeCV(cv = kf)\n",
    "ridge_results = ridge.fit(X_scaled,y_train)\n",
    "best_alpha_r_kd = ridge_results.alpha_"
   ]
  },
  {
   "cell_type": "code",
   "execution_count": 30,
   "metadata": {},
   "outputs": [
    {
     "name": "stdout",
     "output_type": "stream",
     "text": [
      "The mean r2 for OLS is 0.10142769934351789 +- 0.3002853384905849.\n",
      "The mean r2 for lasso is 0.12159003546700609 +- 0.31193264669486.\n",
      "The mean r2 for ridge is 0.11075033515810284 +- 0.3166274643599967.\n"
     ]
    }
   ],
   "source": [
    "model_competition(X_train_keep_dropping,y_train,best_alpha_l_d2,best_alpha_r_d2)"
   ]
  },
  {
   "cell_type": "code",
   "execution_count": 31,
   "metadata": {},
   "outputs": [
    {
     "data": {
      "text/plain": [
       "'doc_ratio+gdppp+literacy+sunny_hours+avg_temp+int_users+alc_cons+beer+wine+spirits+oth_alc+elevation+population'"
      ]
     },
     "execution_count": 31,
     "metadata": {},
     "output_type": "execute_result"
    }
   ],
   "source": [
    "'+'.join(list(X_train_keep_dropping.columns))"
   ]
  },
  {
   "cell_type": "markdown",
   "metadata": {},
   "source": [
    "# Having maximised our $R^2$...\n",
    "\n",
    "Let's work on p-values. Significance value of ~.1 let's say."
   ]
  },
  {
   "cell_type": "code",
   "execution_count": 32,
   "metadata": {},
   "outputs": [
    {
     "data": {
      "text/html": [
       "<table class=\"simpletable\">\n",
       "<caption>OLS Regression Results</caption>\n",
       "<tr>\n",
       "  <th>Dep. Variable:</th>        <td>BothSexes</td>    <th>  R-squared:         </th> <td>   0.408</td>\n",
       "</tr>\n",
       "<tr>\n",
       "  <th>Model:</th>                   <td>OLS</td>       <th>  Adj. R-squared:    </th> <td>   0.382</td>\n",
       "</tr>\n",
       "<tr>\n",
       "  <th>Method:</th>             <td>Least Squares</td>  <th>  F-statistic:       </th> <td>   15.94</td>\n",
       "</tr>\n",
       "<tr>\n",
       "  <th>Date:</th>             <td>Thu, 18 Apr 2019</td> <th>  Prob (F-statistic):</th> <td>6.83e-14</td>\n",
       "</tr>\n",
       "<tr>\n",
       "  <th>Time:</th>                 <td>10:58:57</td>     <th>  Log-Likelihood:    </th> <td> -413.78</td>\n",
       "</tr>\n",
       "<tr>\n",
       "  <th>No. Observations:</th>      <td>   146</td>      <th>  AIC:               </th> <td>   841.6</td>\n",
       "</tr>\n",
       "<tr>\n",
       "  <th>Df Residuals:</th>          <td>   139</td>      <th>  BIC:               </th> <td>   862.5</td>\n",
       "</tr>\n",
       "<tr>\n",
       "  <th>Df Model:</th>              <td>     6</td>      <th>                     </th>     <td> </td>   \n",
       "</tr>\n",
       "<tr>\n",
       "  <th>Covariance Type:</th>      <td>nonrobust</td>    <th>                     </th>     <td> </td>   \n",
       "</tr>\n",
       "</table>\n",
       "<table class=\"simpletable\">\n",
       "<tr>\n",
       "      <td></td>         <th>coef</th>     <th>std err</th>      <th>t</th>      <th>P>|t|</th>  <th>[0.025</th>    <th>0.975]</th>  \n",
       "</tr>\n",
       "<tr>\n",
       "  <th>Intercept</th> <td>   15.8920</td> <td>    2.323</td> <td>    6.840</td> <td> 0.000</td> <td>   11.298</td> <td>   20.486</td>\n",
       "</tr>\n",
       "<tr>\n",
       "  <th>gdppp</th>     <td> 4.533e-05</td> <td> 2.53e-05</td> <td>    1.792</td> <td> 0.075</td> <td>-4.68e-06</td> <td> 9.53e-05</td>\n",
       "</tr>\n",
       "<tr>\n",
       "  <th>avg_temp</th>  <td>   -0.1925</td> <td>    0.061</td> <td>   -3.139</td> <td> 0.002</td> <td>   -0.314</td> <td>   -0.071</td>\n",
       "</tr>\n",
       "<tr>\n",
       "  <th>int_users</th> <td>   -0.1168</td> <td>    0.023</td> <td>   -4.979</td> <td> 0.000</td> <td>   -0.163</td> <td>   -0.070</td>\n",
       "</tr>\n",
       "<tr>\n",
       "  <th>alc_cons</th>  <td>    0.5972</td> <td>    0.113</td> <td>    5.303</td> <td> 0.000</td> <td>    0.375</td> <td>    0.820</td>\n",
       "</tr>\n",
       "<tr>\n",
       "  <th>oth_alc</th>   <td>    0.0372</td> <td>    0.015</td> <td>    2.419</td> <td> 0.017</td> <td>    0.007</td> <td>    0.068</td>\n",
       "</tr>\n",
       "<tr>\n",
       "  <th>elevation</th> <td>   -0.0026</td> <td>    0.001</td> <td>   -3.004</td> <td> 0.003</td> <td>   -0.004</td> <td>   -0.001</td>\n",
       "</tr>\n",
       "</table>\n",
       "<table class=\"simpletable\">\n",
       "<tr>\n",
       "  <th>Omnibus:</th>       <td>33.955</td> <th>  Durbin-Watson:     </th> <td>   1.929</td>\n",
       "</tr>\n",
       "<tr>\n",
       "  <th>Prob(Omnibus):</th> <td> 0.000</td> <th>  Jarque-Bera (JB):  </th> <td>  62.956</td>\n",
       "</tr>\n",
       "<tr>\n",
       "  <th>Skew:</th>          <td> 1.065</td> <th>  Prob(JB):          </th> <td>2.13e-14</td>\n",
       "</tr>\n",
       "<tr>\n",
       "  <th>Kurtosis:</th>      <td> 5.411</td> <th>  Cond. No.          </th> <td>2.04e+05</td>\n",
       "</tr>\n",
       "</table><br/><br/>Warnings:<br/>[1] Standard Errors assume that the covariance matrix of the errors is correctly specified.<br/>[2] The condition number is large, 2.04e+05. This might indicate that there are<br/>strong multicollinearity or other numerical problems."
      ],
      "text/plain": [
       "<class 'statsmodels.iolib.summary.Summary'>\n",
       "\"\"\"\n",
       "                            OLS Regression Results                            \n",
       "==============================================================================\n",
       "Dep. Variable:              BothSexes   R-squared:                       0.408\n",
       "Model:                            OLS   Adj. R-squared:                  0.382\n",
       "Method:                 Least Squares   F-statistic:                     15.94\n",
       "Date:                Thu, 18 Apr 2019   Prob (F-statistic):           6.83e-14\n",
       "Time:                        10:58:57   Log-Likelihood:                -413.78\n",
       "No. Observations:                 146   AIC:                             841.6\n",
       "Df Residuals:                     139   BIC:                             862.5\n",
       "Df Model:                           6                                         \n",
       "Covariance Type:            nonrobust                                         \n",
       "==============================================================================\n",
       "                 coef    std err          t      P>|t|      [0.025      0.975]\n",
       "------------------------------------------------------------------------------\n",
       "Intercept     15.8920      2.323      6.840      0.000      11.298      20.486\n",
       "gdppp       4.533e-05   2.53e-05      1.792      0.075   -4.68e-06    9.53e-05\n",
       "avg_temp      -0.1925      0.061     -3.139      0.002      -0.314      -0.071\n",
       "int_users     -0.1168      0.023     -4.979      0.000      -0.163      -0.070\n",
       "alc_cons       0.5972      0.113      5.303      0.000       0.375       0.820\n",
       "oth_alc        0.0372      0.015      2.419      0.017       0.007       0.068\n",
       "elevation     -0.0026      0.001     -3.004      0.003      -0.004      -0.001\n",
       "==============================================================================\n",
       "Omnibus:                       33.955   Durbin-Watson:                   1.929\n",
       "Prob(Omnibus):                  0.000   Jarque-Bera (JB):               62.956\n",
       "Skew:                           1.065   Prob(JB):                     2.13e-14\n",
       "Kurtosis:                       5.411   Cond. No.                     2.04e+05\n",
       "==============================================================================\n",
       "\n",
       "Warnings:\n",
       "[1] Standard Errors assume that the covariance matrix of the errors is correctly specified.\n",
       "[2] The condition number is large, 2.04e+05. This might indicate that there are\n",
       "strong multicollinearity or other numerical problems.\n",
       "\"\"\""
      ]
     },
     "execution_count": 32,
     "metadata": {},
     "output_type": "execute_result"
    }
   ],
   "source": [
    "model = smf.ols(\"\"\"BothSexes ~ gdppp+avg_temp+int_users+alc_cons+oth_alc+elevation\"\"\"\n",
    "                     ,data=train_whole)\n",
    "results = model.fit()\n",
    "results.summary()"
   ]
  },
  {
   "cell_type": "code",
   "execution_count": 33,
   "metadata": {},
   "outputs": [],
   "source": [
    "X_train_keep_dropping=X_train_keep_dropping.drop(['doc_ratio',\n",
    "    'literacy',\n",
    "    'sunny_hours',\n",
    "    'beer',\n",
    "    'wine',\n",
    "    'spirits',\n",
    "    'population'],axis=1)"
   ]
  },
  {
   "cell_type": "markdown",
   "metadata": {},
   "source": [
    "### This lowered our $R^2$ for OLS\n",
    "So let's run with it, despite that honestly terrible standard deviation of $R^2$."
   ]
  },
  {
   "cell_type": "code",
   "execution_count": 51,
   "metadata": {},
   "outputs": [],
   "source": [
    "X_train_drop = X_train.drop(['happy',\n",
    "    'below_pov_line',\n",
    "    'unemp',\n",
    "    'med_age_male',\n",
    "    'med_age_female',\n",
    "    'med_age',\n",
    "    'birth_sex_ratio',\n",
    "    'total_sex_ratio',\n",
    "    'gen_inequality',\n",
    "    'hum_freedom',\n",
    "    'econ_freedom',\n",
    "    'gen_inequality',\n",
    "    'eth_div',\n",
    "    'ling_div',\n",
    "    'relig_div',\n",
    "    'wto',\n",
    "    'total_bmi',\n",
    "    'fem_bmi',\n",
    "    'male_bmi',\n",
    "    'r_home_war',\n",
    "    'children',\n",
    "    'homeless_dummy',\n",
    "    'marr_div_dummy',\n",
    "    'malnutrition_dummy',\n",
    "    'pov_ind_dummy',\n",
    "    'guns',\n",
    "    'pop_dens',\n",
    "    'gdp',\n",
    "    'rainfall',\n",
    "    'farmers',\n",
    "    'depression',\n",
    "    'urbanization',\n",
    "    'immigrants',\n",
    "    'doc_ratio',\n",
    "    'literacy',\n",
    "    'sunny_hours',\n",
    "    'beer',\n",
    "    'wine',\n",
    "    'spirits',\n",
    "    'population'],axis=1)"
   ]
  },
  {
   "cell_type": "code",
   "execution_count": 64,
   "metadata": {},
   "outputs": [
    {
     "data": {
      "text/plain": [
       "[('gdppp', 0.09549199701780868),\n",
       " ('avg_temp', 0.15208442240634581),\n",
       " ('int_users', 0.3114916783050664),\n",
       " ('alc_cons', 0.23609962741325521),\n",
       " ('oth_alc', 0.08697431420287682),\n",
       " ('elevation', 0.11785796065464708)]"
      ]
     },
     "execution_count": 64,
     "metadata": {},
     "output_type": "execute_result"
    }
   ],
   "source": [
    "scaler = StandardScaler()\n",
    "X_scaled = scaler.fit_transform(X_train_drop)\n",
    "lasso = LassoCV(alphas=10**np.linspace(-10,10,1001),cv=kf)\n",
    "results = lasso.fit(X_scaled,y_train)\n",
    "list(zip(X_train_drop.columns,abs(results.coef_)/np.sum(list(abs(results.coef_)))))"
   ]
  },
  {
   "cell_type": "code",
   "execution_count": 34,
   "metadata": {},
   "outputs": [],
   "source": [
    "X_test_drop = X_test.drop(['happy',\n",
    "    'below_pov_line',\n",
    "    'unemp',\n",
    "    'med_age_male',\n",
    "    'med_age_female',\n",
    "    'med_age',\n",
    "    'birth_sex_ratio',\n",
    "    'total_sex_ratio',\n",
    "    'gen_inequality',\n",
    "    'hum_freedom',\n",
    "    'econ_freedom',\n",
    "    'gen_inequality',\n",
    "    'eth_div',\n",
    "    'ling_div',\n",
    "    'relig_div',\n",
    "    'wto',\n",
    "    'total_bmi',\n",
    "    'fem_bmi',\n",
    "    'male_bmi',\n",
    "    'r_home_war',\n",
    "    'children',\n",
    "    'homeless_dummy',\n",
    "    'marr_div_dummy',\n",
    "    'malnutrition_dummy',\n",
    "    'pov_ind_dummy',\n",
    "    'guns',\n",
    "    'pop_dens',\n",
    "    'gdp',\n",
    "    'rainfall',\n",
    "    'farmers',\n",
    "    'depression',\n",
    "    'urbanization',\n",
    "    'immigrants',\n",
    "    'doc_ratio',\n",
    "    'literacy',\n",
    "    'sunny_hours',\n",
    "    'beer',\n",
    "    'wine',\n",
    "    'spirits',\n",
    "    'population'],axis=1)"
   ]
  },
  {
   "cell_type": "code",
   "execution_count": 35,
   "metadata": {},
   "outputs": [
    {
     "name": "stdout",
     "output_type": "stream",
     "text": [
      "OLS test R^2: 0.12011482324743383.\n"
     ]
    }
   ],
   "source": [
    "lm_ols = LinearRegression()\n",
    "results = lm_ols.fit(X_train_keep_dropping,y_train)\n",
    "\n",
    "print(f'OLS test R^2: {lm_ols.score(X_test_drop,y_test)}.')"
   ]
  },
  {
   "cell_type": "code",
   "execution_count": 47,
   "metadata": {},
   "outputs": [
    {
     "data": {
      "text/plain": [
       "[('gdppp', 4.533136622361662e-05),\n",
       " ('avg_temp', -0.19254746575085874),\n",
       " ('int_users', -0.11676580324729963),\n",
       " ('alc_cons', 0.59718348557133),\n",
       " ('oth_alc', 0.037210957209002624),\n",
       " ('elevation', -0.0026300929574751266)]"
      ]
     },
     "execution_count": 47,
     "metadata": {},
     "output_type": "execute_result"
    }
   ],
   "source": [
    "list(zip(X_test_drop.columns,lm_ols.coef_))"
   ]
  },
  {
   "cell_type": "code",
   "execution_count": 37,
   "metadata": {},
   "outputs": [],
   "source": [
    "predict = lm_ols.predict(X_test_drop)"
   ]
  },
  {
   "cell_type": "code",
   "execution_count": 38,
   "metadata": {},
   "outputs": [
    {
     "data": {
      "text/plain": [
       "1215.922362412943"
      ]
     },
     "execution_count": 38,
     "metadata": {},
     "output_type": "execute_result"
    }
   ],
   "source": [
    "(np.sum((y_test-predict)**2))"
   ]
  },
  {
   "cell_type": "code",
   "execution_count": 39,
   "metadata": {},
   "outputs": [
    {
     "data": {
      "text/plain": [
       "0.052349649584270186"
      ]
     },
     "execution_count": 39,
     "metadata": {},
     "output_type": "execute_result"
    }
   ],
   "source": [
    "np.mean((y_test-predict))"
   ]
  },
  {
   "cell_type": "code",
   "execution_count": 40,
   "metadata": {},
   "outputs": [
    {
     "data": {
      "text/plain": [
       "19.291852160166027"
      ]
     },
     "execution_count": 40,
     "metadata": {},
     "output_type": "execute_result"
    }
   ],
   "source": [
    "np.max(abs(y_test-predict))"
   ]
  },
  {
   "cell_type": "code",
   "execution_count": 41,
   "metadata": {},
   "outputs": [
    {
     "data": {
      "text/plain": [
       "0.28240119137556974"
      ]
     },
     "execution_count": 41,
     "metadata": {},
     "output_type": "execute_result"
    }
   ],
   "source": [
    "np.min(abs(y_test-predict))"
   ]
  },
  {
   "cell_type": "code",
   "execution_count": 42,
   "metadata": {},
   "outputs": [
    {
     "data": {
      "text/plain": [
       "3.9350860054987615"
      ]
     },
     "execution_count": 42,
     "metadata": {},
     "output_type": "execute_result"
    }
   ],
   "source": [
    "np.std(abs(y_test-predict))"
   ]
  },
  {
   "cell_type": "code",
   "execution_count": 43,
   "metadata": {},
   "outputs": [
    {
     "data": {
      "text/plain": [
       "3.121155368844933"
      ]
     },
     "execution_count": 43,
     "metadata": {},
     "output_type": "execute_result"
    }
   ],
   "source": [
    "np.median(abs(y_test-predict))"
   ]
  },
  {
   "cell_type": "markdown",
   "metadata": {},
   "source": [
    "# This is an okay model.\n",
    "While it may be more interpretable, it is worse at predicting by half."
   ]
  },
  {
   "cell_type": "code",
   "execution_count": 44,
   "metadata": {},
   "outputs": [],
   "source": [
    "import seaborn as sns\n",
    "import matplotlib.pyplot as plt"
   ]
  },
  {
   "cell_type": "code",
   "execution_count": 45,
   "metadata": {},
   "outputs": [
    {
     "data": {
      "text/plain": [
       "[<matplotlib.lines.Line2D at 0x1a20552860>]"
      ]
     },
     "execution_count": 45,
     "metadata": {},
     "output_type": "execute_result"
    },
    {
     "data": {
      "image/png": "[encoded data removed]",
      "text/plain": [
       "<Figure size 432x288 with 1 Axes>"
      ]
     },
     "metadata": {
      "needs_background": "light"
     },
     "output_type": "display_data"
    }
   ],
   "source": [
    "sns.scatterplot(y_test,predict)\n",
    "plt.xlabel('Actual')\n",
    "plt.ylabel('Predicted')\n",
    "plt.title('Actual v Predicted Suicide Rates',fontdict = {'size':15})\n",
    "plt.xlim(2,30)\n",
    "plt.ylim(2,30)\n",
    "plt.plot([2,30],[2,30],color='k')"
   ]
  },
  {
   "cell_type": "code",
   "execution_count": 46,
   "metadata": {},
   "outputs": [
    {
     "data": {
      "text/plain": [
       "(array([ 4., 11.,  9.,  4.,  4.,  1.,  2.,  0.,  1.,  1.]),\n",
       " array([-7.90729799, -5.18738297, -2.46746796,  0.25244706,  2.97236207,\n",
       "         5.69227709,  8.4121921 , 11.13210712, 13.85202213, 16.57193715,\n",
       "        19.29185216]),\n",
       " <a list of 10 Patch objects>)"
      ]
     },
     "execution_count": 46,
     "metadata": {},
     "output_type": "execute_result"
    },
    {
     "data": {
      "image/png": "[encoded data removed]",
      "text/plain": [
       "<Figure size 432x288 with 1 Axes>"
      ]
     },
     "metadata": {
      "needs_background": "light"
     },
     "output_type": "display_data"
    }
   ],
   "source": [
    "plt.hist(y_test-predict)"
   ]
  },
  {
   "cell_type": "code",
   "execution_count": null,
   "metadata": {},
   "outputs": [],
   "source": []
  }
 ],
 "metadata": {
  "kernelspec": {
   "display_name": "Python 3",
   "language": "python",
   "name": "python3"
  },
  "language_info": {
   "codemirror_mode": {
    "name": "ipython",
    "version": 3
   },
   "file_extension": ".py",
   "mimetype": "text/x-python",
   "name": "python",
   "nbconvert_exporter": "python",
   "pygments_lexer": "ipython3",
   "version": "3.7.1"
  }
 },
 "nbformat": 4,
 "nbformat_minor": 2
}
