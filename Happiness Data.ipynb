{
 "cells": [
  {
   "cell_type": "markdown",
   "metadata": {},
   "source": [
    "# Welcome!\n",
    "This is effectively project 2 part 1 : webscraping. There won't be many notes throughout this notebook because most of it is self explanatory : I scraped this from here."
   ]
  },
  {
   "cell_type": "code",
   "execution_count": 1,
   "metadata": {},
   "outputs": [],
   "source": [
    "import requests\n",
    "from bs4 import BeautifulSoup\n",
    "import pandas as pd\n",
    "import seaborn as sns\n",
    "import statsmodels.api as sm\n",
    "import numpy as np\n",
    "import requests\n",
    "from selenium import webdriver\n",
    "from selenium.webdriver.common.keys import Keys\n",
    "import os\n",
    "from selenium.webdriver.common.by import By\n",
    "import string\n",
    "from time import sleep\n",
    "import matplotlib.pyplot as plt\n",
    "import scipy.stats as stat\n",
    "from statsmodels.graphics.gofplots import qqplot"
   ]
  },
  {
   "cell_type": "code",
   "execution_count": 2,
   "metadata": {},
   "outputs": [],
   "source": [
    "def country_name_consistency(df) :\n",
    "    \"\"\"\n",
    "    Input : dataframe with a 'Countries' column, default index\n",
    "    Output : dataframe with correct country names and 'Countries' as the index\n",
    "    \"\"\"\n",
    "    df['Countries'] = df.Countries.str.strip()\n",
    "    df = df.set_index('Countries')\n",
    "    df = df.rename({\"Côte d'Ivoire\":'Ivory Coast',\n",
    "               'Korea, South': 'South Korea',\n",
    "               'Cabo Verde':'Cape Verde',\n",
    "               'Micronesia, Federated States of':'F.S. Micronesia',\n",
    "               'Slovak Republic':'Slovakia',\n",
    "               'Gambia, The':'Gambia',\n",
    "               'Congo, Democratic Republic of the':'Democratic Republic of the Congo',\n",
    "               'Congo, Republic of the':'Congo',\n",
    "               'Sao Tome and Principe':'São Tomé and Príncipe',\n",
    "               'Bahamas, The':'Bahamas',\n",
    "               'North Macedonia':'Macedonia',\n",
    "               'Republic of the Congo':'Democratic Republic of the Congo',\n",
    "               'The Gambia':'Gambia',\n",
    "               'Burma - Myanmar':'Myanmar',\n",
    "               'Republic of Macedonia':'Macedonia',\n",
    "               'United States of America' : 'United States',\n",
    "               'Russian Federation':'Russia',\n",
    "               'Republic of Korea':'South Korea',\n",
    "               'Republic of Moldova':'Moldova',\n",
    "               'Bolivia (Plurinational State of)':'Bolivia',\n",
    "               \"Democratic People's Republic of Korea\":'North Korea',\n",
    "               'Czechia' : 'Czech Republic',\n",
    "               'United Republic of Tanzania' : 'Tanzania',\n",
    "               'United Kingdom of Great Britain and Northern Ireland' : 'United Kingdom',\n",
    "               'Viet Nam' : 'Vietnam',\n",
    "               'Republic of North Macedonia':'Macedonia',\n",
    "               'Brunei Darussalam' : 'Brunei',\n",
    "               'Iran (Islamic Republic of)' : 'Iran',\n",
    "               'Sao Tome and Principe' : 'São Tomé and Príncipe',\n",
    "               'Syrian Arab Republic' : 'Syria',\n",
    "               'Micronesia, Fed. Sts.':'F.S. Micronesia',\n",
    "               'St. Vincent and the Grenadines':'Saint Vincent and the Grenadines',\n",
    "               \"Cote d'Ivoire\" : 'Ivory Coast',\n",
    "               'Eswatini (Swaziland)':'Eswatini',\n",
    "               'Federated States of Micronesia' : 'F.S. Micronesia',\n",
    "               'Republic of the Congo' : 'Congo',\n",
    "               'The Bahamas' : 'Bahamas',\n",
    "               'Swaziland':'Eswatini',\n",
    "               'Micronesia (Federated States of)' : 'F.S. Micronesia',\n",
    "               'The former Yugoslav Republic of Macedonia' : 'Macedonia',\n",
    "               'The Former Yugoslav Republic of Macedonia' : 'Macedonia',\n",
    "               'Venezuela (Bolivarian Republic of)' : 'Venezuela',   \n",
    "               'Czech Rep.' : 'Czech Republic',\n",
    "               'Dominican Rep.' : 'Dominican Republic',\n",
    "               'Slovak Rep.' : 'Slovakia',\n",
    "               'Yemen, Rep.' : 'Yemen',\n",
    "               'Congo, Dem. R.' : 'Democratic Republic of the Congo',\n",
    "               'Congo, Rep. of' : 'Congo',\n",
    "               'Kyrgyz Republic' : 'Kyrgyzstan',\n",
    "               'Pap. New Guinea' : 'Papua New Guinea',\n",
    "               'Korea (Republic of)' : 'South Korea',\n",
    "               'Eswatini (Kingdom of)' : 'Eswatini',\n",
    "               'Moldova (Republic of)' : 'Moldova',\n",
    "               'Micronesia (Federated States of)' : 'F.S. Micronesia',\n",
    "               'Congo (Democratic Republic of the)' : 'Democratic Republic of the Congo',\n",
    "               'Tanzania (United Republic of)' : 'Tanzania',\n",
    "               'Korea' : 'South Korea',\n",
    "               \"Dem. People's Rep. Korea\" : 'North Korea',\n",
    "               \"Dem. Rep. Congo\" : 'Democratic Republic of the Congo',\n",
    "               'Lao' : 'Laos',\n",
    "               'Lao PDR' : 'Laos',\n",
    "               'São Tomé and Principe' : 'São Tomé and Príncipe',\n",
    "               'Republic of Ireland' : 'Ireland',\n",
    "               'Timor Leste' : 'Timor-Leste',\n",
    "               'Democratic Republic of Congo' : 'Democratic Republic of the Congo',\n",
    "               'Burma' : 'Myanmar',\n",
    "               'Micronesia' : 'F.S. Micronesia',\n",
    "               'Korea, North' : 'North Korea',\n",
    "               'Western Samoa' : 'Samoa',\n",
    "               'Bolivarian Republic of Venezuela' : 'Venezuela',\n",
    "               'Plurinational State of Bolivia' : 'Bolivia',\n",
    "               'Republic of the Gambia' : 'Gambia',\n",
    "               \"Lao People's Democratic Republic\" : 'Laos',\n",
    "               'Islamic Republic of Iran' : 'Iran',\n",
    "               'Saudi Arabia, Kingdom of' : 'Saudi Arabia',\n",
    "               'Venezuela, Bolivarian Republic of' : 'Venezuela',\n",
    "               'Kuwait, the State of' : 'Kuwait',\n",
    "               'Korea, Republic of' : 'South Korea',\n",
    "               'Bolivia, Plurinational State of' : 'Bolivia',\n",
    "               'Côte d’Ivoire' : 'Ivory Coast',\n",
    "               'Somalia (South Central)' : 'Somalia',\n",
    "               'Korea, Rep.' : 'South Korea',\n",
    "               \"Korea, Dem. People's Rep.\" : 'North Korea',\n",
    "               'Congo, Dem. Rep.' : 'Democratic Republic of the Congo',\n",
    "               'Congo, Rep.' : 'Congo',\n",
    "               'Macedona, FYR' : 'Macedonia',\n",
    "               'Egypt, Arab Rep.' : 'Egypt',\n",
    "               'Iran, Islamic Rep.' : 'Iran',\n",
    "               'Venezuela, RB' : 'Venezuela',\n",
    "               'D.R. of the Congo' : 'Democratic Republic of the Congo',\n",
    "               'Serbia and Montenegro' : 'Serbia',\n",
    "               'D.R. of the Congo' : 'Democratic Republic of the Congo',\n",
    "               'Rep. of the Congo' : 'Congo',\n",
    "               'East Timor' : 'Timor-Leste',\n",
    "               'U.A.E.' : 'United Arab Emirates',\n",
    "               'Macedonia, FYR' : 'Macedonia',\n",
    "               'Republic of Congo' : 'Congo',\n",
    "               'Congo, Democratic Republic of' : 'Democratic Republic of the Congo'\n",
    "                    })\n",
    "    return df"
   ]
  },
  {
   "cell_type": "code",
   "execution_count": 3,
   "metadata": {},
   "outputs": [],
   "source": [
    "# tables = pd.read_html('https://countryeconomy.com/demography/world-happiness-index')\n",
    "\n",
    "# happiness_index = tables[0]\n",
    "# happiness_index = happiness_index.drop('World Happiness Index.1',axis=1)\n",
    "# happiness_index['Countries'] = happiness_index.Countries.str.slice(0,-3).str.strip()\n",
    "# happiness_index['World Happiness Ranking'] = happiness_index['World Happiness Ranking'].str.slice(0,-1)\n",
    "# happiness_index = country_name_consistency(happiness_index)\n",
    "\n",
    "# happiness_index.columns = ['a','happy','b']\n",
    "# happiness_index = happiness_index.drop(['a','b'],axis=1)"
   ]
  },
  {
   "cell_type": "code",
   "execution_count": null,
   "metadata": {},
   "outputs": [],
   "source": []
  },
  {
   "cell_type": "code",
   "execution_count": 4,
   "metadata": {},
   "outputs": [],
   "source": [
    "#get suicide rates from 2016\n",
    "tables = pd.read_html('https://en.wikipedia.org/wiki/List_of_countries_by_suicide_rate')\n",
    "\n",
    "suicide_rates = tables[2]\n",
    "suicide_rates = suicide_rates.rename(columns={'Country':'Countries'})\n",
    "#also, there is no recent data for Swaziland, Hong Kong, Taiwan, or Palestine. They will be dropped.\n",
    "suicide_rates.columns = suicide_rates.columns.map(''.join)\n",
    "suicide_rates = (suicide_rates.drop(['Both sexesrank'*2,\n",
    "                                     'MalesRank',\n",
    "                                     'FemalesRank',\n",
    "                                     'Male:Femaleratio'*2],axis = 1)\n",
    "                 .rename(columns = {'Countries'*2:'Countries','Both sexes'*2:'BothSexes','Continent'*2 : 'Continent'}))\n",
    "\n",
    "#this is just to remove some special tags\n",
    "country_names = []\n",
    "for country in suicide_rates.Countries :\n",
    "    if country[-12:] == (' (more info)') :\n",
    "        country = country[0:-12]\n",
    "    if country[-3:] == '[a]' :\n",
    "        country = country[0:-3]\n",
    "    country_names.append(country)\n",
    "cols = country_names\n",
    "\n",
    "\n",
    "suicide_rates['Countries'] = cols\n",
    "suicide_rates = suicide_rates.set_index('Countries')\n",
    "#full = suicide_rates.join(happiness_index,on='Countries')"
   ]
  },
  {
   "cell_type": "code",
   "execution_count": null,
   "metadata": {},
   "outputs": [],
   "source": []
  },
  {
   "cell_type": "code",
   "execution_count": 5,
   "metadata": {},
   "outputs": [],
   "source": [
    "#Get happiness data"
   ]
  },
  {
   "cell_type": "code",
   "execution_count": 6,
   "metadata": {},
   "outputs": [],
   "source": [
    "tables = pd.read_html('https://countryeconomy.com/demography/world-happiness-index')\n",
    "\n",
    "happiness_index = tables[0]\n",
    "happiness_index = happiness_index.drop('World Happiness Index.1',axis=1)\n",
    "happiness_index['Countries'] = happiness_index.Countries.str.slice(0,-3).str.strip()\n",
    "happiness_index['World Happiness Ranking'] = happiness_index['World Happiness Ranking'].str.slice(0,-1)\n",
    "happiness_index = country_name_consistency(happiness_index)\n",
    "\n",
    "happiness_index.columns = ['a','happy','b']\n",
    "happiness_index = happiness_index.drop(['a','b'],axis=1)"
   ]
  },
  {
   "cell_type": "code",
   "execution_count": 7,
   "metadata": {},
   "outputs": [],
   "source": [
    "full = suicide_rates.join(happiness_index,on='Countries')"
   ]
  },
  {
   "cell_type": "code",
   "execution_count": null,
   "metadata": {},
   "outputs": [],
   "source": []
  },
  {
   "cell_type": "code",
   "execution_count": 8,
   "metadata": {},
   "outputs": [],
   "source": [
    "#get most recent data by country\n",
    "docs = pd.read_csv('data.csv').sort_values(by='Year',ascending=False).groupby('Country').first()"
   ]
  },
  {
   "cell_type": "code",
   "execution_count": 9,
   "metadata": {},
   "outputs": [],
   "source": [
    "docs = docs.reset_index()\n",
    "docs = docs.rename(columns={'Country':'Countries','Medical doctors (per 10 000 population)':'doc_ratio'})\n",
    "docs = country_name_consistency(docs)\n",
    "docs = docs.drop('Year',axis=1)"
   ]
  },
  {
   "cell_type": "code",
   "execution_count": 10,
   "metadata": {},
   "outputs": [],
   "source": [
    "full = full.join(docs,on='Countries')\n",
    "full = full.rename(columns = {'Medical doctors (per 10 000 population)':'doc_ratio'})"
   ]
  },
  {
   "cell_type": "code",
   "execution_count": null,
   "metadata": {},
   "outputs": [],
   "source": []
  },
  {
   "cell_type": "code",
   "execution_count": 11,
   "metadata": {},
   "outputs": [],
   "source": [
    "#adding poverty data"
   ]
  },
  {
   "cell_type": "code",
   "execution_count": 12,
   "metadata": {},
   "outputs": [],
   "source": [
    "tables = pd.read_html('https://en.wikipedia.org/wiki/List_of_countries_by_percentage_of_population_living_in_poverty')\n",
    "poverty = tables[1]\n",
    "poverty = poverty[['Country','CIA[8]']]\n",
    "poverty = poverty.rename(columns = {'CIA[8]':'below_pov_line','Country':'Countries'})\n",
    "poverty['below_pov_line']=poverty.below_pov_line.str.strip('%').astype(float)\n",
    "poverty = poverty.set_index('Countries')"
   ]
  },
  {
   "cell_type": "code",
   "execution_count": 13,
   "metadata": {},
   "outputs": [],
   "source": [
    "full = full.join(poverty,on='Countries')"
   ]
  },
  {
   "cell_type": "code",
   "execution_count": null,
   "metadata": {},
   "outputs": [],
   "source": []
  },
  {
   "cell_type": "code",
   "execution_count": 14,
   "metadata": {},
   "outputs": [],
   "source": [
    "#adding GDP"
   ]
  },
  {
   "cell_type": "code",
   "execution_count": 15,
   "metadata": {},
   "outputs": [],
   "source": [
    "tables = pd.read_html('https://en.wikipedia.org/wiki/List_of_countries_by_GDP_(nominal)')\n",
    "\n",
    "gdp = tables[3]\n",
    "gdp = gdp.drop('Rank',axis=1)\n",
    "gdp = gdp.rename(columns = {'Country/Territory':'Countries','GDP(US$million)':\"gdp\"})\n",
    "gdp = gdp[gdp.Countries!='World']\n",
    "\n",
    "c_names = []\n",
    "for country in gdp.Countries :\n",
    "    split_list = country.split('[')\n",
    "    good_name = split_list[0]\n",
    "    c_names.append(good_name)\n",
    "gdp.Countries = c_names\n",
    "gdp = country_name_consistency(gdp)"
   ]
  },
  {
   "cell_type": "code",
   "execution_count": 16,
   "metadata": {},
   "outputs": [],
   "source": [
    "full = full.join(gdp,on='Countries')\n",
    "\n",
    "#I decided not to hard code, but this was the data that was missing for unknown reasons\n",
    "\n",
    "# full.at['Eswatini','gdp'] = 4756\n",
    "# full.at['Eritrea','gdp'] = 6722\n",
    "# full.at['Cuba','gdp'] = 96851\n",
    "# full.at['Yemen','gdp'] = 28524\n",
    "# full.at['South Sudan','gdp'] = 3980\n",
    "# full.at['Venezuela','gdp'] = 96328\n",
    "# full.at['Syria','gdp'] = 77460\n",
    "#these come from a diff dataset"
   ]
  },
  {
   "cell_type": "code",
   "execution_count": null,
   "metadata": {},
   "outputs": [],
   "source": []
  },
  {
   "cell_type": "code",
   "execution_count": 17,
   "metadata": {},
   "outputs": [],
   "source": [
    "#adding GDP per capita"
   ]
  },
  {
   "cell_type": "code",
   "execution_count": 18,
   "metadata": {},
   "outputs": [],
   "source": [
    "url = 'https://en.wikipedia.org/wiki/List_of_countries_by_GDP_(PPP)_per_capita'\n",
    "tables = pd.read_html('https://en.wikipedia.org/wiki/List_of_countries_by_GDP_(PPP)_per_capita')\n",
    "\n",
    "gdp_pp = tables[4]\n",
    "gdp_pp = gdp_pp.drop(['Rank','Year'],axis=1)\n",
    "gdp_pp = gdp_pp.rename(columns = {'Country/Territory':'Countries','Int$':'gdppp'})\n",
    "gdp_pp = country_name_consistency(gdp_pp)\n",
    "full = full.join(gdp_pp,on='Countries')\n"
   ]
  },
  {
   "cell_type": "code",
   "execution_count": null,
   "metadata": {},
   "outputs": [],
   "source": []
  },
  {
   "cell_type": "code",
   "execution_count": 19,
   "metadata": {},
   "outputs": [],
   "source": [
    "#adding unemployment rate"
   ]
  },
  {
   "cell_type": "code",
   "execution_count": 20,
   "metadata": {},
   "outputs": [],
   "source": [
    "tables = pd.read_html('https://tradingeconomics.com/country-list/unemployment-rate')\n",
    "\n",
    "unemp = tables[0]\n",
    "unemp = unemp.drop(['Unnamed: 2','Previous','Range','Unnamed: 5'],axis=1)\n",
    "unemp = unemp.rename(columns = {'Country':'Countries','Last':'unemp'})\n",
    "unemp = country_name_consistency(unemp)\n",
    "full = full.join(unemp,on='Countries')"
   ]
  },
  {
   "cell_type": "code",
   "execution_count": null,
   "metadata": {},
   "outputs": [],
   "source": []
  },
  {
   "cell_type": "code",
   "execution_count": 21,
   "metadata": {},
   "outputs": [],
   "source": [
    "#adding median age"
   ]
  },
  {
   "cell_type": "code",
   "execution_count": 22,
   "metadata": {},
   "outputs": [],
   "source": [
    "tables = pd.read_html('https://en.wikipedia.org/wiki/List_of_countries_by_median_age')\n",
    "\n",
    "med_age = tables[0]\n",
    "med_age = med_age.drop(['Rank'],axis=1)\n",
    "med_age = med_age.rename(columns = {'Country/Territory':'Countries',\n",
    "                                    'Total(Year)':'med_age',\n",
    "                                    'Male(Year)':'med_age_male',\n",
    "                                    'Female (Year)':'med_age_female'})\n",
    "med_age = country_name_consistency(med_age)"
   ]
  },
  {
   "cell_type": "code",
   "execution_count": 23,
   "metadata": {},
   "outputs": [],
   "source": [
    "full = full.join(med_age,on='Countries')"
   ]
  },
  {
   "cell_type": "code",
   "execution_count": null,
   "metadata": {},
   "outputs": [],
   "source": []
  },
  {
   "cell_type": "code",
   "execution_count": 24,
   "metadata": {},
   "outputs": [],
   "source": [
    "# add in homelessness"
   ]
  },
  {
   "cell_type": "code",
   "execution_count": 25,
   "metadata": {},
   "outputs": [],
   "source": [
    "tables = pd.read_html('https://en.wikipedia.org/wiki/List_of_countries_by_homeless_population')\n",
    "\n",
    "homeless = tables[0]\n",
    "homeless = homeless.drop(['Homeless population (per night)','Data year','Main article'],axis = 1)\n",
    "homeless = homeless.rename(columns = {'Country':'Countries','Homeless ratio':'homeless'})\n",
    "\n",
    "homeless_rates = []\n",
    "for val in homeless.homeless.str.split('-'):\n",
    "    homeless_rates.append(val[0].strip('% '))\n",
    "homeless['homeless'] = homeless_rates    \n",
    "homeless = country_name_consistency(homeless)\n",
    "homeless['homeless'] = homeless.homeless.astype(float)\n",
    "full = full.join(homeless, on='Countries')"
   ]
  },
  {
   "cell_type": "code",
   "execution_count": null,
   "metadata": {},
   "outputs": [],
   "source": []
  },
  {
   "cell_type": "code",
   "execution_count": 26,
   "metadata": {},
   "outputs": [],
   "source": [
    "#add in sex ratio"
   ]
  },
  {
   "cell_type": "code",
   "execution_count": 27,
   "metadata": {},
   "outputs": [],
   "source": [
    "tables = pd.read_html('https://en.wikipedia.org/wiki/List_of_countries_by_sex_ratio')\n",
    "\n",
    "sex_ratio = tables[0]\n",
    "sex_ratio.columns = ['Countries','birth_sex_ratio','0-14','15-25','25-54','55-64','65+','total_sex_ratio','old']\n",
    "sex_ratio = sex_ratio.drop(['0-14','15-25','25-54','55-64','65+','old'],axis=1)\n",
    "sex_ratio = sex_ratio.replace('-',np.nan)\n",
    "sex_ratio['total_sex_ratio'] = sex_ratio.total_sex_ratio.astype(float)\n",
    "sex_ratio = country_name_consistency(sex_ratio)"
   ]
  },
  {
   "cell_type": "code",
   "execution_count": 28,
   "metadata": {},
   "outputs": [],
   "source": [
    "full = full.join(sex_ratio,on='Countries')"
   ]
  },
  {
   "cell_type": "code",
   "execution_count": null,
   "metadata": {},
   "outputs": [],
   "source": []
  },
  {
   "cell_type": "code",
   "execution_count": 29,
   "metadata": {},
   "outputs": [],
   "source": [
    "#add literacy"
   ]
  },
  {
   "cell_type": "code",
   "execution_count": 30,
   "metadata": {},
   "outputs": [],
   "source": [
    "tables = pd.read_html('https://www.worldatlas.com/articles/the-highest-literacy-rates-in-the-world.html')\n",
    "\n",
    "literacy = tables[0]\n",
    "literacy = literacy.drop('Rank',axis=1)\n",
    "literacy.columns = ['Countries','literacy']\n",
    "literacy['literacy'] = literacy.literacy.str.strip('%').astype(float)\n",
    "literacy = country_name_consistency(literacy)"
   ]
  },
  {
   "cell_type": "code",
   "execution_count": 31,
   "metadata": {},
   "outputs": [],
   "source": [
    "full = full.join(literacy,on='Countries')"
   ]
  },
  {
   "cell_type": "code",
   "execution_count": null,
   "metadata": {},
   "outputs": [],
   "source": []
  },
  {
   "cell_type": "code",
   "execution_count": 32,
   "metadata": {},
   "outputs": [],
   "source": [
    "# adding freedom index"
   ]
  },
  {
   "cell_type": "code",
   "execution_count": 33,
   "metadata": {},
   "outputs": [],
   "source": [
    "freedom = pd.read_excel('freedom.xlsx')\n",
    "freedom.columns = freedom.iloc[3]\n",
    "freedom = freedom.iloc[4:]\n",
    "\n",
    "g_cols = ['Year','Countries','HUMAN FREEDOM (Score)','ECONOMIC FREEDOM (Score)']\n",
    "freedom = freedom.drop(freedom.columns.difference(g_cols),axis=1)\n",
    "freedom.columns = ['Year','Countries','hum_freedom','econ_freedom']\n",
    "freedom = freedom.sort_values(by = 'Year',ascending=False).groupby('Countries').first()\n",
    "freedom = freedom.reset_index()\n",
    "freedom = freedom.drop('Year',axis = 1)\n",
    "freedom = country_name_consistency(freedom)"
   ]
  },
  {
   "cell_type": "code",
   "execution_count": 34,
   "metadata": {},
   "outputs": [],
   "source": [
    "full = full.join(freedom,on='Countries')"
   ]
  },
  {
   "cell_type": "code",
   "execution_count": null,
   "metadata": {},
   "outputs": [],
   "source": []
  },
  {
   "cell_type": "code",
   "execution_count": 35,
   "metadata": {},
   "outputs": [],
   "source": [
    "gender = pd.read_excel('gender.xlsx')\n",
    "\n",
    "gen = gender.iloc[7:199,1:3]\n",
    "gen = gen.dropna()\n",
    "gen = gen.replace('..',np.nan)\n",
    "gen.columns = ['Countries','gen_inequality']\n",
    "gen = country_name_consistency(gen)"
   ]
  },
  {
   "cell_type": "code",
   "execution_count": 36,
   "metadata": {},
   "outputs": [],
   "source": [
    "full = full.join(gen,on='Countries')"
   ]
  },
  {
   "cell_type": "code",
   "execution_count": null,
   "metadata": {},
   "outputs": [],
   "source": []
  },
  {
   "cell_type": "code",
   "execution_count": 37,
   "metadata": {},
   "outputs": [],
   "source": [
    "#Get sunshine data"
   ]
  },
  {
   "cell_type": "code",
   "execution_count": 38,
   "metadata": {},
   "outputs": [],
   "source": [
    "tables = pd.read_html('https://en.wikipedia.org/wiki/List_of_cities_by_sunshine_duration')\n",
    "\n",
    "africa = tables[3]\n",
    "mideast_asia = tables[4]\n",
    "europe = tables[5]\n",
    "n_c_america = tables[6]\n",
    "s_america = tables[7]\n",
    "oceania = tables[8]\n",
    "sunny = pd.concat([africa,mideast_asia,europe,n_c_america,s_america,oceania])\n",
    "\n",
    "sunny = sunny.drop(['Jan','Feb','Mar','Apr','May','Jun','Jul','Aug','Sep','Oct','Nov','Dec','Ref.'],axis=1)\n",
    "sunny = sunny.groupby('Country',as_index=False).mean()\n",
    "sunny.columns = ['Countries','sunny_hours']\n",
    "sunny = country_name_consistency(sunny)"
   ]
  },
  {
   "cell_type": "code",
   "execution_count": 39,
   "metadata": {},
   "outputs": [],
   "source": [
    "full = full.join(sunny, on='Countries')"
   ]
  },
  {
   "cell_type": "code",
   "execution_count": 40,
   "metadata": {},
   "outputs": [],
   "source": [
    "#This is to fill missing data with continent mean, as an early test; I figured mean would work better\n",
    "#since there was unlikely to be wild variation for most continents\n",
    "sunny_cont_means = full.groupby('Continent',as_index=False).mean().loc[:,['Continent','sunny_hours']]\n",
    "sunny_cont_means = sunny_cont_means.set_index('Continent')\n",
    "sunny_cont_means.columns = ['mean_sunny_hours']"
   ]
  },
  {
   "cell_type": "code",
   "execution_count": 41,
   "metadata": {},
   "outputs": [],
   "source": [
    "#filling the missing data with continent means\n",
    "full = full.reset_index()\n",
    "full = full.set_index('Continent')\n",
    "full = full.join(sunny_cont_means,on='Continent')\n",
    "full = full.reset_index()\n",
    "full = full.set_index('Countries')\n",
    "\n",
    "full['sunny_hours'] = full['sunny_hours'].fillna(full['mean_sunny_hours']).to_frame()\n",
    "full = full.drop('mean_sunny_hours',axis=1)"
   ]
  },
  {
   "cell_type": "code",
   "execution_count": null,
   "metadata": {},
   "outputs": [],
   "source": []
  },
  {
   "cell_type": "code",
   "execution_count": 42,
   "metadata": {},
   "outputs": [],
   "source": [
    "# add rainy-ness"
   ]
  },
  {
   "cell_type": "code",
   "execution_count": 43,
   "metadata": {},
   "outputs": [],
   "source": [
    "tables = pd.read_html('https://www.indexmundi.com/facts/indicators/AG.LND.PRCP.MM/rankings')\n",
    "\n",
    "rainy = tables[0]\n",
    "rainy = rainy.drop(['Rank','Year'],axis=1)\n",
    "rainy.columns = ['Countries','rainfall']\n",
    "rainy = country_name_consistency(rainy)"
   ]
  },
  {
   "cell_type": "code",
   "execution_count": 44,
   "metadata": {},
   "outputs": [],
   "source": [
    "full = full.join(rainy, on='Countries')"
   ]
  },
  {
   "cell_type": "code",
   "execution_count": null,
   "metadata": {},
   "outputs": [],
   "source": []
  },
  {
   "cell_type": "code",
   "execution_count": 45,
   "metadata": {},
   "outputs": [],
   "source": [
    "# add pop density"
   ]
  },
  {
   "cell_type": "code",
   "execution_count": 46,
   "metadata": {},
   "outputs": [],
   "source": [
    "tables = pd.read_html('https://en.wikipedia.org/wiki/List_of_countries_and_dependencies_by_population_density')\n",
    "\n",
    "pop_dens = tables[0]\n",
    "pop_dens = pop_dens.drop(['Pos.','Area (km2)',\n",
    "                          'Area (mi2)',\n",
    "                          'Population',\n",
    "                          'Density(pop./km2)',\n",
    "                          'Date',\n",
    "                          'Population source'],\n",
    "                         axis=1)\n",
    "pop_dens = pop_dens.loc[3:252]\n",
    "pop_dens.columns = ['Countries','pop_dens']\n",
    "pop_dens['Countries'] = pop_dens['Countries'].apply(lambda x: x.split('[')[0])\n",
    "pop_dens = country_name_consistency(pop_dens)\n",
    "pop_dens['pop_dens'] = pop_dens.pop_dens.astype(float)\n"
   ]
  },
  {
   "cell_type": "code",
   "execution_count": 47,
   "metadata": {},
   "outputs": [],
   "source": [
    "full = full.join(pop_dens,on='Countries')"
   ]
  },
  {
   "cell_type": "code",
   "execution_count": null,
   "metadata": {},
   "outputs": [],
   "source": []
  },
  {
   "cell_type": "code",
   "execution_count": 48,
   "metadata": {},
   "outputs": [],
   "source": [
    "#adding avg temp"
   ]
  },
  {
   "cell_type": "code",
   "execution_count": 49,
   "metadata": {},
   "outputs": [],
   "source": [
    "tables = pd.read_html('https://en.wikipedia.org/wiki/List_of_countries_by_average_yearly_temperature')\n",
    "\n",
    "avg_temp = tables[0]\n",
    "avg_temp.columns = ['Countries','avg_temp']\n",
    "avg_temp['avg_temp'] = avg_temp.avg_temp.str.replace('−', '-').astype(float)\n",
    "avg_temp = country_name_consistency(avg_temp)"
   ]
  },
  {
   "cell_type": "code",
   "execution_count": 50,
   "metadata": {},
   "outputs": [],
   "source": [
    "full = full.join(avg_temp,on='Countries')"
   ]
  },
  {
   "cell_type": "code",
   "execution_count": null,
   "metadata": {},
   "outputs": [],
   "source": []
  },
  {
   "cell_type": "code",
   "execution_count": 51,
   "metadata": {},
   "outputs": [],
   "source": [
    "#adding int users"
   ]
  },
  {
   "cell_type": "code",
   "execution_count": 52,
   "metadata": {},
   "outputs": [],
   "source": [
    "tables = pd.read_html('https://en.wikipedia.org/wiki/List_of_countries_by_number_of_Internet_users')\n",
    "\n",
    "int_users = tables[5]\n",
    "int_users = int_users.drop(['Rank','Population','Internetusers','Rank.1'],axis=1)\n",
    "int_users.columns = ['Countries','int_users']\n",
    "int_users['int_users'] = int_users.int_users.apply(lambda x : x.split('(')[0])\n",
    "int_users['int_users'] = int_users.int_users.str.strip(' ').str.strip('%').astype(float)\n",
    "int_users = country_name_consistency(int_users)"
   ]
  },
  {
   "cell_type": "code",
   "execution_count": 53,
   "metadata": {},
   "outputs": [],
   "source": [
    "full = full.join(int_users,on='Countries')"
   ]
  },
  {
   "cell_type": "code",
   "execution_count": null,
   "metadata": {},
   "outputs": [],
   "source": []
  },
  {
   "cell_type": "code",
   "execution_count": 54,
   "metadata": {},
   "outputs": [],
   "source": [
    "#adding ethnic, religious, and linguistic diversity"
   ]
  },
  {
   "cell_type": "code",
   "execution_count": 55,
   "metadata": {},
   "outputs": [],
   "source": [
    "tables = pd.read_html('https://en.wikipedia.org/wiki/List_of_countries_ranked_by_ethnic_and_cultural_diversity_level')\n",
    "\n",
    "diverse = tables[3]\n",
    "diverse.columns = ['Countries','eth_div','ling_div','relig_div']\n",
    "diverse = country_name_consistency(diverse)"
   ]
  },
  {
   "cell_type": "code",
   "execution_count": 56,
   "metadata": {},
   "outputs": [],
   "source": [
    "full = full.join(diverse,on='Countries')"
   ]
  },
  {
   "cell_type": "code",
   "execution_count": null,
   "metadata": {},
   "outputs": [],
   "source": []
  },
  {
   "cell_type": "code",
   "execution_count": 59,
   "metadata": {},
   "outputs": [],
   "source": [
    "# get WTO members and observers"
   ]
  },
  {
   "cell_type": "code",
   "execution_count": 60,
   "metadata": {},
   "outputs": [],
   "source": [
    "chromedriver = \"/Applications/chromedriver\"\n",
    "os.environ[\"webdriver.chrome.driver\"] = chromedriver\n",
    "\n",
    "driver = webdriver.Chrome(chromedriver)\n",
    "wto_countries = []\n",
    "driver.get(\"https://www.wto.org/english/thewto_e/whatis_e/tif_e/org6_e.htm\")\n",
    "sleep(1)\n",
    "elements = driver.find_elements_by_css_selector(\"a.element\")\n",
    "for element in elements :\n",
    "    wto_countries.append(element.get_attribute('text'))\n",
    "driver.close()"
   ]
  },
  {
   "cell_type": "code",
   "execution_count": 62,
   "metadata": {},
   "outputs": [
    {
     "data": {
      "text/plain": [
       "374"
      ]
     },
     "execution_count": 62,
     "metadata": {},
     "output_type": "execute_result"
    }
   ],
   "source": [
    "#for some reason each country is pulled twice; ill split the list by indexing\n",
    "len(wto_countries)"
   ]
  },
  {
   "cell_type": "code",
   "execution_count": 63,
   "metadata": {},
   "outputs": [],
   "source": [
    "wto = pd.DataFrame(wto_countries[0:187])\n",
    "wto['wto'] = True\n",
    "wto.columns = ['Countries','wto']\n",
    "wto['Countries'] = wto.Countries.str.strip()\n",
    "wto = country_name_consistency(wto)"
   ]
  },
  {
   "cell_type": "code",
   "execution_count": 64,
   "metadata": {},
   "outputs": [],
   "source": [
    "full = full.join(wto,on='Countries')"
   ]
  },
  {
   "cell_type": "code",
   "execution_count": null,
   "metadata": {},
   "outputs": [],
   "source": []
  },
  {
   "cell_type": "code",
   "execution_count": 65,
   "metadata": {},
   "outputs": [],
   "source": [
    "#adding alcohol"
   ]
  },
  {
   "cell_type": "code",
   "execution_count": 66,
   "metadata": {},
   "outputs": [],
   "source": [
    "tables = pd.read_html(\"https://en.wikipedia.org/wiki/List_of_countries_by_alcohol_consumption_per_capita\")\n",
    "\n",
    "alcohol = tables[0]\n",
    "alcohol = alcohol.drop(['Rank','Recordedconsumption','Unrecordedconsumption','2015projection'],axis=1)\n",
    "alcohol.columns = ['Countries','alc_cons','beer','wine','spirits','oth_alc']\n",
    "alcohol = country_name_consistency(alcohol)"
   ]
  },
  {
   "cell_type": "code",
   "execution_count": 67,
   "metadata": {},
   "outputs": [],
   "source": [
    "full = full.join(alcohol,on='Countries')"
   ]
  },
  {
   "cell_type": "code",
   "execution_count": null,
   "metadata": {},
   "outputs": [],
   "source": []
  },
  {
   "cell_type": "code",
   "execution_count": 68,
   "metadata": {},
   "outputs": [],
   "source": [
    "#add obesity data"
   ]
  },
  {
   "cell_type": "code",
   "execution_count": 69,
   "metadata": {},
   "outputs": [],
   "source": [
    "tables = pd.read_html('https://en.wikipedia.org/wiki/List_of_countries_by_body_mass_index')\n",
    "obese = tables[1]\n",
    "obese = obese.drop(['Overallrank','Female rank','Male rank'],axis=1)\n",
    "obese.columns = ['Countries','total_bmi','fem_bmi','male_bmi']\n",
    "obese = obese.replace('-',np.NaN)\n",
    "obese['total_bmi'] = obese.total_bmi.astype(float)\n",
    "obese['fem_bmi'] = obese.fem_bmi.astype(float)\n",
    "obese['male_bmi'] = obese.male_bmi.astype(float)\n",
    "obese = country_name_consistency(obese)\n"
   ]
  },
  {
   "cell_type": "code",
   "execution_count": 70,
   "metadata": {},
   "outputs": [],
   "source": [
    "full = full.join(obese,on='Countries')"
   ]
  },
  {
   "cell_type": "code",
   "execution_count": null,
   "metadata": {},
   "outputs": [],
   "source": []
  },
  {
   "cell_type": "code",
   "execution_count": 71,
   "metadata": {},
   "outputs": [],
   "source": [
    "#adding warzone"
   ]
  },
  {
   "cell_type": "code",
   "execution_count": 72,
   "metadata": {},
   "outputs": [],
   "source": [
    "response = requests.get(\"https://en.wikipedia.org/wiki/List_of_ongoing_armed_conflicts\")\n",
    "page = response.text\n",
    "soup = BeautifulSoup(page,'lxml')\n",
    "\n",
    "\n",
    "home_war = []\n",
    "flags = soup.find_all(class_='flagicon')\n",
    "for flag in flags :\n",
    "    home_war.append(flag.findNextSibling()['title'])\n",
    "\n",
    "recent_home_war = set(home_war)\n",
    "recent_home_war = pd.DataFrame(recent_home_war)\n",
    "recent_home_war.columns = ['Countries']\n",
    "recent_home_war['r_home_war'] = True\n",
    "recent_home_war = country_name_consistency(recent_home_war)"
   ]
  },
  {
   "cell_type": "code",
   "execution_count": 73,
   "metadata": {},
   "outputs": [],
   "source": [
    "full = full.join(recent_home_war,on='Countries')"
   ]
  },
  {
   "cell_type": "code",
   "execution_count": null,
   "metadata": {},
   "outputs": [],
   "source": []
  },
  {
   "cell_type": "code",
   "execution_count": 74,
   "metadata": {},
   "outputs": [],
   "source": [
    "#adding elevation"
   ]
  },
  {
   "cell_type": "code",
   "execution_count": 75,
   "metadata": {},
   "outputs": [],
   "source": [
    "tables = pd.read_html('https://en.wikipedia.org/wiki/List_of_countries_by_average_elevation')\n",
    "elevation = tables[1]\n",
    "elevation.columns = ['Countries','elevation']\n",
    "elevation = country_name_consistency(elevation)\n",
    "elevation['elevation'] = elevation.elevation.apply(lambda x : x.split('m')[0])\n",
    "elevation['elevation'] = elevation.elevation.str.replace(u'\\xa0','')\n",
    "elevation['elevation'] = elevation.elevation.str.replace(',','')\n",
    "elevation['elevation'] = elevation.elevation.astype(float)"
   ]
  },
  {
   "cell_type": "code",
   "execution_count": 76,
   "metadata": {},
   "outputs": [],
   "source": [
    "full = full.join(elevation,on='Countries')"
   ]
  },
  {
   "cell_type": "code",
   "execution_count": null,
   "metadata": {},
   "outputs": [],
   "source": []
  },
  {
   "cell_type": "code",
   "execution_count": 77,
   "metadata": {},
   "outputs": [],
   "source": [
    "#gun access"
   ]
  },
  {
   "cell_type": "code",
   "execution_count": 78,
   "metadata": {},
   "outputs": [],
   "source": [
    "tables = pd.read_html('https://en.wikipedia.org/wiki/Estimated_number_of_civilian_guns_per_capita_by_country')\n",
    "\n",
    "guns = tables[0]\n",
    "guns = guns.iloc[:,1:3]\n",
    "guns.columns = ['Countries','guns']\n",
    "guns = country_name_consistency(guns)"
   ]
  },
  {
   "cell_type": "code",
   "execution_count": 79,
   "metadata": {},
   "outputs": [],
   "source": [
    "full = full.join(guns,on='Countries')\n",
    "#UK hard coded bc the data isn't in the table, it's a footnote bc it was reported as England/Wales, Scotland, and Northern Ireland\n",
    "full.loc['United Kingdom','guns'] = 5.03"
   ]
  },
  {
   "cell_type": "code",
   "execution_count": null,
   "metadata": {},
   "outputs": [],
   "source": []
  },
  {
   "cell_type": "code",
   "execution_count": 80,
   "metadata": {},
   "outputs": [],
   "source": [
    "#add farmer pop"
   ]
  },
  {
   "cell_type": "code",
   "execution_count": 81,
   "metadata": {},
   "outputs": [],
   "source": [
    "#pls don't judge the excel; the csv was badly formatted and i didn't want to deal w xml\n",
    "farmers = pd.read_excel('farmers.xls',skiprows=3)\n",
    "goodcols = ['Country Name','2018']\n",
    "farmers = farmers.drop(farmers.columns.difference(goodcols),axis=1)\n",
    "farmers.columns = ['Countries','farmers']\n",
    "farmers = country_name_consistency(farmers)"
   ]
  },
  {
   "cell_type": "code",
   "execution_count": 82,
   "metadata": {},
   "outputs": [],
   "source": [
    "full = full.join(farmers,on='Countries')"
   ]
  },
  {
   "cell_type": "code",
   "execution_count": null,
   "metadata": {},
   "outputs": [],
   "source": []
  },
  {
   "cell_type": "code",
   "execution_count": 83,
   "metadata": {},
   "outputs": [],
   "source": [
    "#add depression"
   ]
  },
  {
   "cell_type": "code",
   "execution_count": 84,
   "metadata": {},
   "outputs": [],
   "source": [
    "tables = pd.read_html('https://en.wikipedia.org/wiki/Epidemiology_of_depression')\n",
    "\n",
    "depression = tables[0]\n",
    "depression = depression.drop('Rank',axis=1)\n",
    "depression.columns = ['Countries','depression']\n",
    "depression = country_name_consistency(depression)"
   ]
  },
  {
   "cell_type": "code",
   "execution_count": 85,
   "metadata": {},
   "outputs": [],
   "source": [
    "full = full.join(depression,on='Countries')"
   ]
  },
  {
   "cell_type": "code",
   "execution_count": 88,
   "metadata": {},
   "outputs": [],
   "source": [
    "#curse those who still mark Serbia and Montenegro as one country\n",
    "full.loc['Montenegro','depression'] = full.loc['Serbia','depression']"
   ]
  },
  {
   "cell_type": "code",
   "execution_count": null,
   "metadata": {},
   "outputs": [],
   "source": []
  },
  {
   "cell_type": "code",
   "execution_count": 89,
   "metadata": {},
   "outputs": [],
   "source": [
    "#add children"
   ]
  },
  {
   "cell_type": "code",
   "execution_count": 90,
   "metadata": {},
   "outputs": [],
   "source": [
    "children = pd.read_excel('children.xls',skiprows = 3)\n",
    "\n",
    "goodcols = ['Country Name','2017']\n",
    "children = children.drop(children.columns.difference(goodcols),axis=1)\n",
    "children.columns = ['Countries','children']\n",
    "children['Countries'] = children.Countries.str.strip()\n",
    "children = country_name_consistency(children)"
   ]
  },
  {
   "cell_type": "code",
   "execution_count": 91,
   "metadata": {},
   "outputs": [],
   "source": [
    "full = full.join(children,on='Countries')\n",
    "#North Korea just... not happening\n",
    "full.loc['North Korea','children'] = 20.6171245380471"
   ]
  },
  {
   "cell_type": "code",
   "execution_count": null,
   "metadata": {},
   "outputs": [],
   "source": []
  },
  {
   "cell_type": "code",
   "execution_count": 92,
   "metadata": {},
   "outputs": [],
   "source": [
    "#add marriage and divorce crude values"
   ]
  },
  {
   "cell_type": "code",
   "execution_count": 93,
   "metadata": {},
   "outputs": [],
   "source": [
    "tables = pd.read_html('https://en.wikipedia.org/wiki/Divorce_demography')\n",
    "\n",
    "mawwidge_div = tables[1]\n",
    "mawwidge_div = mawwidge_div.drop('Data Source Year',axis=1)\n",
    "mawwidge_div.columns = ['Countries','marriage','divorce','marr_div_ratio']\n",
    "mawwidge_div['Countries'] = mawwidge_div.Countries.str.strip()\n",
    "mawwidge_div = country_name_consistency(mawwidge_div)"
   ]
  },
  {
   "cell_type": "code",
   "execution_count": 94,
   "metadata": {},
   "outputs": [],
   "source": [
    "full = full.join(mawwidge_div,on='Countries')"
   ]
  },
  {
   "cell_type": "code",
   "execution_count": null,
   "metadata": {},
   "outputs": [],
   "source": []
  },
  {
   "cell_type": "code",
   "execution_count": 95,
   "metadata": {},
   "outputs": [],
   "source": [
    "#add urbanness"
   ]
  },
  {
   "cell_type": "code",
   "execution_count": 96,
   "metadata": {},
   "outputs": [],
   "source": [
    "tables = pd.read_html('https://en.wikipedia.org/wiki/Urbanization_by_country')\n",
    "\n",
    "urban = tables[0]\n",
    "goodcols = ['Nation','Urban Population (%)']\n",
    "urban = urban.drop(urban.columns.difference(goodcols),axis=1)\n",
    "urban.columns = ['Countries','urbanization']\n",
    "urban = country_name_consistency(urban)"
   ]
  },
  {
   "cell_type": "code",
   "execution_count": 97,
   "metadata": {},
   "outputs": [],
   "source": [
    "full = full.join(urban,on='Countries')"
   ]
  },
  {
   "cell_type": "code",
   "execution_count": null,
   "metadata": {},
   "outputs": [],
   "source": []
  },
  {
   "cell_type": "code",
   "execution_count": 98,
   "metadata": {},
   "outputs": [],
   "source": [
    "#add immigrant population"
   ]
  },
  {
   "cell_type": "code",
   "execution_count": 99,
   "metadata": {},
   "outputs": [],
   "source": [
    "tables = pd.read_html('https://en.wikipedia.org/wiki/List_of_sovereign_states_and_dependent_territories_by_immigrant_population')\n",
    "\n",
    "immigrant = tables[0]\n",
    "goodcols = ['Country','Of total population (%)']\n",
    "immigrant = immigrant.drop(immigrant.columns.difference(goodcols),axis=1)\n",
    "immigrant.columns = ['Countries','immigrants']\n",
    "immigrant = country_name_consistency(immigrant)"
   ]
  },
  {
   "cell_type": "code",
   "execution_count": 100,
   "metadata": {},
   "outputs": [],
   "source": [
    "full = full.join(immigrant,on='Countries')"
   ]
  },
  {
   "cell_type": "code",
   "execution_count": null,
   "metadata": {},
   "outputs": [],
   "source": []
  },
  {
   "cell_type": "code",
   "execution_count": 101,
   "metadata": {},
   "outputs": [],
   "source": [
    "#get malnutrition"
   ]
  },
  {
   "cell_type": "code",
   "execution_count": 102,
   "metadata": {},
   "outputs": [],
   "source": [
    "tables = pd.read_html('https://en.wikipedia.org/wiki/Epidemiology_of_malnutrition')\n",
    "\n",
    "malnutrition = tables[3]\n",
    "goodcols = ['Country','Percentage of population suffering from undernourishment in 2004-06']\n",
    "malnutrition = malnutrition.drop(malnutrition.columns.difference(goodcols),axis=1)\n",
    "malnutrition.columns = ['Countries','malnutrition']\n",
    "malnutrition['malnutrition'] = malnutrition.malnutrition.replace('<5%','2.5')\n",
    "malnutrition['malnutrition'] = malnutrition.malnutrition.str.strip('%').astype(float)\n",
    "malnutrition = country_name_consistency(malnutrition)"
   ]
  },
  {
   "cell_type": "code",
   "execution_count": 103,
   "metadata": {},
   "outputs": [],
   "source": [
    "full = full.join(malnutrition,on='Countries')\n",
    "full.loc['Congo','malnutrition'] = 21.0"
   ]
  },
  {
   "cell_type": "code",
   "execution_count": null,
   "metadata": {},
   "outputs": [],
   "source": []
  },
  {
   "cell_type": "code",
   "execution_count": 104,
   "metadata": {},
   "outputs": [],
   "source": [
    "#get poverty index"
   ]
  },
  {
   "cell_type": "code",
   "execution_count": 105,
   "metadata": {},
   "outputs": [],
   "source": [
    "poverty = pd.read_excel('poverty.xlsx',skiprows = 4,header=0)\n",
    "goodcols = ['Country','Value']\n",
    "\n",
    "#cut out info rows\n",
    "poverty = poverty.iloc[-0:105,:]\n",
    "poverty = poverty.drop(poverty.columns.difference(goodcols),axis=1)\n",
    "poverty.columns = ['Countries','pov_ind']\n",
    "poverty = country_name_consistency(poverty)"
   ]
  },
  {
   "cell_type": "code",
   "execution_count": 106,
   "metadata": {},
   "outputs": [],
   "source": [
    "full = full.join(poverty,on='Countries')"
   ]
  },
  {
   "cell_type": "code",
   "execution_count": null,
   "metadata": {},
   "outputs": [],
   "source": []
  },
  {
   "cell_type": "code",
   "execution_count": 107,
   "metadata": {},
   "outputs": [],
   "source": [
    "#get total population"
   ]
  },
  {
   "cell_type": "code",
   "execution_count": 108,
   "metadata": {},
   "outputs": [],
   "source": [
    "tables = pd.read_html('https://en.wikipedia.org/wiki/List_of_countries_and_dependencies_by_population')\n",
    "\n",
    "population  = tables[0]\n",
    "population = population.drop(['Rank','Date','% of worldpopulation','Source'],axis=1)\n",
    "population.columns = ['Countries','population']\n",
    "\n",
    "#damned added brackets and parentheses\n",
    "population['Countries'] = population.Countries.apply(lambda x : x.split('[')[0])\n",
    "population['Countries'] = population.Countries.apply(lambda x : x.split('(')[0])\n",
    "population = country_name_consistency(population)"
   ]
  },
  {
   "cell_type": "code",
   "execution_count": 109,
   "metadata": {},
   "outputs": [],
   "source": [
    "full = full.join(population,on='Countries')"
   ]
  },
  {
   "cell_type": "markdown",
   "metadata": {},
   "source": [
    "# Now to prepare the data for brining\n",
    "There is one thing that I know I shouldn't have done - the boxcox transformation on both the train and test data. I'm going to be honest and not change it, next time I'll remember train/test split first to prevent bleeding!"
   ]
  },
  {
   "cell_type": "code",
   "execution_count": 110,
   "metadata": {},
   "outputs": [],
   "source": [
    "#normalise suicide rates, rn only for both\n",
    "full['bc_BothSexes'] = stat.boxcox(full.BothSexes)[0]"
   ]
  },
  {
   "cell_type": "code",
   "execution_count": 111,
   "metadata": {},
   "outputs": [
    {
     "data": {
      "text/plain": [
       "0.41719220590443856"
      ]
     },
     "execution_count": 111,
     "metadata": {},
     "output_type": "execute_result"
    }
   ],
   "source": [
    "#I save this to reverse the transformation later\n",
    "stat.boxcox(full.BothSexes)[1]"
   ]
  },
  {
   "cell_type": "code",
   "execution_count": 112,
   "metadata": {},
   "outputs": [],
   "source": [
    "#if somehow a country got two rows, remove one\n",
    "full = full.reset_index()\n",
    "full = full.drop_duplicates(subset = ['Countries'])"
   ]
  },
  {
   "cell_type": "markdown",
   "metadata": {},
   "source": [
    "Dummy creation for variables with very little data"
   ]
  },
  {
   "cell_type": "code",
   "execution_count": 113,
   "metadata": {},
   "outputs": [],
   "source": [
    "full = full.set_index('Countries')\n",
    "\n",
    "homeless_dummy = pd.get_dummies(full.homeless,dummy_na=True)\n",
    "homeless_dummy = homeless_dummy.iloc[:,-1]\n",
    "homeless_dummy.rename('homeless_dummy')\n",
    "\n",
    "full = full.join(homeless_dummy,on='Countries')\n",
    "full['homeless_dummy'] = abs(full[np.NaN]-1)/255\n",
    "full = full.drop(np.NaN, axis=1)"
   ]
  },
  {
   "cell_type": "code",
   "execution_count": 115,
   "metadata": {},
   "outputs": [],
   "source": [
    "marr_div_dummy = pd.get_dummies(full.marriage,dummy_na=True)\n",
    "marr_div_dummy = marr_div_dummy.iloc[:,-1]\n",
    "marr_div_dummy.rename('marr_div_dummy')\n",
    "\n",
    "full = full.join(homeless_dummy,on='Countries')\n",
    "full['marr_div_dummy'] = abs(full[np.NaN]-1)/255\n",
    "full = full.drop(np.NaN, axis=1)"
   ]
  },
  {
   "cell_type": "code",
   "execution_count": 116,
   "metadata": {},
   "outputs": [],
   "source": [
    "malnutrition_dummy = pd.get_dummies(full.malnutrition,dummy_na=True)\n",
    "malnutrition_dummy = malnutrition_dummy.iloc[:,-1]\n",
    "malnutrition_dummy.rename('marr_div_dummy')\n",
    "\n",
    "full = full.join(homeless_dummy,on='Countries')\n",
    "full['malnutrition_dummy'] = abs(full[np.NaN]-1)/255\n",
    "full = full.drop(np.NaN, axis=1)"
   ]
  },
  {
   "cell_type": "code",
   "execution_count": 117,
   "metadata": {},
   "outputs": [],
   "source": [
    "pov_ind_dummy = pd.get_dummies(full.pov_ind,dummy_na=True)\n",
    "pov_ind_dummy = pov_ind_dummy.iloc[:,-1]\n",
    "pov_ind_dummy.rename('marr_div_dummy')\n",
    "\n",
    "full = full.join(pov_ind_dummy,on='Countries')\n",
    "full['pov_ind_dummy'] = abs(full[np.NaN]-1)/255\n",
    "full = full.drop(np.NaN, axis=1)"
   ]
  },
  {
   "cell_type": "code",
   "execution_count": 118,
   "metadata": {},
   "outputs": [],
   "source": [
    "#filling other values with column medians"
   ]
  },
  {
   "cell_type": "code",
   "execution_count": 119,
   "metadata": {},
   "outputs": [],
   "source": [
    "def fill_nan_med(df,gb,columns) :\n",
    "    \"\"\"\n",
    "    group a dataframe (df) by something (gb) and then fill\n",
    "    the columns in the list of columns with the median of their group\"\"\"\n",
    "    for col in columns :\n",
    "        df[col] = df.groupby(gb)[col].apply(lambda x : x.fillna(x.median()))"
   ]
  },
  {
   "cell_type": "code",
   "execution_count": 120,
   "metadata": {},
   "outputs": [],
   "source": [
    "fill_med = ['doc_ratio',\n",
    "            'below_pov_line',\n",
    "            'gdp',\n",
    "            'unemp',\n",
    "            'total_sex_ratio',\n",
    "            'hum_freedom',\n",
    "            'econ_freedom',\n",
    "            'gen_inequality',\n",
    "            'rainfall',\n",
    "            'avg_temp',\n",
    "            'int_users',\n",
    "            'eth_div',\n",
    "            'ling_div',\n",
    "            'relig_div',\n",
    "            'alc_cons',\n",
    "            'beer',\n",
    "            'wine',\n",
    "            'spirits',\n",
    "            'oth_alc',\n",
    "            'total_bmi',\n",
    "            'male_bmi',\n",
    "            'fem_bmi',\n",
    "            'happy',\n",
    "            'elevation',\n",
    "            'farmers',\n",
    "            'depression',\n",
    "            'children',\n",
    "            'unemp',\n",
    "            'gdppp',\n",
    "            'literacy'\n",
    "           ]"
   ]
  },
  {
   "cell_type": "code",
   "execution_count": 121,
   "metadata": {},
   "outputs": [],
   "source": [
    "fill_nan_med(full,'Continent',fill_med)"
   ]
  },
  {
   "cell_type": "code",
   "execution_count": 122,
   "metadata": {},
   "outputs": [],
   "source": [
    "full['wto'] = full.wto.fillna(False)"
   ]
  },
  {
   "cell_type": "code",
   "execution_count": 123,
   "metadata": {},
   "outputs": [],
   "source": [
    "full['r_home_war'] = full.r_home_war.fillna(False)"
   ]
  },
  {
   "cell_type": "code",
   "execution_count": null,
   "metadata": {},
   "outputs": [],
   "source": []
  },
  {
   "cell_type": "code",
   "execution_count": 124,
   "metadata": {},
   "outputs": [],
   "source": [
    "full.to_pickle(path = './full_country_data.pkl')"
   ]
  },
  {
   "cell_type": "code",
   "execution_count": 125,
   "metadata": {},
   "outputs": [],
   "source": [
    "starter_cols = ['bc_BothSexes',\n",
    "               'happy',\n",
    "               'doc_ratio',\n",
    "               'below_pov_line',\n",
    "               'gdp',\n",
    "               'unemp',\n",
    "               'med_age',\n",
    "               'homeless',\n",
    "               'homeless_dummy',\n",
    "               'total_sex_ratio',\n",
    "               'hum_freedom',\n",
    "               'econ_freedom',\n",
    "               'gen_inequality',\n",
    "               'sunny_hours',\n",
    "               'pop_dens',\n",
    "               'avg_temp',\n",
    "               'eth_div',\n",
    "               'int_users',\n",
    "               'ling_div',\n",
    "               'relig_div',\n",
    "               'alc_cons',\n",
    "               'total_bmi',\n",
    "               'r_home_war',\n",
    "               'elevation',\n",
    "               'depression',\n",
    "               'children',\n",
    "               'divorce',\n",
    "               'marr_div_dummy',\n",
    "               'urbanization',\n",
    "               'immigrants',\n",
    "               'malnutrition',\n",
    "               'malnutrition_dummy',\n",
    "               'pov_ind',\n",
    "               'pov_ind_dummy',\n",
    "               'guns',\n",
    "               'gdppp',\n",
    "               'literacy',\n",
    "               'population']"
   ]
  },
  {
   "cell_type": "code",
   "execution_count": 126,
   "metadata": {},
   "outputs": [],
   "source": [
    "starter_data = full.loc[:,starter_cols]"
   ]
  },
  {
   "cell_type": "code",
   "execution_count": 127,
   "metadata": {},
   "outputs": [],
   "source": [
    "starter_data.to_pickle(path = './starter_data.pkl')"
   ]
  },
  {
   "cell_type": "code",
   "execution_count": 128,
   "metadata": {},
   "outputs": [
    {
     "data": {
      "text/plain": [
       "(array([19., 37., 42., 39., 22., 10.,  5.,  5.,  2.,  2.]),\n",
       " array([ 0.4 ,  3.38,  6.36,  9.34, 12.32, 15.3 , 18.28, 21.26, 24.24,\n",
       "        27.22, 30.2 ]),\n",
       " <a list of 10 Patch objects>)"
      ]
     },
     "execution_count": 128,
     "metadata": {},
     "output_type": "execute_result"
    },
    {
     "data": {
      "image/png": "[encoded data removed]",
      "text/plain": [
       "<Figure size 432x288 with 1 Axes>"
      ]
     },
     "metadata": {
      "needs_background": "light"
     },
     "output_type": "display_data"
    }
   ],
   "source": [
    "plt.hist(full.BothSexes)"
   ]
  },
  {
   "cell_type": "code",
   "execution_count": 129,
   "metadata": {},
   "outputs": [
    {
     "data": {
      "text/plain": [
       "(array([ 2.,  3., 17., 24., 36., 41., 35., 13.,  8.,  4.]),\n",
       " array([-0.76149254,  0.06832935,  0.89815124,  1.72797314,  2.55779503,\n",
       "         3.38761692,  4.21743881,  5.0472607 ,  5.8770826 ,  6.70690449,\n",
       "         7.53672638]),\n",
       " <a list of 10 Patch objects>)"
      ]
     },
     "execution_count": 129,
     "metadata": {},
     "output_type": "execute_result"
    },
    {
     "data": {
      "image/png": "[encoded data removed]",
      "text/plain": [
       "<Figure size 432x288 with 1 Axes>"
      ]
     },
     "metadata": {
      "needs_background": "light"
     },
     "output_type": "display_data"
    }
   ],
   "source": [
    "plt.hist(full.bc_BothSexes)"
   ]
  },
  {
   "cell_type": "code",
   "execution_count": 131,
   "metadata": {},
   "outputs": [
    {
     "name": "stdout",
     "output_type": "stream",
     "text": [
      "<class 'pandas.core.frame.DataFrame'>\n",
      "Index: 183 entries, Guyana to Barbados\n",
      "Data columns (total 56 columns):\n",
      "Continent             183 non-null object\n",
      "BothSexes             183 non-null float64\n",
      "MalesNumber           183 non-null float64\n",
      "FemalesNumber         183 non-null float64\n",
      "happy                 183 non-null float64\n",
      "doc_ratio             183 non-null float64\n",
      "below_pov_line        183 non-null float64\n",
      "gdp                   183 non-null float64\n",
      "gdppp                 183 non-null float64\n",
      "unemp                 183 non-null float64\n",
      "med_age               183 non-null float64\n",
      "med_age_male          183 non-null float64\n",
      "med_age_female        183 non-null float64\n",
      "homeless              55 non-null float64\n",
      "birth_sex_ratio       183 non-null float64\n",
      "total_sex_ratio       183 non-null float64\n",
      "literacy              183 non-null float64\n",
      "hum_freedom           183 non-null float64\n",
      "econ_freedom          183 non-null float64\n",
      "gen_inequality        183 non-null float64\n",
      "sunny_hours           183 non-null float64\n",
      "rainfall              183 non-null float64\n",
      "pop_dens              183 non-null float64\n",
      "avg_temp              183 non-null float64\n",
      "int_users             183 non-null float64\n",
      "eth_div               183 non-null float64\n",
      "ling_div              183 non-null float64\n",
      "relig_div             183 non-null float64\n",
      "wto                   183 non-null bool\n",
      "alc_cons              183 non-null float64\n",
      "beer                  183 non-null float64\n",
      "wine                  183 non-null float64\n",
      "spirits               183 non-null float64\n",
      "oth_alc               183 non-null float64\n",
      "total_bmi             183 non-null float64\n",
      "fem_bmi               183 non-null float64\n",
      "male_bmi              183 non-null float64\n",
      "r_home_war            183 non-null bool\n",
      "elevation             183 non-null float64\n",
      "guns                  183 non-null float64\n",
      "farmers               183 non-null float64\n",
      "depression            183 non-null float64\n",
      "children              183 non-null float64\n",
      "marriage              98 non-null float64\n",
      "divorce               98 non-null float64\n",
      "marr_div_ratio        97 non-null float64\n",
      "urbanization          183 non-null float64\n",
      "immigrants            183 non-null float64\n",
      "malnutrition          95 non-null float64\n",
      "pov_ind               104 non-null float64\n",
      "population            183 non-null int64\n",
      "bc_BothSexes          183 non-null float64\n",
      "homeless_dummy        183 non-null float64\n",
      "marr_div_dummy        183 non-null float64\n",
      "malnutrition_dummy    183 non-null float64\n",
      "pov_ind_dummy         183 non-null float64\n",
      "dtypes: bool(2), float64(52), int64(1), object(1)\n",
      "memory usage: 79.0+ KB\n"
     ]
    }
   ],
   "source": [
    "full.info()"
   ]
  },
  {
   "cell_type": "code",
   "execution_count": null,
   "metadata": {},
   "outputs": [],
   "source": []
  },
  {
   "cell_type": "code",
   "execution_count": null,
   "metadata": {},
   "outputs": [],
   "source": []
  },
  {
   "cell_type": "code",
   "execution_count": null,
   "metadata": {},
   "outputs": [],
   "source": []
  },
  {
   "cell_type": "code",
   "execution_count": null,
   "metadata": {},
   "outputs": [],
   "source": []
  },
  {
   "cell_type": "markdown",
   "metadata": {},
   "source": [
    "Hey look! I can do other things in Selenium; this is proved through my idiocy thinking that I had to expand tabs to read them, but in any case..."
   ]
  },
  {
   "cell_type": "code",
   "execution_count": null,
   "metadata": {},
   "outputs": [],
   "source": [
    "# def get_wto() :\n",
    "#     driver.get(\"https://www.wto.org/english/thewto_e/whatis_e/tif_e/org6_e.htm\")\n",
    "#     sleep(.5)\n",
    "#     for letter in string.ascii_uppercase :\n",
    "#         try :\n",
    "#             collapsed = driver.find_element_by_css_selector(f\"a[aria-controls='collapse{letter}']\")\n",
    "#             collapsed.click()\n",
    "#             sleep(.2)\n",
    "#             print(letter)\n",
    "#         except :\n",
    "#             print('no ',letter)\n",
    "#             continue"
   ]
  }
 ],
 "metadata": {
  "kernelspec": {
   "display_name": "metis",
   "language": "python",
   "name": "metis"
  },
  "language_info": {
   "codemirror_mode": {
    "name": "ipython",
    "version": 3
   },
   "file_extension": ".py",
   "mimetype": "text/x-python",
   "name": "python",
   "nbconvert_exporter": "python",
   "pygments_lexer": "ipython3",
   "version": "3.7.1"
  }
 },
 "nbformat": 4,
 "nbformat_minor": 2
}
