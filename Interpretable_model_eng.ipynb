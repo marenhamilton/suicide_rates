{
 "cells": [
  {
   "cell_type": "markdown",
   "metadata": {},
   "source": [
    "# This notebook is dedicated to a intuitive model\n",
    "So no feature combining! This is basically the same as my base data in ANTM, but without BoxCox transforming the dependent variable because that is very hard to detransform in a meaningful way."
   ]
  },
  {
   "cell_type": "code",
   "execution_count": 1,
   "metadata": {},
   "outputs": [],
   "source": [
    "import pandas as pd\n",
    "import numpy as np\n",
    "\n",
    "from sklearn.model_selection import train_test_split, KFold\n",
    "from sklearn.preprocessing import StandardScaler, PolynomialFeatures\n",
    "from sklearn.linear_model import LinearRegression, Lasso, LassoCV, Ridge, RidgeCV\n",
    "from sklearn.model_selection import cross_val_score,cross_val_predict\n",
    "\n",
    "import statsmodels.formula.api as smf"
   ]
  },
  {
   "cell_type": "code",
   "execution_count": 2,
   "metadata": {},
   "outputs": [],
   "source": [
    "basic_data = pd.read_pickle('full_country_data.pkl')\n",
    "basic_data = basic_data.drop(['Continent','homeless','marriage','divorce','marr_div_ratio','malnutrition','pov_ind','FemalesNumber','MalesNumber','bc_BothSexes'],axis=1)\n",
    "basic_data = basic_data.astype(float)\n",
    "X,y = basic_data.drop('BothSexes',axis=1), basic_data['BothSexes']"
   ]
  },
  {
   "cell_type": "code",
   "execution_count": 3,
   "metadata": {},
   "outputs": [],
   "source": [
    "X['gdp'] = np.log(X.gdp)\n",
    "X['total_sex_ratio'] = 1/(X.total_sex_ratio)\n",
    "X['guns'] = np.log(X.guns+1)\n",
    "X['doc_ratio'] = np.log(X.doc_ratio)\n",
    "X['pop_dens'] = np.log(X.pop_dens)\n",
    "X['elevation'] = np.log(X.elevation)\n",
    "X['immigrants'] = np.log(X.immigrants)\n",
    "X['literacy'] = (X.literacy)**1/2\n",
    "X['gdppp'] = np.log(X.gdppp)\n",
    "X['population'] = np.log(X.population)\n",
    "X['children'] = X.children**2\n",
    "X['below_pov_line'] = np.log(X.below_pov_line)\n",
    "X['wine'] = np.log(X.wine+1)\n",
    "X['oth_alc'] = np.log(X.oth_alc+1)"
   ]
  },
  {
   "cell_type": "code",
   "execution_count": 4,
   "metadata": {},
   "outputs": [],
   "source": [
    "X_train,X_test,y_train,y_test = train_test_split(X,y,test_size=.2,random_state=8,shuffle=True)"
   ]
  },
  {
   "cell_type": "code",
   "execution_count": 5,
   "metadata": {},
   "outputs": [],
   "source": [
    "train_whole = pd.concat([y_train,X_train],axis=1)\n",
    "train_whole = train_whole.drop(['hum_freedom','gen_inequality'],axis=1,errors='ignore')"
   ]
  },
  {
   "cell_type": "code",
   "execution_count": 6,
   "metadata": {},
   "outputs": [
    {
     "data": {
      "text/html": [
       "<table class=\"simpletable\">\n",
       "<caption>OLS Regression Results</caption>\n",
       "<tr>\n",
       "  <th>Dep. Variable:</th>        <td>BothSexes</td>    <th>  R-squared:         </th> <td>   0.557</td>\n",
       "</tr>\n",
       "<tr>\n",
       "  <th>Model:</th>                   <td>OLS</td>       <th>  Adj. R-squared:    </th> <td>   0.383</td>\n",
       "</tr>\n",
       "<tr>\n",
       "  <th>Method:</th>             <td>Least Squares</td>  <th>  F-statistic:       </th> <td>   3.191</td>\n",
       "</tr>\n",
       "<tr>\n",
       "  <th>Date:</th>             <td>Fri, 19 Apr 2019</td> <th>  Prob (F-statistic):</th> <td>1.04e-06</td>\n",
       "</tr>\n",
       "<tr>\n",
       "  <th>Time:</th>                 <td>15:58:16</td>     <th>  Log-Likelihood:    </th> <td> -392.56</td>\n",
       "</tr>\n",
       "<tr>\n",
       "  <th>No. Observations:</th>      <td>   146</td>      <th>  AIC:               </th> <td>   869.1</td>\n",
       "</tr>\n",
       "<tr>\n",
       "  <th>Df Residuals:</th>          <td>   104</td>      <th>  BIC:               </th> <td>   994.4</td>\n",
       "</tr>\n",
       "<tr>\n",
       "  <th>Df Model:</th>              <td>    41</td>      <th>                     </th>     <td> </td>   \n",
       "</tr>\n",
       "<tr>\n",
       "  <th>Covariance Type:</th>      <td>nonrobust</td>    <th>                     </th>     <td> </td>   \n",
       "</tr>\n",
       "</table>\n",
       "<table class=\"simpletable\">\n",
       "<tr>\n",
       "           <td></td>             <th>coef</th>     <th>std err</th>      <th>t</th>      <th>P>|t|</th>  <th>[0.025</th>    <th>0.975]</th>  \n",
       "</tr>\n",
       "<tr>\n",
       "  <th>Intercept</th>          <td>   62.0882</td> <td>   35.827</td> <td>    1.733</td> <td> 0.086</td> <td>   -8.958</td> <td>  133.134</td>\n",
       "</tr>\n",
       "<tr>\n",
       "  <th>happy</th>              <td>    0.1450</td> <td>    0.674</td> <td>    0.215</td> <td> 0.830</td> <td>   -1.192</td> <td>    1.482</td>\n",
       "</tr>\n",
       "<tr>\n",
       "  <th>doc_ratio</th>          <td>   -0.9428</td> <td>    0.728</td> <td>   -1.295</td> <td> 0.198</td> <td>   -2.387</td> <td>    0.501</td>\n",
       "</tr>\n",
       "<tr>\n",
       "  <th>below_pov_line</th>     <td>   -0.4866</td> <td>    0.809</td> <td>   -0.602</td> <td> 0.549</td> <td>   -2.090</td> <td>    1.117</td>\n",
       "</tr>\n",
       "<tr>\n",
       "  <th>gdp</th>                <td>   -0.4939</td> <td>    1.178</td> <td>   -0.419</td> <td> 0.676</td> <td>   -2.830</td> <td>    1.842</td>\n",
       "</tr>\n",
       "<tr>\n",
       "  <th>gdppp</th>              <td>    2.6081</td> <td>    1.257</td> <td>    2.075</td> <td> 0.040</td> <td>    0.116</td> <td>    5.100</td>\n",
       "</tr>\n",
       "<tr>\n",
       "  <th>unemp</th>              <td>   -0.1311</td> <td>    0.071</td> <td>   -1.843</td> <td> 0.068</td> <td>   -0.272</td> <td>    0.010</td>\n",
       "</tr>\n",
       "<tr>\n",
       "  <th>med_age</th>            <td>    1.2668</td> <td>    3.294</td> <td>    0.385</td> <td> 0.701</td> <td>   -5.266</td> <td>    7.799</td>\n",
       "</tr>\n",
       "<tr>\n",
       "  <th>med_age_male</th>       <td>   -1.6485</td> <td>    1.762</td> <td>   -0.936</td> <td> 0.352</td> <td>   -5.142</td> <td>    1.845</td>\n",
       "</tr>\n",
       "<tr>\n",
       "  <th>med_age_female</th>     <td>    0.5137</td> <td>    1.701</td> <td>    0.302</td> <td> 0.763</td> <td>   -2.860</td> <td>    3.888</td>\n",
       "</tr>\n",
       "<tr>\n",
       "  <th>birth_sex_ratio</th>    <td>  -35.3541</td> <td>   21.950</td> <td>   -1.611</td> <td> 0.110</td> <td>  -78.882</td> <td>    8.174</td>\n",
       "</tr>\n",
       "<tr>\n",
       "  <th>total_sex_ratio</th>    <td>   -4.7962</td> <td>    9.979</td> <td>   -0.481</td> <td> 0.632</td> <td>  -24.586</td> <td>   14.993</td>\n",
       "</tr>\n",
       "<tr>\n",
       "  <th>literacy</th>           <td>   -0.0755</td> <td>    0.081</td> <td>   -0.930</td> <td> 0.355</td> <td>   -0.237</td> <td>    0.086</td>\n",
       "</tr>\n",
       "<tr>\n",
       "  <th>econ_freedom</th>       <td>   -0.7339</td> <td>    0.767</td> <td>   -0.957</td> <td> 0.341</td> <td>   -2.255</td> <td>    0.787</td>\n",
       "</tr>\n",
       "<tr>\n",
       "  <th>sunny_hours</th>        <td>   -0.0024</td> <td>    0.001</td> <td>   -1.772</td> <td> 0.079</td> <td>   -0.005</td> <td>    0.000</td>\n",
       "</tr>\n",
       "<tr>\n",
       "  <th>rainfall</th>           <td> -8.14e-05</td> <td>    0.001</td> <td>   -0.090</td> <td> 0.928</td> <td>   -0.002</td> <td>    0.002</td>\n",
       "</tr>\n",
       "<tr>\n",
       "  <th>pop_dens</th>           <td>   -0.2700</td> <td>    0.364</td> <td>   -0.742</td> <td> 0.460</td> <td>   -0.992</td> <td>    0.452</td>\n",
       "</tr>\n",
       "<tr>\n",
       "  <th>avg_temp</th>           <td>   -0.1402</td> <td>    0.097</td> <td>   -1.443</td> <td> 0.152</td> <td>   -0.333</td> <td>    0.053</td>\n",
       "</tr>\n",
       "<tr>\n",
       "  <th>int_users</th>          <td>   -0.0962</td> <td>    0.042</td> <td>   -2.290</td> <td> 0.024</td> <td>   -0.180</td> <td>   -0.013</td>\n",
       "</tr>\n",
       "<tr>\n",
       "  <th>eth_div</th>            <td>   -0.6984</td> <td>    2.580</td> <td>   -0.271</td> <td> 0.787</td> <td>   -5.814</td> <td>    4.417</td>\n",
       "</tr>\n",
       "<tr>\n",
       "  <th>ling_div</th>           <td>   -0.5976</td> <td>    2.247</td> <td>   -0.266</td> <td> 0.791</td> <td>   -5.054</td> <td>    3.859</td>\n",
       "</tr>\n",
       "<tr>\n",
       "  <th>relig_div</th>          <td>    0.9719</td> <td>    2.130</td> <td>    0.456</td> <td> 0.649</td> <td>   -3.251</td> <td>    5.195</td>\n",
       "</tr>\n",
       "<tr>\n",
       "  <th>wto</th>                <td>   -3.2675</td> <td>    2.116</td> <td>   -1.544</td> <td> 0.126</td> <td>   -7.464</td> <td>    0.929</td>\n",
       "</tr>\n",
       "<tr>\n",
       "  <th>alc_cons</th>           <td>    0.3964</td> <td>    0.151</td> <td>    2.625</td> <td> 0.010</td> <td>    0.097</td> <td>    0.696</td>\n",
       "</tr>\n",
       "<tr>\n",
       "  <th>beer</th>               <td>   -0.0169</td> <td>    0.027</td> <td>   -0.631</td> <td> 0.529</td> <td>   -0.070</td> <td>    0.036</td>\n",
       "</tr>\n",
       "<tr>\n",
       "  <th>wine</th>               <td>   -0.8057</td> <td>    0.514</td> <td>   -1.568</td> <td> 0.120</td> <td>   -1.824</td> <td>    0.213</td>\n",
       "</tr>\n",
       "<tr>\n",
       "  <th>spirits</th>            <td>    0.0111</td> <td>    0.027</td> <td>    0.407</td> <td> 0.685</td> <td>   -0.043</td> <td>    0.065</td>\n",
       "</tr>\n",
       "<tr>\n",
       "  <th>oth_alc</th>            <td>    0.0757</td> <td>    0.527</td> <td>    0.144</td> <td> 0.886</td> <td>   -0.970</td> <td>    1.121</td>\n",
       "</tr>\n",
       "<tr>\n",
       "  <th>total_bmi</th>          <td>    1.7860</td> <td>    8.893</td> <td>    0.201</td> <td> 0.841</td> <td>  -15.850</td> <td>   19.422</td>\n",
       "</tr>\n",
       "<tr>\n",
       "  <th>fem_bmi</th>            <td>   -0.1568</td> <td>    4.522</td> <td>   -0.035</td> <td> 0.972</td> <td>   -9.125</td> <td>    8.811</td>\n",
       "</tr>\n",
       "<tr>\n",
       "  <th>male_bmi</th>           <td>   -2.2570</td> <td>    4.442</td> <td>   -0.508</td> <td> 0.612</td> <td>  -11.066</td> <td>    6.552</td>\n",
       "</tr>\n",
       "<tr>\n",
       "  <th>r_home_war</th>         <td>   -1.1767</td> <td>    1.245</td> <td>   -0.945</td> <td> 0.347</td> <td>   -3.646</td> <td>    1.293</td>\n",
       "</tr>\n",
       "<tr>\n",
       "  <th>elevation</th>          <td>   -0.5537</td> <td>    0.497</td> <td>   -1.114</td> <td> 0.268</td> <td>   -1.539</td> <td>    0.432</td>\n",
       "</tr>\n",
       "<tr>\n",
       "  <th>guns</th>               <td>    0.8241</td> <td>    0.569</td> <td>    1.448</td> <td> 0.151</td> <td>   -0.304</td> <td>    1.953</td>\n",
       "</tr>\n",
       "<tr>\n",
       "  <th>farmers</th>            <td>   -0.0315</td> <td>    0.039</td> <td>   -0.802</td> <td> 0.425</td> <td>   -0.109</td> <td>    0.046</td>\n",
       "</tr>\n",
       "<tr>\n",
       "  <th>depression</th>         <td>   -0.0025</td> <td>    0.003</td> <td>   -0.921</td> <td> 0.359</td> <td>   -0.008</td> <td>    0.003</td>\n",
       "</tr>\n",
       "<tr>\n",
       "  <th>children</th>           <td>    0.0031</td> <td>    0.003</td> <td>    1.063</td> <td> 0.290</td> <td>   -0.003</td> <td>    0.009</td>\n",
       "</tr>\n",
       "<tr>\n",
       "  <th>urbanization</th>       <td>    0.0501</td> <td>    0.030</td> <td>    1.679</td> <td> 0.096</td> <td>   -0.009</td> <td>    0.109</td>\n",
       "</tr>\n",
       "<tr>\n",
       "  <th>immigrants</th>         <td>    0.1796</td> <td>    0.445</td> <td>    0.404</td> <td> 0.687</td> <td>   -0.702</td> <td>    1.061</td>\n",
       "</tr>\n",
       "<tr>\n",
       "  <th>population</th>         <td>    0.5739</td> <td>    1.189</td> <td>    0.483</td> <td> 0.630</td> <td>   -1.784</td> <td>    2.932</td>\n",
       "</tr>\n",
       "<tr>\n",
       "  <th>homeless_dummy</th>     <td>    0.0573</td> <td>    0.384</td> <td>    0.149</td> <td> 0.882</td> <td>   -0.704</td> <td>    0.819</td>\n",
       "</tr>\n",
       "<tr>\n",
       "  <th>marr_div_dummy</th>     <td>    0.0573</td> <td>    0.384</td> <td>    0.149</td> <td> 0.882</td> <td>   -0.704</td> <td>    0.819</td>\n",
       "</tr>\n",
       "<tr>\n",
       "  <th>malnutrition_dummy</th> <td>    0.0573</td> <td>    0.384</td> <td>    0.149</td> <td> 0.882</td> <td>   -0.704</td> <td>    0.819</td>\n",
       "</tr>\n",
       "<tr>\n",
       "  <th>pov_ind_dummy</th>      <td>    0.4002</td> <td>    1.277</td> <td>    0.313</td> <td> 0.755</td> <td>   -2.132</td> <td>    2.932</td>\n",
       "</tr>\n",
       "</table>\n",
       "<table class=\"simpletable\">\n",
       "<tr>\n",
       "  <th>Omnibus:</th>       <td>26.531</td> <th>  Durbin-Watson:     </th> <td>   1.747</td>\n",
       "</tr>\n",
       "<tr>\n",
       "  <th>Prob(Omnibus):</th> <td> 0.000</td> <th>  Jarque-Bera (JB):  </th> <td>  48.987</td>\n",
       "</tr>\n",
       "<tr>\n",
       "  <th>Skew:</th>          <td> 0.836</td> <th>  Prob(JB):          </th> <td>2.30e-11</td>\n",
       "</tr>\n",
       "<tr>\n",
       "  <th>Kurtosis:</th>      <td> 5.293</td> <th>  Cond. No.          </th> <td>1.01e+16</td>\n",
       "</tr>\n",
       "</table><br/><br/>Warnings:<br/>[1] Standard Errors assume that the covariance matrix of the errors is correctly specified.<br/>[2] The smallest eigenvalue is 1.32e-23. This might indicate that there are<br/>strong multicollinearity problems or that the design matrix is singular."
      ],
      "text/plain": [
       "<class 'statsmodels.iolib.summary.Summary'>\n",
       "\"\"\"\n",
       "                            OLS Regression Results                            \n",
       "==============================================================================\n",
       "Dep. Variable:              BothSexes   R-squared:                       0.557\n",
       "Model:                            OLS   Adj. R-squared:                  0.383\n",
       "Method:                 Least Squares   F-statistic:                     3.191\n",
       "Date:                Fri, 19 Apr 2019   Prob (F-statistic):           1.04e-06\n",
       "Time:                        15:58:16   Log-Likelihood:                -392.56\n",
       "No. Observations:                 146   AIC:                             869.1\n",
       "Df Residuals:                     104   BIC:                             994.4\n",
       "Df Model:                          41                                         \n",
       "Covariance Type:            nonrobust                                         \n",
       "======================================================================================\n",
       "                         coef    std err          t      P>|t|      [0.025      0.975]\n",
       "--------------------------------------------------------------------------------------\n",
       "Intercept             62.0882     35.827      1.733      0.086      -8.958     133.134\n",
       "happy                  0.1450      0.674      0.215      0.830      -1.192       1.482\n",
       "doc_ratio             -0.9428      0.728     -1.295      0.198      -2.387       0.501\n",
       "below_pov_line        -0.4866      0.809     -0.602      0.549      -2.090       1.117\n",
       "gdp                   -0.4939      1.178     -0.419      0.676      -2.830       1.842\n",
       "gdppp                  2.6081      1.257      2.075      0.040       0.116       5.100\n",
       "unemp                 -0.1311      0.071     -1.843      0.068      -0.272       0.010\n",
       "med_age                1.2668      3.294      0.385      0.701      -5.266       7.799\n",
       "med_age_male          -1.6485      1.762     -0.936      0.352      -5.142       1.845\n",
       "med_age_female         0.5137      1.701      0.302      0.763      -2.860       3.888\n",
       "birth_sex_ratio      -35.3541     21.950     -1.611      0.110     -78.882       8.174\n",
       "total_sex_ratio       -4.7962      9.979     -0.481      0.632     -24.586      14.993\n",
       "literacy              -0.0755      0.081     -0.930      0.355      -0.237       0.086\n",
       "econ_freedom          -0.7339      0.767     -0.957      0.341      -2.255       0.787\n",
       "sunny_hours           -0.0024      0.001     -1.772      0.079      -0.005       0.000\n",
       "rainfall            -8.14e-05      0.001     -0.090      0.928      -0.002       0.002\n",
       "pop_dens              -0.2700      0.364     -0.742      0.460      -0.992       0.452\n",
       "avg_temp              -0.1402      0.097     -1.443      0.152      -0.333       0.053\n",
       "int_users             -0.0962      0.042     -2.290      0.024      -0.180      -0.013\n",
       "eth_div               -0.6984      2.580     -0.271      0.787      -5.814       4.417\n",
       "ling_div              -0.5976      2.247     -0.266      0.791      -5.054       3.859\n",
       "relig_div              0.9719      2.130      0.456      0.649      -3.251       5.195\n",
       "wto                   -3.2675      2.116     -1.544      0.126      -7.464       0.929\n",
       "alc_cons               0.3964      0.151      2.625      0.010       0.097       0.696\n",
       "beer                  -0.0169      0.027     -0.631      0.529      -0.070       0.036\n",
       "wine                  -0.8057      0.514     -1.568      0.120      -1.824       0.213\n",
       "spirits                0.0111      0.027      0.407      0.685      -0.043       0.065\n",
       "oth_alc                0.0757      0.527      0.144      0.886      -0.970       1.121\n",
       "total_bmi              1.7860      8.893      0.201      0.841     -15.850      19.422\n",
       "fem_bmi               -0.1568      4.522     -0.035      0.972      -9.125       8.811\n",
       "male_bmi              -2.2570      4.442     -0.508      0.612     -11.066       6.552\n",
       "r_home_war            -1.1767      1.245     -0.945      0.347      -3.646       1.293\n",
       "elevation             -0.5537      0.497     -1.114      0.268      -1.539       0.432\n",
       "guns                   0.8241      0.569      1.448      0.151      -0.304       1.953\n",
       "farmers               -0.0315      0.039     -0.802      0.425      -0.109       0.046\n",
       "depression            -0.0025      0.003     -0.921      0.359      -0.008       0.003\n",
       "children               0.0031      0.003      1.063      0.290      -0.003       0.009\n",
       "urbanization           0.0501      0.030      1.679      0.096      -0.009       0.109\n",
       "immigrants             0.1796      0.445      0.404      0.687      -0.702       1.061\n",
       "population             0.5739      1.189      0.483      0.630      -1.784       2.932\n",
       "homeless_dummy         0.0573      0.384      0.149      0.882      -0.704       0.819\n",
       "marr_div_dummy         0.0573      0.384      0.149      0.882      -0.704       0.819\n",
       "malnutrition_dummy     0.0573      0.384      0.149      0.882      -0.704       0.819\n",
       "pov_ind_dummy          0.4002      1.277      0.313      0.755      -2.132       2.932\n",
       "==============================================================================\n",
       "Omnibus:                       26.531   Durbin-Watson:                   1.747\n",
       "Prob(Omnibus):                  0.000   Jarque-Bera (JB):               48.987\n",
       "Skew:                           0.836   Prob(JB):                     2.30e-11\n",
       "Kurtosis:                       5.293   Cond. No.                     1.01e+16\n",
       "==============================================================================\n",
       "\n",
       "Warnings:\n",
       "[1] Standard Errors assume that the covariance matrix of the errors is correctly specified.\n",
       "[2] The smallest eigenvalue is 1.32e-23. This might indicate that there are\n",
       "strong multicollinearity problems or that the design matrix is singular.\n",
       "\"\"\""
      ]
     },
     "execution_count": 6,
     "metadata": {},
     "output_type": "execute_result"
    }
   ],
   "source": [
    "model = smf.ols(\"\"\"BothSexes ~ happy+doc_ratio+below_pov_line+gdp+gdppp+unemp+med_age+med_age_male+med_age_female+birth_sex_ratio+total_sex_ratio+literacy+econ_freedom+sunny_hours+rainfall+pop_dens+avg_temp+int_users+eth_div+ling_div+relig_div+wto+alc_cons+beer+wine+spirits+oth_alc+total_bmi+fem_bmi+male_bmi+r_home_war+elevation+guns+farmers+depression+children+urbanization+immigrants+population+homeless_dummy+marr_div_dummy+malnutrition_dummy+pov_ind_dummy\"\"\"\n",
    "                     ,data=train_whole)\n",
    "results = model.fit()\n",
    "results.summary()"
   ]
  },
  {
   "cell_type": "code",
   "execution_count": 7,
   "metadata": {},
   "outputs": [],
   "source": [
    "kf = KFold(10,shuffle=True,random_state=13)"
   ]
  },
  {
   "cell_type": "code",
   "execution_count": 8,
   "metadata": {},
   "outputs": [],
   "source": [
    "scaler = StandardScaler()\n",
    "X_scaled = scaler.fit_transform(X_train)"
   ]
  },
  {
   "cell_type": "code",
   "execution_count": 9,
   "metadata": {},
   "outputs": [
    {
     "name": "stderr",
     "output_type": "stream",
     "text": [
      "/anaconda3/lib/python3.7/site-packages/sklearn/model_selection/_search.py:841: DeprecationWarning: The default of the `iid` parameter will change from True to False in version 0.22 and will be removed in 0.24. This will change numeric results when test-set sizes are unequal.\n",
      "  DeprecationWarning)\n"
     ]
    }
   ],
   "source": [
    "lasso = LassoCV(cv = kf,max_iter=100000)\n",
    "lass_results = lasso.fit(X_scaled,y_train)\n",
    "best_alpha_l = lass_results.alpha_\n",
    "\n",
    "ridge = RidgeCV(cv = kf)\n",
    "ridge_results = ridge.fit(X_scaled,y_train)\n",
    "best_alpha_r = ridge_results.alpha_"
   ]
  },
  {
   "cell_type": "code",
   "execution_count": 10,
   "metadata": {},
   "outputs": [],
   "source": [
    "def model_competition(feature_matrix,target_series,l_alpha,r_alpha):\n",
    "    ols = LinearRegression()\n",
    "    lasso = Lasso(alpha = l_alpha)\n",
    "    ridge = Ridge(alpha = r_alpha)\n",
    "    models = {ols:'OLS',lasso:'lasso',ridge:'ridge'}\n",
    "    for model in models.keys() :\n",
    "        if model == ols :\n",
    "            r2 = cross_val_score(model, feature_matrix, target_series,cv=kf, scoring='r2')\n",
    "            print(f'The mean r2 for {models[model]} is {np.mean(r2)} +- {np.std(r2)}.')\n",
    "        else :\n",
    "            scaler = StandardScaler()\n",
    "            X_scaled = scaler.fit_transform(feature_matrix)\n",
    "            r2 = cross_val_score(model, X_scaled, target_series,cv=kf, scoring='r2')\n",
    "            print(f'The mean r2 for {models[model]} is {np.mean(r2)} +- {np.std(r2)}.')"
   ]
  },
  {
   "cell_type": "code",
   "execution_count": 11,
   "metadata": {},
   "outputs": [
    {
     "name": "stdout",
     "output_type": "stream",
     "text": [
      "The mean r2 for OLS is -0.4765494719602751 +- 0.9233917858795521.\n",
      "The mean r2 for lasso is 0.046897981218970694 +- 0.3225160645355197.\n",
      "The mean r2 for ridge is -0.13044316661731403 +- 0.48331175603002013.\n"
     ]
    }
   ],
   "source": [
    "model_competition(X_train,y_train,best_alpha_l,best_alpha_r)"
   ]
  },
  {
   "cell_type": "markdown",
   "metadata": {},
   "source": [
    "# That's... low\n",
    "Let's see what lasso tells us to cut."
   ]
  },
  {
   "cell_type": "code",
   "execution_count": 12,
   "metadata": {},
   "outputs": [
    {
     "name": "stdout",
     "output_type": "stream",
     "text": [
      "Lasso test R^2: 0.40626723618159255\n"
     ]
    },
    {
     "data": {
      "text/plain": [
       "[('happy', -0.0),\n",
       " ('doc_ratio', -0.0),\n",
       " ('below_pov_line', -0.0),\n",
       " ('gdp', 0.0),\n",
       " ('gdppp', 0.0),\n",
       " ('unemp', -0.06849526344235547),\n",
       " ('med_age', 0.0),\n",
       " ('med_age_male', -0.0),\n",
       " ('med_age_female', 0.0),\n",
       " ('birth_sex_ratio', -0.0),\n",
       " ('total_sex_ratio', 0.0),\n",
       " ('literacy', -0.011768288990724124),\n",
       " ('hum_freedom', -0.0),\n",
       " ('econ_freedom', -0.0),\n",
       " ('gen_inequality', 0.0),\n",
       " ('sunny_hours', -0.002015692003592003),\n",
       " ('rainfall', -0.0),\n",
       " ('pop_dens', -0.0),\n",
       " ('avg_temp', -0.07580890951836274),\n",
       " ('int_users', -0.0693319028594596),\n",
       " ('eth_div', 0.0),\n",
       " ('ling_div', 0.0),\n",
       " ('relig_div', 0.0),\n",
       " ('wto', -0.0),\n",
       " ('alc_cons', 0.563603686520315),\n",
       " ('beer', -0.01913681797706965),\n",
       " ('wine', -0.0),\n",
       " ('spirits', 0.002260254698316479),\n",
       " ('oth_alc', 0.0),\n",
       " ('total_bmi', -0.0),\n",
       " ('fem_bmi', -0.0),\n",
       " ('male_bmi', -0.02737849652972979),\n",
       " ('r_home_war', -0.0),\n",
       " ('elevation', -0.0),\n",
       " ('guns', 0.0),\n",
       " ('farmers', 0.0035091300646504986),\n",
       " ('depression', -0.003946795254009242),\n",
       " ('children', 0.0013718958270913248),\n",
       " ('urbanization', 0.041288233084469474),\n",
       " ('immigrants', -0.0),\n",
       " ('population', 0.0),\n",
       " ('homeless_dummy', 0.0),\n",
       " ('marr_div_dummy', 0.0),\n",
       " ('malnutrition_dummy', 0.0),\n",
       " ('pov_ind_dummy', -0.0)]"
      ]
     },
     "execution_count": 12,
     "metadata": {},
     "output_type": "execute_result"
    }
   ],
   "source": [
    "lasso = Lasso()\n",
    "results = lasso.fit(X_train,y_train)\n",
    "print(f'Lasso test R^2: {lasso.score(X_train,y_train)}')\n",
    "\n",
    "list(zip(X_train.columns,results.coef_))\n"
   ]
  },
  {
   "cell_type": "markdown",
   "metadata": {},
   "source": [
    "Uhhhhh... okay. Let's take that one by one, removing only those that raise the $R^2$."
   ]
  },
  {
   "cell_type": "code",
   "execution_count": 13,
   "metadata": {},
   "outputs": [],
   "source": [
    "X_train_dropping = X_train.drop([\n",
    "    'happy','doc_ratio','below_pov_line','gdp','med_age','med_age_male','total_sex_ratio','hum_freedom',\n",
    "    'econ_freedom','rainfall','eth_div','ling_div','relig_div','wto','beer','spirits','wine','fem_bmi','male_bmi','r_home_war',\n",
    "    'guns','population','homeless_dummy','marr_div_dummy','malnutrition_dummy','pov_ind_dummy','gen_inequality'],\n",
    "    axis=1)"
   ]
  },
  {
   "cell_type": "code",
   "execution_count": 14,
   "metadata": {},
   "outputs": [],
   "source": [
    "scaler = StandardScaler()\n",
    "X_scaled = scaler.fit_transform(X_train_dropping)"
   ]
  },
  {
   "cell_type": "code",
   "execution_count": 15,
   "metadata": {},
   "outputs": [
    {
     "name": "stderr",
     "output_type": "stream",
     "text": [
      "/anaconda3/lib/python3.7/site-packages/sklearn/model_selection/_search.py:841: DeprecationWarning: The default of the `iid` parameter will change from True to False in version 0.22 and will be removed in 0.24. This will change numeric results when test-set sizes are unequal.\n",
      "  DeprecationWarning)\n"
     ]
    }
   ],
   "source": [
    "lasso = LassoCV(cv = kf)\n",
    "lass_results = lasso.fit(X_scaled,y_train)\n",
    "best_alpha_l_d = lass_results.alpha_\n",
    "\n",
    "ridge = RidgeCV(cv = kf)\n",
    "ridge_results = ridge.fit(X_scaled,y_train)\n",
    "best_alpha_r_d = ridge_results.alpha_"
   ]
  },
  {
   "cell_type": "code",
   "execution_count": 16,
   "metadata": {},
   "outputs": [
    {
     "name": "stdout",
     "output_type": "stream",
     "text": [
      "The mean r2 for OLS is 0.03809061125244956 +- 0.4179302227916538.\n",
      "The mean r2 for lasso is 0.12346740149691356 +- 0.315479271845533.\n",
      "The mean r2 for ridge is 0.09803223359713382 +- 0.34172902391776433.\n"
     ]
    }
   ],
   "source": [
    "model_competition(X_train_dropping,y_train,best_alpha_l_d,best_alpha_r_d)"
   ]
  },
  {
   "cell_type": "markdown",
   "metadata": {},
   "source": [
    "### Cool.\n",
    "The $R^2$ values increased. Let's try dropping a few more things that lasso suggests, just in case - it's the only thing we really can do, given that we are going for interpretability."
   ]
  },
  {
   "cell_type": "code",
   "execution_count": 17,
   "metadata": {},
   "outputs": [],
   "source": [
    "scaler = StandardScaler()\n",
    "X_scaled = scaler.fit_transform(X_train_dropping)"
   ]
  },
  {
   "cell_type": "code",
   "execution_count": 18,
   "metadata": {},
   "outputs": [
    {
     "name": "stdout",
     "output_type": "stream",
     "text": [
      "Lasso test R^2: 0.3917225159867017\n"
     ]
    },
    {
     "data": {
      "text/plain": [
       "[('gdppp', 0.0),\n",
       " ('unemp', -0.06651321651972165),\n",
       " ('med_age_female', 0.0),\n",
       " ('birth_sex_ratio', -0.0),\n",
       " ('literacy', -0.0),\n",
       " ('sunny_hours', -0.0019753529079410523),\n",
       " ('pop_dens', -0.0),\n",
       " ('avg_temp', -0.08168724012227921),\n",
       " ('int_users', -0.06687572155430865),\n",
       " ('alc_cons', 0.5301535854844829),\n",
       " ('oth_alc', 0.0),\n",
       " ('total_bmi', -0.0),\n",
       " ('elevation', -0.0),\n",
       " ('farmers', 0.004724608231239596),\n",
       " ('depression', -0.003919038386959705),\n",
       " ('children', 0.00146846862677663),\n",
       " ('urbanization', 0.035941606185399544),\n",
       " ('immigrants', -0.0)]"
      ]
     },
     "execution_count": 18,
     "metadata": {},
     "output_type": "execute_result"
    }
   ],
   "source": [
    "lasso = Lasso(alpha=1.5)\n",
    "results = lasso.fit(X_train_dropping,y_train)\n",
    "print(f'Lasso test R^2: {lasso.score(X_train_dropping,y_train)}')\n",
    "\n",
    "list(zip(X_train_dropping.columns,results.coef_))"
   ]
  },
  {
   "cell_type": "code",
   "execution_count": 19,
   "metadata": {},
   "outputs": [],
   "source": [
    "X_train_dropping_2 = X_train_dropping.drop(['med_age_female','gdppp','literacy','pop_dens','oth_alc',\n",
    "                                            'immigrants','sunny_hours','farmers','children'],axis=1)"
   ]
  },
  {
   "cell_type": "code",
   "execution_count": 20,
   "metadata": {},
   "outputs": [
    {
     "name": "stderr",
     "output_type": "stream",
     "text": [
      "/anaconda3/lib/python3.7/site-packages/sklearn/model_selection/_search.py:841: DeprecationWarning: The default of the `iid` parameter will change from True to False in version 0.22 and will be removed in 0.24. This will change numeric results when test-set sizes are unequal.\n",
      "  DeprecationWarning)\n"
     ]
    }
   ],
   "source": [
    "scaler = StandardScaler()\n",
    "X_scaled = scaler.fit_transform(X_train_dropping_2) \n",
    "\n",
    "lasso = LassoCV(cv = kf,max_iter=100000)\n",
    "lass_results = lasso.fit(X_scaled,y_train)\n",
    "best_alpha_l_d2 = lass_results.alpha_\n",
    "\n",
    "ridge = RidgeCV(cv = kf)\n",
    "ridge_results = ridge.fit(X_scaled,y_train)\n",
    "best_alpha_r_d2 = ridge_results.alpha_"
   ]
  },
  {
   "cell_type": "code",
   "execution_count": 21,
   "metadata": {},
   "outputs": [
    {
     "name": "stdout",
     "output_type": "stream",
     "text": [
      "The mean r2 for OLS is 0.16521922720787563 +- 0.34692008466843205.\n",
      "The mean r2 for lasso is 0.16515854733515795 +- 0.34624015009450815.\n",
      "The mean r2 for ridge is 0.16730904672194555 +- 0.3229960483938119.\n"
     ]
    }
   ],
   "source": [
    "model_competition(X_train_dropping_2,y_train,best_alpha_l_d2,best_alpha_r_d2)"
   ]
  },
  {
   "cell_type": "markdown",
   "metadata": {},
   "source": [
    "### Cool, higher $R^2$.\n",
    "So lasso is our best model right now. But if we try it on test..."
   ]
  },
  {
   "cell_type": "code",
   "execution_count": 22,
   "metadata": {},
   "outputs": [],
   "source": [
    "X_test_dropping = X_test.drop(['happy','doc_ratio','below_pov_line','gdp','med_age','med_age_male','total_sex_ratio',\n",
    "                               'hum_freedom','econ_freedom','rainfall','eth_div','ling_div','relig_div','wto','wine',\n",
    "                               'fem_bmi','male_bmi','r_home_war','guns','population','homeless_dummy',\n",
    "                               'marr_div_dummy','malnutrition_dummy','pov_ind_dummy','gen_inequality',\n",
    "                               'med_age_female','gdppp','literacy','pop_dens','spirits','oth_alc','immigrants',\n",
    "                               'sunny_hours','beer','farmers','children'],axis=1)"
   ]
  },
  {
   "cell_type": "code",
   "execution_count": 23,
   "metadata": {},
   "outputs": [],
   "source": [
    "scaler = StandardScaler()\n",
    "X_scaled = scaler.fit_transform(X_train_dropping_2)\n",
    "X_test_d_scaled = scaler.transform(X_test_dropping)\n",
    "\n",
    "\n",
    "lasso = LassoCV(cv = kf,max_iter=100000)\n",
    "lass_results = lasso.fit(X_scaled,y_train)\n",
    "best_alpha_l_d = lass_results.alpha_"
   ]
  },
  {
   "cell_type": "code",
   "execution_count": 24,
   "metadata": {},
   "outputs": [
    {
     "name": "stdout",
     "output_type": "stream",
     "text": [
      "Lasso Regression test R^2: -94.68904655088642\n"
     ]
    }
   ],
   "source": [
    "lasso = Lasso(alpha=best_alpha_l_d)\n",
    "results = lasso.fit(X_train_dropping_2,y_train)\n",
    "print(f'Lasso Regression test R^2: {lasso.score(X_test_d_scaled,y_test)}')"
   ]
  },
  {
   "cell_type": "markdown",
   "metadata": {},
   "source": [
    "# Big oof.\n",
    "What went wrong? Too few samples! Ridge and lasso don't work well if you have too little data. I guess that means we have to rely on naïve OLS, which was not affected by dropping the last thing. Let's try dropping more, just in case."
   ]
  },
  {
   "cell_type": "code",
   "execution_count": 25,
   "metadata": {},
   "outputs": [
    {
     "name": "stdout",
     "output_type": "stream",
     "text": [
      "Lasso test R^2: 0.38521457241003665\n"
     ]
    },
    {
     "data": {
      "text/plain": [
       "[('unemp', -0.08260680562543408),\n",
       " ('birth_sex_ratio', -0.0),\n",
       " ('avg_temp', -0.0920639102532126),\n",
       " ('int_users', -0.09205403534900074),\n",
       " ('alc_cons', 0.6422228652342806),\n",
       " ('total_bmi', -0.08286534431513869),\n",
       " ('elevation', -0.0),\n",
       " ('depression', -0.003960358154899907),\n",
       " ('urbanization', 0.040920484309064316)]"
      ]
     },
     "execution_count": 25,
     "metadata": {},
     "output_type": "execute_result"
    }
   ],
   "source": [
    "lasso = Lasso(alpha=1)\n",
    "results = lasso.fit(X_train_dropping_2,y_train)\n",
    "print(f'Lasso test R^2: {lasso.score(X_train_dropping_2,y_train)}')\n",
    "\n",
    "list(zip(X_train_dropping_2.columns,results.coef_))"
   ]
  },
  {
   "cell_type": "code",
   "execution_count": 26,
   "metadata": {},
   "outputs": [],
   "source": [
    "X_train_keep_dropping = X_train_dropping_2.drop(['birth_sex_ratio'],axis=1)"
   ]
  },
  {
   "cell_type": "code",
   "execution_count": 27,
   "metadata": {},
   "outputs": [
    {
     "name": "stderr",
     "output_type": "stream",
     "text": [
      "/anaconda3/lib/python3.7/site-packages/sklearn/model_selection/_search.py:841: DeprecationWarning: The default of the `iid` parameter will change from True to False in version 0.22 and will be removed in 0.24. This will change numeric results when test-set sizes are unequal.\n",
      "  DeprecationWarning)\n"
     ]
    }
   ],
   "source": [
    "scaler = StandardScaler()\n",
    "X_scaled = scaler.fit_transform(X_train_keep_dropping) \n",
    "\n",
    "lasso = LassoCV(cv = kf,max_iter=100000)\n",
    "lass_results = lasso.fit(X_scaled,y_train)\n",
    "best_alpha_l_kd = lass_results.alpha_\n",
    "\n",
    "ridge = RidgeCV(cv = kf)\n",
    "ridge_results = ridge.fit(X_scaled,y_train)\n",
    "best_alpha_r_kd = ridge_results.alpha_"
   ]
  },
  {
   "cell_type": "code",
   "execution_count": 28,
   "metadata": {},
   "outputs": [
    {
     "name": "stdout",
     "output_type": "stream",
     "text": [
      "The mean r2 for OLS is 0.13696003554572078 +- 0.36245258433652344.\n",
      "The mean r2 for lasso is 0.13691412055103 +- 0.36210612134047576.\n",
      "The mean r2 for ridge is 0.13536097668445835 +- 0.3457587645076947.\n"
     ]
    }
   ],
   "source": [
    "model_competition(X_train_keep_dropping,y_train,best_alpha_l_d2,best_alpha_r_d2)"
   ]
  },
  {
   "cell_type": "markdown",
   "metadata": {},
   "source": [
    "# That didn't work.\n",
    "Let's try dropping at random instead."
   ]
  },
  {
   "cell_type": "code",
   "execution_count": 29,
   "metadata": {},
   "outputs": [
    {
     "data": {
      "text/plain": [
       "Index(['unemp', 'birth_sex_ratio', 'avg_temp', 'int_users', 'alc_cons',\n",
       "       'total_bmi', 'elevation', 'depression', 'urbanization'],\n",
       "      dtype='object')"
      ]
     },
     "execution_count": 29,
     "metadata": {},
     "output_type": "execute_result"
    }
   ],
   "source": [
    "X_train_dropping_2.columns"
   ]
  },
  {
   "cell_type": "code",
   "execution_count": 30,
   "metadata": {},
   "outputs": [],
   "source": [
    "X_train_keep_dropping = X_train_dropping_2.drop([],axis=1)"
   ]
  },
  {
   "cell_type": "code",
   "execution_count": 31,
   "metadata": {},
   "outputs": [
    {
     "name": "stderr",
     "output_type": "stream",
     "text": [
      "/anaconda3/lib/python3.7/site-packages/sklearn/model_selection/_search.py:841: DeprecationWarning: The default of the `iid` parameter will change from True to False in version 0.22 and will be removed in 0.24. This will change numeric results when test-set sizes are unequal.\n",
      "  DeprecationWarning)\n"
     ]
    }
   ],
   "source": [
    "scaler = StandardScaler()\n",
    "X_scaled = scaler.fit_transform(X_train_keep_dropping) \n",
    "\n",
    "lasso = LassoCV(cv = kf,max_iter=100000)\n",
    "lass_results = lasso.fit(X_scaled,y_train)\n",
    "best_alpha_l_kd = lass_results.alpha_\n",
    "\n",
    "ridge = RidgeCV(cv = kf)\n",
    "ridge_results = ridge.fit(X_scaled,y_train)\n",
    "best_alpha_r_kd = ridge_results.alpha_"
   ]
  },
  {
   "cell_type": "code",
   "execution_count": 32,
   "metadata": {},
   "outputs": [
    {
     "name": "stdout",
     "output_type": "stream",
     "text": [
      "The mean r2 for OLS is 0.16521922720787563 +- 0.34692008466843205.\n",
      "The mean r2 for lasso is 0.16515854733515795 +- 0.34624015009450815.\n",
      "The mean r2 for ridge is 0.16730904672194555 +- 0.3229960483938119.\n"
     ]
    }
   ],
   "source": [
    "model_competition(X_train_keep_dropping,y_train,best_alpha_l_d2,best_alpha_r_d2)"
   ]
  },
  {
   "cell_type": "code",
   "execution_count": 33,
   "metadata": {},
   "outputs": [
    {
     "data": {
      "text/plain": [
       "'unemp+birth_sex_ratio+avg_temp+int_users+alc_cons+total_bmi+elevation+depression+urbanization'"
      ]
     },
     "execution_count": 33,
     "metadata": {},
     "output_type": "execute_result"
    }
   ],
   "source": [
    "'+'.join(list(X_train_keep_dropping.columns))"
   ]
  },
  {
   "cell_type": "markdown",
   "metadata": {},
   "source": [
    "# Having maximised our $R^2$...\n",
    "\n",
    "Without needing to drop anything else, let's work on p-values. Significance value of ~.1 let's say."
   ]
  },
  {
   "cell_type": "code",
   "execution_count": 34,
   "metadata": {},
   "outputs": [
    {
     "data": {
      "text/html": [
       "<table class=\"simpletable\">\n",
       "<caption>OLS Regression Results</caption>\n",
       "<tr>\n",
       "  <th>Dep. Variable:</th>        <td>BothSexes</td>    <th>  R-squared:         </th> <td>   0.420</td>\n",
       "</tr>\n",
       "<tr>\n",
       "  <th>Model:</th>                   <td>OLS</td>       <th>  Adj. R-squared:    </th> <td>   0.391</td>\n",
       "</tr>\n",
       "<tr>\n",
       "  <th>Method:</th>             <td>Least Squares</td>  <th>  F-statistic:       </th> <td>   14.27</td>\n",
       "</tr>\n",
       "<tr>\n",
       "  <th>Date:</th>             <td>Fri, 19 Apr 2019</td> <th>  Prob (F-statistic):</th> <td>7.25e-14</td>\n",
       "</tr>\n",
       "<tr>\n",
       "  <th>Time:</th>                 <td>15:58:18</td>     <th>  Log-Likelihood:    </th> <td> -412.25</td>\n",
       "</tr>\n",
       "<tr>\n",
       "  <th>No. Observations:</th>      <td>   146</td>      <th>  AIC:               </th> <td>   840.5</td>\n",
       "</tr>\n",
       "<tr>\n",
       "  <th>Df Residuals:</th>          <td>   138</td>      <th>  BIC:               </th> <td>   864.4</td>\n",
       "</tr>\n",
       "<tr>\n",
       "  <th>Df Model:</th>              <td>     7</td>      <th>                     </th>     <td> </td>   \n",
       "</tr>\n",
       "<tr>\n",
       "  <th>Covariance Type:</th>      <td>nonrobust</td>    <th>                     </th>     <td> </td>   \n",
       "</tr>\n",
       "</table>\n",
       "<table class=\"simpletable\">\n",
       "<tr>\n",
       "         <td></td>            <th>coef</th>     <th>std err</th>      <th>t</th>      <th>P>|t|</th>  <th>[0.025</th>    <th>0.975]</th>  \n",
       "</tr>\n",
       "<tr>\n",
       "  <th>Intercept</th>       <td>   72.8180</td> <td>   18.930</td> <td>    3.847</td> <td> 0.000</td> <td>   35.387</td> <td>  110.249</td>\n",
       "</tr>\n",
       "<tr>\n",
       "  <th>birth_sex_ratio</th> <td>  -45.8606</td> <td>   17.198</td> <td>   -2.667</td> <td> 0.009</td> <td>  -79.867</td> <td>  -11.855</td>\n",
       "</tr>\n",
       "<tr>\n",
       "  <th>avg_temp</th>        <td>   -0.1283</td> <td>    0.058</td> <td>   -2.230</td> <td> 0.027</td> <td>   -0.242</td> <td>   -0.015</td>\n",
       "</tr>\n",
       "<tr>\n",
       "  <th>int_users</th>       <td>   -0.0915</td> <td>    0.023</td> <td>   -4.003</td> <td> 0.000</td> <td>   -0.137</td> <td>   -0.046</td>\n",
       "</tr>\n",
       "<tr>\n",
       "  <th>alc_cons</th>        <td>    0.6871</td> <td>    0.105</td> <td>    6.526</td> <td> 0.000</td> <td>    0.479</td> <td>    0.895</td>\n",
       "</tr>\n",
       "<tr>\n",
       "  <th>total_bmi</th>       <td>   -0.3976</td> <td>    0.180</td> <td>   -2.203</td> <td> 0.029</td> <td>   -0.754</td> <td>   -0.041</td>\n",
       "</tr>\n",
       "<tr>\n",
       "  <th>elevation</th>       <td>   -0.7379</td> <td>    0.398</td> <td>   -1.853</td> <td> 0.066</td> <td>   -1.525</td> <td>    0.049</td>\n",
       "</tr>\n",
       "<tr>\n",
       "  <th>urbanization</th>    <td>    0.0439</td> <td>    0.022</td> <td>    2.035</td> <td> 0.044</td> <td>    0.001</td> <td>    0.087</td>\n",
       "</tr>\n",
       "</table>\n",
       "<table class=\"simpletable\">\n",
       "<tr>\n",
       "  <th>Omnibus:</th>       <td>43.310</td> <th>  Durbin-Watson:     </th> <td>   1.952</td>\n",
       "</tr>\n",
       "<tr>\n",
       "  <th>Prob(Omnibus):</th> <td> 0.000</td> <th>  Jarque-Bera (JB):  </th> <td> 101.824</td>\n",
       "</tr>\n",
       "<tr>\n",
       "  <th>Skew:</th>          <td> 1.231</td> <th>  Prob(JB):          </th> <td>7.75e-23</td>\n",
       "</tr>\n",
       "<tr>\n",
       "  <th>Kurtosis:</th>      <td> 6.267</td> <th>  Cond. No.          </th> <td>6.68e+03</td>\n",
       "</tr>\n",
       "</table><br/><br/>Warnings:<br/>[1] Standard Errors assume that the covariance matrix of the errors is correctly specified.<br/>[2] The condition number is large, 6.68e+03. This might indicate that there are<br/>strong multicollinearity or other numerical problems."
      ],
      "text/plain": [
       "<class 'statsmodels.iolib.summary.Summary'>\n",
       "\"\"\"\n",
       "                            OLS Regression Results                            \n",
       "==============================================================================\n",
       "Dep. Variable:              BothSexes   R-squared:                       0.420\n",
       "Model:                            OLS   Adj. R-squared:                  0.391\n",
       "Method:                 Least Squares   F-statistic:                     14.27\n",
       "Date:                Fri, 19 Apr 2019   Prob (F-statistic):           7.25e-14\n",
       "Time:                        15:58:18   Log-Likelihood:                -412.25\n",
       "No. Observations:                 146   AIC:                             840.5\n",
       "Df Residuals:                     138   BIC:                             864.4\n",
       "Df Model:                           7                                         \n",
       "Covariance Type:            nonrobust                                         \n",
       "===================================================================================\n",
       "                      coef    std err          t      P>|t|      [0.025      0.975]\n",
       "-----------------------------------------------------------------------------------\n",
       "Intercept          72.8180     18.930      3.847      0.000      35.387     110.249\n",
       "birth_sex_ratio   -45.8606     17.198     -2.667      0.009     -79.867     -11.855\n",
       "avg_temp           -0.1283      0.058     -2.230      0.027      -0.242      -0.015\n",
       "int_users          -0.0915      0.023     -4.003      0.000      -0.137      -0.046\n",
       "alc_cons            0.6871      0.105      6.526      0.000       0.479       0.895\n",
       "total_bmi          -0.3976      0.180     -2.203      0.029      -0.754      -0.041\n",
       "elevation          -0.7379      0.398     -1.853      0.066      -1.525       0.049\n",
       "urbanization        0.0439      0.022      2.035      0.044       0.001       0.087\n",
       "==============================================================================\n",
       "Omnibus:                       43.310   Durbin-Watson:                   1.952\n",
       "Prob(Omnibus):                  0.000   Jarque-Bera (JB):              101.824\n",
       "Skew:                           1.231   Prob(JB):                     7.75e-23\n",
       "Kurtosis:                       6.267   Cond. No.                     6.68e+03\n",
       "==============================================================================\n",
       "\n",
       "Warnings:\n",
       "[1] Standard Errors assume that the covariance matrix of the errors is correctly specified.\n",
       "[2] The condition number is large, 6.68e+03. This might indicate that there are\n",
       "strong multicollinearity or other numerical problems.\n",
       "\"\"\""
      ]
     },
     "execution_count": 34,
     "metadata": {},
     "output_type": "execute_result"
    }
   ],
   "source": [
    "model = smf.ols(\"\"\"BothSexes ~ birth_sex_ratio+avg_temp+int_users+alc_cons+total_bmi+elevation+urbanization\"\"\"\n",
    "                     ,data=train_whole)\n",
    "results = model.fit()\n",
    "results.summary()"
   ]
  },
  {
   "cell_type": "markdown",
   "metadata": {},
   "source": [
    "### There were none! Great.\n",
    "But we don't want high p-values, so let's run with it, despite that honestly terrible standard deviation of $R^2$."
   ]
  },
  {
   "cell_type": "code",
   "execution_count": 35,
   "metadata": {},
   "outputs": [],
   "source": [
    "final_cols = ['birth_sex_ratio','avg_temp','int_users','alc_cons','total_bmi','elevation','urbanization']"
   ]
  },
  {
   "cell_type": "code",
   "execution_count": 36,
   "metadata": {},
   "outputs": [],
   "source": [
    "X_train_drop = X_train.drop(X_train.columns.difference(final_cols),axis=1)"
   ]
  },
  {
   "cell_type": "code",
   "execution_count": 37,
   "metadata": {},
   "outputs": [],
   "source": [
    "scaler = StandardScaler()\n",
    "X_scaled = scaler.fit_transform(X_train_drop)\n",
    "lasso = LassoCV(alphas=10**np.linspace(-10,10,1001),cv=kf)\n",
    "results = lasso.fit(X_scaled,y_train)\n",
    "importances = list(zip(X_train_drop.columns,abs(results.coef_)/np.sum(list(abs(results.coef_)))))"
   ]
  },
  {
   "cell_type": "code",
   "execution_count": 38,
   "metadata": {},
   "outputs": [
    {
     "data": {
      "text/html": [
       "<div>\n",
       "<style scoped>\n",
       "    .dataframe tbody tr th:only-of-type {\n",
       "        vertical-align: middle;\n",
       "    }\n",
       "\n",
       "    .dataframe tbody tr th {\n",
       "        vertical-align: top;\n",
       "    }\n",
       "\n",
       "    .dataframe thead th {\n",
       "        text-align: right;\n",
       "    }\n",
       "</style>\n",
       "<table border=\"1\" class=\"dataframe\">\n",
       "  <thead>\n",
       "    <tr style=\"text-align: right;\">\n",
       "      <th></th>\n",
       "      <th>0</th>\n",
       "      <th>1</th>\n",
       "    </tr>\n",
       "  </thead>\n",
       "  <tbody>\n",
       "    <tr>\n",
       "      <th>3</th>\n",
       "      <td>alc_cons</td>\n",
       "      <td>0.284092</td>\n",
       "    </tr>\n",
       "    <tr>\n",
       "      <th>2</th>\n",
       "      <td>int_users</td>\n",
       "      <td>0.253085</td>\n",
       "    </tr>\n",
       "    <tr>\n",
       "      <th>1</th>\n",
       "      <td>avg_temp</td>\n",
       "      <td>0.105119</td>\n",
       "    </tr>\n",
       "    <tr>\n",
       "      <th>0</th>\n",
       "      <td>birth_sex_ratio</td>\n",
       "      <td>0.098516</td>\n",
       "    </tr>\n",
       "    <tr>\n",
       "      <th>6</th>\n",
       "      <td>urbanization</td>\n",
       "      <td>0.098514</td>\n",
       "    </tr>\n",
       "    <tr>\n",
       "      <th>4</th>\n",
       "      <td>total_bmi</td>\n",
       "      <td>0.090439</td>\n",
       "    </tr>\n",
       "    <tr>\n",
       "      <th>5</th>\n",
       "      <td>elevation</td>\n",
       "      <td>0.070236</td>\n",
       "    </tr>\n",
       "  </tbody>\n",
       "</table>\n",
       "</div>"
      ],
      "text/plain": [
       "                 0         1\n",
       "3         alc_cons  0.284092\n",
       "2        int_users  0.253085\n",
       "1         avg_temp  0.105119\n",
       "0  birth_sex_ratio  0.098516\n",
       "6     urbanization  0.098514\n",
       "4        total_bmi  0.090439\n",
       "5        elevation  0.070236"
      ]
     },
     "execution_count": 38,
     "metadata": {},
     "output_type": "execute_result"
    }
   ],
   "source": [
    "pd.DataFrame(importances).sort_values(by=1,ascending=False)"
   ]
  },
  {
   "cell_type": "code",
   "execution_count": 39,
   "metadata": {},
   "outputs": [],
   "source": [
    "X_test_drop = X_test.drop(X_test.columns.difference(final_cols),axis=1)"
   ]
  },
  {
   "cell_type": "code",
   "execution_count": 55,
   "metadata": {},
   "outputs": [
    {
     "name": "stdout",
     "output_type": "stream",
     "text": [
      "OLS test R^2: 0.16959419677607257.\n"
     ]
    }
   ],
   "source": [
    "lm_ols = LinearRegression()\n",
    "results = lm_ols.fit(X_train_drop,y_train)\n",
    "\n",
    "print(f'OLS test R^2: {lm_ols.score(X_test_drop,y_test)}.')"
   ]
  },
  {
   "cell_type": "code",
   "execution_count": 56,
   "metadata": {},
   "outputs": [
    {
     "data": {
      "text/html": [
       "<div>\n",
       "<style scoped>\n",
       "    .dataframe tbody tr th:only-of-type {\n",
       "        vertical-align: middle;\n",
       "    }\n",
       "\n",
       "    .dataframe tbody tr th {\n",
       "        vertical-align: top;\n",
       "    }\n",
       "\n",
       "    .dataframe thead th {\n",
       "        text-align: right;\n",
       "    }\n",
       "</style>\n",
       "<table border=\"1\" class=\"dataframe\">\n",
       "  <thead>\n",
       "    <tr style=\"text-align: right;\">\n",
       "      <th></th>\n",
       "      <th>0</th>\n",
       "      <th>1</th>\n",
       "    </tr>\n",
       "  </thead>\n",
       "  <tbody>\n",
       "    <tr>\n",
       "      <th>0</th>\n",
       "      <td>birth_sex_ratio</td>\n",
       "      <td>-45.860566</td>\n",
       "    </tr>\n",
       "    <tr>\n",
       "      <th>1</th>\n",
       "      <td>avg_temp</td>\n",
       "      <td>-0.128297</td>\n",
       "    </tr>\n",
       "    <tr>\n",
       "      <th>2</th>\n",
       "      <td>int_users</td>\n",
       "      <td>-0.091469</td>\n",
       "    </tr>\n",
       "    <tr>\n",
       "      <th>3</th>\n",
       "      <td>alc_cons</td>\n",
       "      <td>0.687086</td>\n",
       "    </tr>\n",
       "    <tr>\n",
       "      <th>4</th>\n",
       "      <td>total_bmi</td>\n",
       "      <td>-0.397567</td>\n",
       "    </tr>\n",
       "    <tr>\n",
       "      <th>5</th>\n",
       "      <td>elevation</td>\n",
       "      <td>-0.737891</td>\n",
       "    </tr>\n",
       "    <tr>\n",
       "      <th>6</th>\n",
       "      <td>urbanization</td>\n",
       "      <td>0.043897</td>\n",
       "    </tr>\n",
       "  </tbody>\n",
       "</table>\n",
       "</div>"
      ],
      "text/plain": [
       "                 0          1\n",
       "0  birth_sex_ratio -45.860566\n",
       "1         avg_temp  -0.128297\n",
       "2        int_users  -0.091469\n",
       "3         alc_cons   0.687086\n",
       "4        total_bmi  -0.397567\n",
       "5        elevation  -0.737891\n",
       "6     urbanization   0.043897"
      ]
     },
     "execution_count": 56,
     "metadata": {},
     "output_type": "execute_result"
    }
   ],
   "source": [
    "pd.DataFrame(list(zip(X_test_drop.columns,lm_ols.coef_)))"
   ]
  },
  {
   "cell_type": "code",
   "execution_count": 57,
   "metadata": {},
   "outputs": [],
   "source": [
    "predict = lm_ols.predict(X_test_drop)"
   ]
  },
  {
   "cell_type": "code",
   "execution_count": 58,
   "metadata": {},
   "outputs": [
    {
     "data": {
      "text/plain": [
       "1147.546307967178"
      ]
     },
     "execution_count": 58,
     "metadata": {},
     "output_type": "execute_result"
    }
   ],
   "source": [
    "(np.sum((y_test-predict)**2))"
   ]
  },
  {
   "cell_type": "code",
   "execution_count": 59,
   "metadata": {},
   "outputs": [
    {
     "data": {
      "text/plain": [
       "4.18724412316747"
      ]
     },
     "execution_count": 59,
     "metadata": {},
     "output_type": "execute_result"
    }
   ],
   "source": [
    "np.mean(abs((y_test-predict)))"
   ]
  },
  {
   "cell_type": "code",
   "execution_count": 60,
   "metadata": {},
   "outputs": [
    {
     "data": {
      "text/plain": [
       "17.42485027581258"
      ]
     },
     "execution_count": 60,
     "metadata": {},
     "output_type": "execute_result"
    }
   ],
   "source": [
    "np.max(abs(y_test-predict))"
   ]
  },
  {
   "cell_type": "code",
   "execution_count": 61,
   "metadata": {},
   "outputs": [
    {
     "data": {
      "text/plain": [
       "0.3716962043633085"
      ]
     },
     "execution_count": 61,
     "metadata": {},
     "output_type": "execute_result"
    }
   ],
   "source": [
    "np.min(abs(y_test-predict))"
   ]
  },
  {
   "cell_type": "code",
   "execution_count": 62,
   "metadata": {},
   "outputs": [
    {
     "data": {
      "text/plain": [
       "3.671750499856096"
      ]
     },
     "execution_count": 62,
     "metadata": {},
     "output_type": "execute_result"
    }
   ],
   "source": [
    "np.std(abs(y_test-predict))"
   ]
  },
  {
   "cell_type": "code",
   "execution_count": 63,
   "metadata": {},
   "outputs": [
    {
     "data": {
      "text/plain": [
       "3.1219495513423823"
      ]
     },
     "execution_count": 63,
     "metadata": {},
     "output_type": "execute_result"
    }
   ],
   "source": [
    "np.median(abs(y_test-predict))"
   ]
  },
  {
   "cell_type": "markdown",
   "metadata": {},
   "source": [
    "# This is an okay model.\n",
    "While it may be more interpretable, it is worse at predicting by half."
   ]
  },
  {
   "cell_type": "code",
   "execution_count": 64,
   "metadata": {},
   "outputs": [],
   "source": [
    "import seaborn as sns\n",
    "import matplotlib.pyplot as plt"
   ]
  },
  {
   "cell_type": "code",
   "execution_count": 65,
   "metadata": {},
   "outputs": [
    {
     "data": {
      "text/plain": [
       "[<matplotlib.lines.Line2D at 0x105f80278>]"
      ]
     },
     "execution_count": 65,
     "metadata": {},
     "output_type": "execute_result"
    },
    {
     "data": {
      "image/png": "[encoded data removed]",
      "text/plain": [
       "<Figure size 432x288 with 1 Axes>"
      ]
     },
     "metadata": {
      "needs_background": "light"
     },
     "output_type": "display_data"
    }
   ],
   "source": [
    "sns.scatterplot(y_test,predict)\n",
    "plt.xlabel('Actual')\n",
    "plt.ylabel('Predicted')\n",
    "plt.title('Actual v Predicted Suicide Rates',fontdict = {'size':15})\n",
    "plt.xlim(2,30)\n",
    "plt.ylim(2,30)\n",
    "plt.plot([2,30],[2,30],color='k')"
   ]
  },
  {
   "cell_type": "code",
   "execution_count": 66,
   "metadata": {},
   "outputs": [
    {
     "data": {
      "text/plain": [
       "(array([1., 7., 9., 7., 6., 4., 0., 1., 1., 1.]),\n",
       " array([-10.39184008,  -7.61017104,  -4.82850201,  -2.04683297,\n",
       "          0.73483606,   3.5165051 ,   6.29817413,   9.07984317,\n",
       "         11.8615122 ,  14.64318124,  17.42485028]),\n",
       " <a list of 10 Patch objects>)"
      ]
     },
     "execution_count": 66,
     "metadata": {},
     "output_type": "execute_result"
    },
    {
     "data": {
      "image/png": "[encoded data removed]",
      "text/plain": [
       "<Figure size 432x288 with 1 Axes>"
      ]
     },
     "metadata": {
      "needs_background": "light"
     },
     "output_type": "display_data"
    }
   ],
   "source": [
    "plt.hist(y_test-predict)"
   ]
  },
  {
   "cell_type": "code",
   "execution_count": null,
   "metadata": {},
   "outputs": [],
   "source": []
  },
  {
   "cell_type": "code",
   "execution_count": null,
   "metadata": {},
   "outputs": [],
   "source": []
  }
 ],
 "metadata": {
  "kernelspec": {
   "display_name": "Python 3",
   "language": "python",
   "name": "python3"
  },
  "language_info": {
   "codemirror_mode": {
    "name": "ipython",
    "version": 3
   },
   "file_extension": ".py",
   "mimetype": "text/x-python",
   "name": "python",
   "nbconvert_exporter": "python",
   "pygments_lexer": "ipython3",
   "version": "3.7.1"
  }
 },
 "nbformat": 4,
 "nbformat_minor": 2
}
